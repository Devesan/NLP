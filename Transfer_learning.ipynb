{
  "nbformat": 4,
  "nbformat_minor": 0,
  "metadata": {
    "kernelspec": {
      "display_name": "Python 3",
      "language": "python",
      "name": "python3"
    },
    "language_info": {
      "codemirror_mode": {
        "name": "ipython",
        "version": 3
      },
      "file_extension": ".py",
      "mimetype": "text/x-python",
      "name": "python",
      "nbconvert_exporter": "python",
      "pygments_lexer": "ipython3",
      "version": "3.7.3"
    },
    "colab": {
      "name": "Transfer learning.ipynb",
      "provenance": [],
      "collapsed_sections": [
        "hQDv2TYpJCGF",
        "eGRaowOCZuhG",
        "ZPY9r_4da8qA",
        "0vCsJ5fUblDt",
        "Vinb7_gwdavu",
        "8gluHqlYJCGL",
        "Do-AmdyzJCGP",
        "UBQKcFqM1vhG",
        "pN5seMOMJCGS"
      ]
    },
    "accelerator": "GPU"
  },
  "cells": [
    {
      "cell_type": "code",
      "metadata": {
        "colab": {
          "base_uri": "https://localhost:8080/"
        },
        "id": "Hlw7A-VMJCF6",
        "outputId": "612e8433-2fc1-491f-c116-0a6ca5ab5081"
      },
      "source": [
        "import pandas as pd\n",
        "from sklearn.feature_extraction.text import CountVectorizer\n",
        "from sklearn.feature_extraction.text import TfidfVectorizer\n",
        "from sklearn.preprocessing import LabelEncoder\n",
        "from sklearn.model_selection import train_test_split\n",
        "from sklearn.metrics import confusion_matrix\n",
        "from sklearn.metrics import accuracy_score, recall_score, precision_score, f1_score\n",
        "import keras\n",
        "from keras.layers import Dense, Embedding, LSTM, Dropout\n",
        "from keras.models import Sequential\n",
        "from sklearn.feature_extraction.text import CountVectorizer\n",
        "from keras.preprocessing.text import Tokenizer\n",
        "from keras.preprocessing.sequence import pad_sequences\n",
        "from sklearn.model_selection import train_test_split\n",
        "from keras.utils.np_utils import to_categorical\n",
        "from keras.callbacks import EarlyStopping,ModelCheckpoint\n",
        "from nltk.stem import PorterStemmer\n",
        "from nltk.corpus import stopwords\n",
        "import nltk\n",
        "import string\n",
        "import re\n",
        "from nltk.stem.wordnet import WordNetLemmatizer\n",
        "import matplotlib.pyplot as plt\n",
        "import seaborn as sns\n",
        "from keras.callbacks import EarlyStopping\n",
        "import numpy as np\n",
        "from sklearn.metrics import accuracy_score, confusion_matrix,classification_report\n",
        "from sklearn.metrics import confusion_matrix\n",
        "from keras.layers.convolutional import Conv1D\n",
        "from keras.layers import Dense, Input,Reshape,Concatenate,Flatten\n",
        "from keras.layers import MaxPooling1D\n",
        "from keras.models import Sequential, Model, load_model\n",
        "\n",
        "from numpy import loadtxt\n",
        "from keras.models import load_model\n",
        "!pip install tensorflow-hub\n",
        "import tensorflow_hub as hub"
      ],
      "execution_count": null,
      "outputs": [
        {
          "output_type": "stream",
          "text": [
            "Requirement already satisfied: tensorflow-hub in /usr/local/lib/python3.7/dist-packages (0.12.0)\n",
            "Requirement already satisfied: protobuf>=3.8.0 in /usr/local/lib/python3.7/dist-packages (from tensorflow-hub) (3.12.4)\n",
            "Requirement already satisfied: numpy>=1.12.0 in /usr/local/lib/python3.7/dist-packages (from tensorflow-hub) (1.19.5)\n",
            "Requirement already satisfied: six>=1.9 in /usr/local/lib/python3.7/dist-packages (from protobuf>=3.8.0->tensorflow-hub) (1.15.0)\n",
            "Requirement already satisfied: setuptools in /usr/local/lib/python3.7/dist-packages (from protobuf>=3.8.0->tensorflow-hub) (56.0.0)\n"
          ],
          "name": "stdout"
        }
      ]
    },
    {
      "cell_type": "code",
      "metadata": {
        "colab": {
          "base_uri": "https://localhost:8080/"
        },
        "id": "Zgvqe9aAJCF_",
        "outputId": "d8b5b7c1-51b3-4c73-99a2-7aaaf02a0e96"
      },
      "source": [
        "punctuations = string.punctuation\n",
        "nltk.download('wordnet')\n",
        "lem = WordNetLemmatizer()\n",
        " \n",
        "def clean(text):\n",
        " \n",
        " cleaned_text = str(text).lower()\n",
        " cleaned_text = \"\".join(c for c in cleaned_text if c not in punctuations) \n",
        " words = cleaned_text.split() \n",
        " words = [i for i in words if i.isalpha()]\n",
        " pattern = '[0-9]'\n",
        " words = [re.sub(r'[^a-zA-Z]+$', '', i) for i in words]\n",
        " words = [re.sub(pattern, '', i) for i in words]\n",
        " words = \" \".join(words)\n",
        " #words=[stemer.stem(word) for word in words.split(\" \") if words not in stop_words]\n",
        " #words = [lem.lemmatize(word, pos='a') for word in words] \n",
        " cleaned_text = \"\".join(words) \n",
        " return cleaned_text"
      ],
      "execution_count": null,
      "outputs": [
        {
          "output_type": "stream",
          "text": [
            "[nltk_data] Downloading package wordnet to /root/nltk_data...\n",
            "[nltk_data]   Unzipping corpora/wordnet.zip.\n"
          ],
          "name": "stdout"
        }
      ]
    },
    {
      "cell_type": "markdown",
      "metadata": {
        "id": "NY6NfShtOlRD"
      },
      "source": [
        "#Downloading Train and test data"
      ]
    },
    {
      "cell_type": "code",
      "metadata": {
        "colab": {
          "base_uri": "https://localhost:8080/"
        },
        "id": "jz6m83O4ORmE",
        "outputId": "36085a04-5c54-4133-8bc1-f1558a657889"
      },
      "source": [
        "##download test dataset\n",
        "!gdown --id \"1rshUMSv5MJj_nNzXpNWsbkU0Y65UYLJN\"\n",
        "##download test dataset\n",
        "!gdown --id \"10HbGYRRaqvx4RctKIm5o7mmpXAGPVw59\"\n"
      ],
      "execution_count": null,
      "outputs": [
        {
          "output_type": "stream",
          "text": [
            "Downloading...\n",
            "From: https://drive.google.com/uc?id=1rshUMSv5MJj_nNzXpNWsbkU0Y65UYLJN\n",
            "To: /content/test.csv\n",
            "10.1MB [00:00, 21.8MB/s]\n",
            "Downloading...\n",
            "From: https://drive.google.com/uc?id=10HbGYRRaqvx4RctKIm5o7mmpXAGPVw59\n",
            "To: /content/train.csv\n",
            "358MB [00:05, 60.6MB/s]\n"
          ],
          "name": "stdout"
        }
      ]
    },
    {
      "cell_type": "code",
      "metadata": {
        "id": "U_XnfqnTP4IX"
      },
      "source": [
        "trainpath=\"/content/train.csv\"\n",
        "train_data=pd.read_csv(trainpath)\n",
        "testpath=\"/content/test.csv\"\n",
        "test_data=pd.read_csv(testpath)"
      ],
      "execution_count": null,
      "outputs": []
    },
    {
      "cell_type": "markdown",
      "metadata": {
        "id": "3E87srr4T4i-"
      },
      "source": [
        "#Downloading Best models saved during Task1"
      ]
    },
    {
      "cell_type": "markdown",
      "metadata": {
        "id": "288sjke8VYFC"
      },
      "source": [
        "LSTM, Tensorflow_pretrainedmodel, CNN model"
      ]
    },
    {
      "cell_type": "code",
      "metadata": {
        "colab": {
          "base_uri": "https://localhost:8080/"
        },
        "id": "OaOD6ie2KruS",
        "outputId": "b30c400e-9d3e-48dd-d7c2-03898362b51e"
      },
      "source": [
        "#LSTM Model\n",
        "!gdown --id \"1-2Llxr0o-y_8cD8lOLoFHcaJL3I8Kbq_\"\n",
        "#Pretrainedmodel from tensorflow hub\n",
        "!gdown --id \"1auzMzSU9MaWIRoJ2pUBCHX0IPUHev0Bq\"\n",
        "#CNN Model\n",
        "!gdown --id \"1-7bX57WspQicjrS9g4V65_6ApBrAiOJj\"\n"
      ],
      "execution_count": null,
      "outputs": [
        {
          "output_type": "stream",
          "text": [
            "Downloading...\n",
            "From: https://drive.google.com/uc?id=1-2Llxr0o-y_8cD8lOLoFHcaJL3I8Kbq_\n",
            "To: /content/modellstm.h5\n",
            "19.3MB [00:00, 46.5MB/s]\n",
            "Downloading...\n",
            "From: https://drive.google.com/uc?id=1auzMzSU9MaWIRoJ2pUBCHX0IPUHev0Bq\n",
            "To: /content/model_tfpret.h5\n",
            "578MB [00:05, 108MB/s]\n",
            "Downloading...\n",
            "From: https://drive.google.com/uc?id=1-7bX57WspQicjrS9g4V65_6ApBrAiOJj\n",
            "To: /content/modelCNN.h5\n",
            "3.97MB [00:00, 62.8MB/s]\n"
          ],
          "name": "stdout"
        }
      ]
    },
    {
      "cell_type": "code",
      "metadata": {
        "id": "ojFsubRIMH0V"
      },
      "source": [
        "model1=\"/content/modellstm.h5\"\n",
        "model2 = \"/content/model_tfpret.h5\"\n",
        "model3= \"/content/modelCNN.h5\""
      ],
      "execution_count": null,
      "outputs": []
    },
    {
      "cell_type": "code",
      "metadata": {
        "id": "dSzFisvrMNZh",
        "colab": {
          "base_uri": "https://localhost:8080/"
        },
        "outputId": "773b1005-fea6-4875-fff2-44adac5a9385"
      },
      "source": [
        "model_lstm=load_model(model1)\n",
        "model_tfpret=load_model(model2,custom_objects={'KerasLayer':hub.KerasLayer})\n",
        "model_cnn=load_model(model3)\n"
      ],
      "execution_count": null,
      "outputs": [
        {
          "output_type": "stream",
          "text": [
            "WARNING:tensorflow:Layer lstm_2 will not use cuDNN kernel since it doesn't meet the cuDNN kernel criteria. It will use generic GPU kernel as fallback when running on GPU\n"
          ],
          "name": "stdout"
        }
      ]
    },
    {
      "cell_type": "code",
      "metadata": {
        "id": "br4SU7zAJCGB"
      },
      "source": [
        "train_data.dropna(inplace=True)"
      ],
      "execution_count": null,
      "outputs": []
    },
    {
      "cell_type": "code",
      "metadata": {
        "colab": {
          "base_uri": "https://localhost:8080/"
        },
        "id": "5kEgAAEpJCGB",
        "outputId": "7a744ef9-41a9-4f1a-e687-efc79debafdb"
      },
      "source": [
        "train_data.isna().sum()"
      ],
      "execution_count": null,
      "outputs": [
        {
          "output_type": "execute_result",
          "data": {
            "text/plain": [
              "Artist      0\n",
              "Song        0\n",
              "Genre       0\n",
              "Language    0\n",
              "Lyrics      0\n",
              "dtype: int64"
            ]
          },
          "metadata": {
            "tags": []
          },
          "execution_count": 9
        }
      ]
    },
    {
      "cell_type": "code",
      "metadata": {
        "id": "XGjXmr0GJCGC"
      },
      "source": [
        "train_data[\"train_cleanedlyrics\"] = train_data[\"Lyrics\"].apply(clean)"
      ],
      "execution_count": null,
      "outputs": []
    },
    {
      "cell_type": "code",
      "metadata": {
        "id": "xBMjnZXdJCGD"
      },
      "source": [
        "test_data[\"test_cleanedlyrics\"] = test_data[\"Lyrics\"].apply(clean)"
      ],
      "execution_count": null,
      "outputs": []
    },
    {
      "cell_type": "code",
      "metadata": {
        "id": "yj4L2ugXJCGF",
        "colab": {
          "base_uri": "https://localhost:8080/",
          "height": 194
        },
        "outputId": "adeb2b7c-06ef-4575-8467-0e229e15b540"
      },
      "source": [
        "test_data.head()"
      ],
      "execution_count": null,
      "outputs": [
        {
          "output_type": "execute_result",
          "data": {
            "text/html": [
              "<div>\n",
              "<style scoped>\n",
              "    .dataframe tbody tr th:only-of-type {\n",
              "        vertical-align: middle;\n",
              "    }\n",
              "\n",
              "    .dataframe tbody tr th {\n",
              "        vertical-align: top;\n",
              "    }\n",
              "\n",
              "    .dataframe thead th {\n",
              "        text-align: right;\n",
              "    }\n",
              "</style>\n",
              "<table border=\"1\" class=\"dataframe\">\n",
              "  <thead>\n",
              "    <tr style=\"text-align: right;\">\n",
              "      <th></th>\n",
              "      <th>Song</th>\n",
              "      <th>Song year</th>\n",
              "      <th>Artist</th>\n",
              "      <th>Genre</th>\n",
              "      <th>Lyrics</th>\n",
              "      <th>Track_id</th>\n",
              "      <th>test_cleanedlyrics</th>\n",
              "    </tr>\n",
              "  </thead>\n",
              "  <tbody>\n",
              "    <tr>\n",
              "      <th>0</th>\n",
              "      <td>craftsmanship</td>\n",
              "      <td>2005</td>\n",
              "      <td>buck-65</td>\n",
              "      <td>Hip-Hop</td>\n",
              "      <td>Most folks spend their days daydreaming of fin...</td>\n",
              "      <td>8294</td>\n",
              "      <td>most folks spend their days daydreaming of fin...</td>\n",
              "    </tr>\n",
              "    <tr>\n",
              "      <th>1</th>\n",
              "      <td>come-on-out</td>\n",
              "      <td>2012</td>\n",
              "      <td>the-elwins</td>\n",
              "      <td>Indie</td>\n",
              "      <td>Take your cold hands and put them on my face\\n...</td>\n",
              "      <td>21621</td>\n",
              "      <td>take your cold hands and put them on my face s...</td>\n",
              "    </tr>\n",
              "    <tr>\n",
              "      <th>2</th>\n",
              "      <td>riot</td>\n",
              "      <td>2013</td>\n",
              "      <td>bullet-for-my-valentine</td>\n",
              "      <td>Metal</td>\n",
              "      <td>Are you ready it's time for war\\nWe'll break d...</td>\n",
              "      <td>3301</td>\n",
              "      <td>are you ready its time for war well break down...</td>\n",
              "    </tr>\n",
              "    <tr>\n",
              "      <th>3</th>\n",
              "      <td>that-s-what-girls-do</td>\n",
              "      <td>2007</td>\n",
              "      <td>dream-street</td>\n",
              "      <td>Pop</td>\n",
              "      <td>You ask me why I change the color of my hair\\n...</td>\n",
              "      <td>2773</td>\n",
              "      <td>you ask me why i change the color of my hair y...</td>\n",
              "    </tr>\n",
              "    <tr>\n",
              "      <th>4</th>\n",
              "      <td>believe-in-a-dollar</td>\n",
              "      <td>2012</td>\n",
              "      <td>cassidy</td>\n",
              "      <td>Hip-Hop</td>\n",
              "      <td>Do you believe in magic in a young girl's hear...</td>\n",
              "      <td>16797</td>\n",
              "      <td>do you believe in magic in a young girls heart...</td>\n",
              "    </tr>\n",
              "  </tbody>\n",
              "</table>\n",
              "</div>"
            ],
            "text/plain": [
              "                   Song  ...                                 test_cleanedlyrics\n",
              "0         craftsmanship  ...  most folks spend their days daydreaming of fin...\n",
              "1           come-on-out  ...  take your cold hands and put them on my face s...\n",
              "2                  riot  ...  are you ready its time for war well break down...\n",
              "3  that-s-what-girls-do  ...  you ask me why i change the color of my hair y...\n",
              "4   believe-in-a-dollar  ...  do you believe in magic in a young girls heart...\n",
              "\n",
              "[5 rows x 7 columns]"
            ]
          },
          "metadata": {
            "tags": []
          },
          "execution_count": 12
        }
      ]
    },
    {
      "cell_type": "markdown",
      "metadata": {
        "id": "hQDv2TYpJCGF"
      },
      "source": [
        "# Now modifying the Train and test data set as per Artist prediction for applying Transfer Learning"
      ]
    },
    {
      "cell_type": "code",
      "metadata": {
        "colab": {
          "base_uri": "https://localhost:8080/"
        },
        "id": "BOws9Z6DJCGG",
        "outputId": "4f3b8f2a-d78e-441b-ded8-a2ef320616b5"
      },
      "source": [
        "\n",
        "##now evaluating 2nd part of the assignment\n",
        "\n",
        "#train_data=pd.read_csv(\"train.csv\")\n",
        "#test_data=pd.read_csv(\"test.csv\")\n",
        "train_art=pd.DataFrame.copy(train_data)\n",
        "test_art=pd.DataFrame.copy(test_data)\n",
        "train_art=train_art.drop(['Lyrics'], axis=1)\n",
        "train_art.rename(columns={'train_cleanedlyrics':'cleanedlyrics'},inplace=True)\n",
        "test_art=test_art.drop(['Song year','Lyrics','Track_id'],axis=1)\n",
        "test_art.rename(columns={'test_cleanedlyrics':'cleanedlyrics'},inplace=True)\n",
        "print(train_art.shape)\n",
        "print(test_art.shape)\n",
        "\n",
        "\n",
        "\n"
      ],
      "execution_count": null,
      "outputs": [
        {
          "output_type": "stream",
          "text": [
            "(290143, 5)\n",
            "(7935, 4)\n"
          ],
          "name": "stdout"
        }
      ]
    },
    {
      "cell_type": "code",
      "metadata": {
        "colab": {
          "base_uri": "https://localhost:8080/"
        },
        "id": "qxKdpdZ7zqVU",
        "outputId": "5803f655-1811-4a1b-a781-4b4f01cffdbc"
      },
      "source": [
        "test_art"
      ],
      "execution_count": null,
      "outputs": [
        {
          "output_type": "execute_result",
          "data": {
            "text/html": [
              "<div>\n",
              "<style scoped>\n",
              "    .dataframe tbody tr th:only-of-type {\n",
              "        vertical-align: middle;\n",
              "    }\n",
              "\n",
              "    .dataframe tbody tr th {\n",
              "        vertical-align: top;\n",
              "    }\n",
              "\n",
              "    .dataframe thead th {\n",
              "        text-align: right;\n",
              "    }\n",
              "</style>\n",
              "<table border=\"1\" class=\"dataframe\">\n",
              "  <thead>\n",
              "    <tr style=\"text-align: right;\">\n",
              "      <th></th>\n",
              "      <th>Song</th>\n",
              "      <th>Artist</th>\n",
              "      <th>Genre</th>\n",
              "      <th>cleanedlyrics</th>\n",
              "    </tr>\n",
              "  </thead>\n",
              "  <tbody>\n",
              "    <tr>\n",
              "      <th>0</th>\n",
              "      <td>craftsmanship</td>\n",
              "      <td>buck-65</td>\n",
              "      <td>Hip-Hop</td>\n",
              "      <td>most folks spend their days daydreaming of fin...</td>\n",
              "    </tr>\n",
              "    <tr>\n",
              "      <th>1</th>\n",
              "      <td>come-on-out</td>\n",
              "      <td>the-elwins</td>\n",
              "      <td>Indie</td>\n",
              "      <td>take your cold hands and put them on my face s...</td>\n",
              "    </tr>\n",
              "    <tr>\n",
              "      <th>2</th>\n",
              "      <td>riot</td>\n",
              "      <td>bullet-for-my-valentine</td>\n",
              "      <td>Metal</td>\n",
              "      <td>are you ready its time for war well break down...</td>\n",
              "    </tr>\n",
              "    <tr>\n",
              "      <th>3</th>\n",
              "      <td>that-s-what-girls-do</td>\n",
              "      <td>dream-street</td>\n",
              "      <td>Pop</td>\n",
              "      <td>you ask me why i change the color of my hair y...</td>\n",
              "    </tr>\n",
              "    <tr>\n",
              "      <th>4</th>\n",
              "      <td>believe-in-a-dollar</td>\n",
              "      <td>cassidy</td>\n",
              "      <td>Hip-Hop</td>\n",
              "      <td>do you believe in magic in a young girls heart...</td>\n",
              "    </tr>\n",
              "    <tr>\n",
              "      <th>...</th>\n",
              "      <td>...</td>\n",
              "      <td>...</td>\n",
              "      <td>...</td>\n",
              "      <td>...</td>\n",
              "    </tr>\n",
              "    <tr>\n",
              "      <th>7930</th>\n",
              "      <td>too-little-too-late</td>\n",
              "      <td>amanda-marshall</td>\n",
              "      <td>Rock</td>\n",
              "      <td>tuesday night i hear a voice on the telephone ...</td>\n",
              "    </tr>\n",
              "    <tr>\n",
              "      <th>7931</th>\n",
              "      <td>berserker</td>\n",
              "      <td>aurora-borealis</td>\n",
              "      <td>Metal</td>\n",
              "      <td>elite forces cloaked in fur un sensitive to pa...</td>\n",
              "    </tr>\n",
              "    <tr>\n",
              "      <th>7932</th>\n",
              "      <td>natural-born-killaz</td>\n",
              "      <td>dr-dre</td>\n",
              "      <td>Hip-Hop</td>\n",
              "      <td>dr dre journey with me into the mind of a mani...</td>\n",
              "    </tr>\n",
              "    <tr>\n",
              "      <th>7933</th>\n",
              "      <td>wide-awake</td>\n",
              "      <td>chris-cornell</td>\n",
              "      <td>Rock</td>\n",
              "      <td>you can a look a hurricane right in the eye pe...</td>\n",
              "    </tr>\n",
              "    <tr>\n",
              "      <th>7934</th>\n",
              "      <td>god-knows</td>\n",
              "      <td>the-coral</td>\n",
              "      <td>Rock</td>\n",
              "      <td>deal not the truth till you find the proof and...</td>\n",
              "    </tr>\n",
              "  </tbody>\n",
              "</table>\n",
              "<p>7935 rows × 4 columns</p>\n",
              "</div>"
            ],
            "text/plain": [
              "                      Song  ...                                      cleanedlyrics\n",
              "0            craftsmanship  ...  most folks spend their days daydreaming of fin...\n",
              "1              come-on-out  ...  take your cold hands and put them on my face s...\n",
              "2                     riot  ...  are you ready its time for war well break down...\n",
              "3     that-s-what-girls-do  ...  you ask me why i change the color of my hair y...\n",
              "4      believe-in-a-dollar  ...  do you believe in magic in a young girls heart...\n",
              "...                    ...  ...                                                ...\n",
              "7930   too-little-too-late  ...  tuesday night i hear a voice on the telephone ...\n",
              "7931             berserker  ...  elite forces cloaked in fur un sensitive to pa...\n",
              "7932   natural-born-killaz  ...  dr dre journey with me into the mind of a mani...\n",
              "7933            wide-awake  ...  you can a look a hurricane right in the eye pe...\n",
              "7934             god-knows  ...  deal not the truth till you find the proof and...\n",
              "\n",
              "[7935 rows x 4 columns]"
            ]
          },
          "metadata": {
            "tags": []
          },
          "execution_count": 14
        }
      ]
    },
    {
      "cell_type": "markdown",
      "metadata": {
        "id": "eGRaowOCZuhG"
      },
      "source": [
        "#concat Train and Test dataset and considering only one Dataset as a whole for task 2"
      ]
    },
    {
      "cell_type": "code",
      "metadata": {
        "colab": {
          "base_uri": "https://localhost:8080/"
        },
        "id": "wIg5CQpMJCGG",
        "outputId": "ac415169-77d7-4e9c-ff6d-a440bfeaf55e"
      },
      "source": [
        "df_art=pd.concat([train_art,test_art],sort=False)\n",
        "df_art['Artist'].value_counts().sort_values(ascending=False)[:10]\n"
      ],
      "execution_count": null,
      "outputs": [
        {
          "output_type": "execute_result",
          "data": {
            "text/plain": [
              "elvis presley         1611\n",
              "chris brown           1239\n",
              "elvis costello         923\n",
              "ella fitzgerald        874\n",
              "the rolling stones     820\n",
              "bee gees               811\n",
              "glee                   765\n",
              "beyonce                752\n",
              "bad religion           751\n",
              "elton john             728\n",
              "Name: Artist, dtype: int64"
            ]
          },
          "metadata": {
            "tags": []
          },
          "execution_count": 15
        }
      ]
    },
    {
      "cell_type": "code",
      "metadata": {
        "colab": {
          "base_uri": "https://localhost:8080/"
        },
        "id": "gb3yxiyMJCGH",
        "outputId": "804897f1-d582-47e1-be70-921383065a19"
      },
      "source": [
        "df_art['Artist'].value_counts().sort_values(ascending=False)[:10].plot(kind='bar')"
      ],
      "execution_count": null,
      "outputs": [
        {
          "output_type": "execute_result",
          "data": {
            "text/plain": [
              "<matplotlib.axes._subplots.AxesSubplot at 0x7fd655e52b10>"
            ]
          },
          "metadata": {
            "tags": []
          },
          "execution_count": 16
        },
        {
          "output_type": "display_data",
          "data": {
            "image/png": "[encoded data removed]",
            "text/plain": [
              "<Figure size 432x288 with 1 Axes>"
            ]
          },
          "metadata": {
            "tags": [],
            "needs_background": "light"
          }
        }
      ]
    },
    {
      "cell_type": "markdown",
      "metadata": {
        "id": "66ARYWvBZmpw"
      },
      "source": [
        "From the above graph, will keep only top 10 Artists in the df_art dataframe"
      ]
    },
    {
      "cell_type": "code",
      "metadata": {
        "id": "eanRFTZcJCGH"
      },
      "source": [
        "artists_needed=['elvis presley', 'chris brown','elvis costello','ella fitzgerald','the rolling stones','bee gees','glee','beyonce','bad religion','elton john']\n",
        "df_art=df_art[df_art.Artist.isin(artists_needed)]"
      ],
      "execution_count": null,
      "outputs": []
    },
    {
      "cell_type": "code",
      "metadata": {
        "colab": {
          "base_uri": "https://localhost:8080/"
        },
        "id": "yyctFUTvJCGH",
        "outputId": "58cd286b-f46a-4b7c-9f94-9800274eef05"
      },
      "source": [
        "#LabelEncode the Artist column and check the Artist count\n",
        "le = LabelEncoder()\n",
        "df_art['artist_cat']=le.fit_transform(df_art['Artist'])\n",
        "df_art['Artist'].value_counts()\n"
      ],
      "execution_count": null,
      "outputs": [
        {
          "output_type": "execute_result",
          "data": {
            "text/plain": [
              "elvis presley         1611\n",
              "chris brown           1239\n",
              "elvis costello         923\n",
              "ella fitzgerald        874\n",
              "the rolling stones     820\n",
              "bee gees               811\n",
              "glee                   765\n",
              "beyonce                752\n",
              "bad religion           751\n",
              "elton john             728\n",
              "Name: Artist, dtype: int64"
            ]
          },
          "metadata": {
            "tags": []
          },
          "execution_count": 18
        }
      ]
    },
    {
      "cell_type": "code",
      "metadata": {
        "colab": {
          "base_uri": "https://localhost:8080/"
        },
        "id": "WUmw-irGJCGI",
        "outputId": "68c98e57-b37f-4a1b-8896-00c77fe20c03"
      },
      "source": [
        "df_art['artist_cat'].value_counts()"
      ],
      "execution_count": null,
      "outputs": [
        {
          "output_type": "execute_result",
          "data": {
            "text/plain": [
              "7    1611\n",
              "3    1239\n",
              "6     923\n",
              "4     874\n",
              "9     820\n",
              "1     811\n",
              "8     765\n",
              "2     752\n",
              "0     751\n",
              "5     728\n",
              "Name: artist_cat, dtype: int64"
            ]
          },
          "metadata": {
            "tags": []
          },
          "execution_count": 19
        }
      ]
    },
    {
      "cell_type": "code",
      "metadata": {
        "id": "__3TFZtPJCGI"
      },
      "source": [
        "#after labelencoding change in to categorical with 10 classes\n",
        "y_artlyr = to_categorical(df_art['artist_cat'], num_classes=10)"
      ],
      "execution_count": null,
      "outputs": []
    },
    {
      "cell_type": "markdown",
      "metadata": {
        "id": "osuuGxPdaYfN"
      },
      "source": [
        "Applying Tokenization on the cleanedLyrics column"
      ]
    },
    {
      "cell_type": "code",
      "metadata": {
        "colab": {
          "base_uri": "https://localhost:8080/"
        },
        "id": "Ka6Kk8OIJCGI",
        "outputId": "bc5098fb-9bfc-4fc4-a14b-a1284d37c9f7"
      },
      "source": [
        "n_most_common_words = 10000\n",
        "max_len = 50\n",
        "tokenizer = Tokenizer(num_words=n_most_common_words, filters='!\"#$%&()*+,-./:;<=>?@[\\]^_`{|}~', lower=True)\n",
        "tokenizer.fit_on_texts(df_art[\"cleanedlyrics\"].values)\n",
        "sequences = tokenizer.texts_to_sequences(df_art[\"cleanedlyrics\"].values)\n",
        "word_index = tokenizer.word_index\n",
        "print('Found %s unique tokens.' % len(word_index))"
      ],
      "execution_count": null,
      "outputs": [
        {
          "output_type": "stream",
          "text": [
            "Found 28141 unique tokens.\n"
          ],
          "name": "stdout"
        }
      ]
    },
    {
      "cell_type": "markdown",
      "metadata": {
        "id": "aW-arZpaao_o"
      },
      "source": [
        "Padding the sentence length to same size and splitting the dataset in to ratio of 90:10"
      ]
    },
    {
      "cell_type": "code",
      "metadata": {
        "id": "EWevkZ2zJCGJ"
      },
      "source": [
        "x_artlyr = pad_sequences(sequences, maxlen=max_len)\n",
        "x_arttrain, x_artvalid, y_arttrain, y_artvalid = train_test_split(x_artlyr ,y_artlyr , test_size=0.1, random_state=42)\n"
      ],
      "execution_count": null,
      "outputs": []
    },
    {
      "cell_type": "code",
      "metadata": {
        "colab": {
          "base_uri": "https://localhost:8080/"
        },
        "id": "f_jeUIeMJCGJ",
        "outputId": "63318c21-1cc4-49f8-ec8f-bc3efa57253e"
      },
      "source": [
        "y_artlyr"
      ],
      "execution_count": null,
      "outputs": [
        {
          "output_type": "execute_result",
          "data": {
            "text/plain": [
              "array([[1., 0., 0., ..., 0., 0., 0.],\n",
              "       [1., 0., 0., ..., 0., 0., 0.],\n",
              "       [1., 0., 0., ..., 0., 0., 0.],\n",
              "       ...,\n",
              "       [0., 0., 0., ..., 0., 0., 0.],\n",
              "       [0., 0., 1., ..., 0., 0., 0.],\n",
              "       [0., 0., 1., ..., 0., 0., 0.]], dtype=float32)"
            ]
          },
          "metadata": {
            "tags": []
          },
          "execution_count": 23
        }
      ]
    },
    {
      "cell_type": "code",
      "metadata": {
        "colab": {
          "base_uri": "https://localhost:8080/"
        },
        "id": "l-qidQJiJCGK",
        "outputId": "0b2dc8ca-3af1-4492-d762-45a83eebb73e"
      },
      "source": [
        "print(x_artlyr.shape)\n",
        "print(y_artlyr.shape)"
      ],
      "execution_count": null,
      "outputs": [
        {
          "output_type": "stream",
          "text": [
            "(9274, 50)\n",
            "(9274, 10)\n"
          ],
          "name": "stdout"
        }
      ]
    },
    {
      "cell_type": "markdown",
      "metadata": {
        "id": "ZPY9r_4da8qA"
      },
      "source": [
        "#Using the Saved LSTM Model"
      ]
    },
    {
      "cell_type": "code",
      "metadata": {
        "colab": {
          "base_uri": "https://localhost:8080/"
        },
        "id": "1TGf_5l1a62-",
        "outputId": "05d52245-ad5d-4ab6-9260-df17eec726a2"
      },
      "source": [
        "model_lstm.summary()"
      ],
      "execution_count": null,
      "outputs": [
        {
          "output_type": "stream",
          "text": [
            "Model: \"sequential_3\"\n",
            "_________________________________________________________________\n",
            "Layer (type)                 Output Shape              Param #   \n",
            "=================================================================\n",
            "embedding_1 (Embedding)      (None, 50, 150)           1500000   \n",
            "_________________________________________________________________\n",
            "lstm_2 (LSTM)                (None, 100)               100400    \n",
            "_________________________________________________________________\n",
            "dense_6 (Dense)              (None, 16)                1616      \n",
            "_________________________________________________________________\n",
            "dense_7 (Dense)              (None, 10)                170       \n",
            "=================================================================\n",
            "Total params: 1,602,186\n",
            "Trainable params: 1,602,186\n",
            "Non-trainable params: 0\n",
            "_________________________________________________________________\n"
          ],
          "name": "stdout"
        }
      ]
    },
    {
      "cell_type": "markdown",
      "metadata": {
        "id": "0vCsJ5fUblDt"
      },
      "source": [
        "#Using the saved LSTM model to predict on the validation data"
      ]
    },
    {
      "cell_type": "code",
      "metadata": {
        "colab": {
          "base_uri": "https://localhost:8080/"
        },
        "id": "wq4B__67JCGK",
        "outputId": "d6fd0629-8a18-4b3a-819b-9405065017d4"
      },
      "source": [
        "artist_pred = model_lstm.predict_classes(x_artvalid)\n",
        "\n"
      ],
      "execution_count": null,
      "outputs": [
        {
          "output_type": "stream",
          "text": [
            "/usr/local/lib/python3.7/dist-packages/tensorflow/python/keras/engine/sequential.py:450: UserWarning: `model.predict_classes()` is deprecated and will be removed after 2021-01-01. Please use instead:* `np.argmax(model.predict(x), axis=-1)`,   if your model does multi-class classification   (e.g. if it uses a `softmax` last-layer activation).* `(model.predict(x) > 0.5).astype(\"int32\")`,   if your model does binary classification   (e.g. if it uses a `sigmoid` last-layer activation).\n",
            "  warnings.warn('`model.predict_classes()` is deprecated and '\n"
          ],
          "name": "stderr"
        }
      ]
    },
    {
      "cell_type": "code",
      "metadata": {
        "colab": {
          "base_uri": "https://localhost:8080/"
        },
        "id": "HSsjITdJcoib",
        "outputId": "5b3c42a6-b9c8-4e07-91da-530e553a8997"
      },
      "source": [
        "print(\"overall Accuracy score: \", accuracy_score(y_artvalid.argmax(1), artist_pred)) # to convert OHE vector back to label\n",
        "print(\"overall F1 score: \", f1_score(y_artvalid.argmax(1), artist_pred, average = 'weighted'))\n",
        "print(\"overall precision score: \", precision_score(y_artvalid.argmax(1), artist_pred, average = 'weighted'))\n",
        "print(\"overall Recall score: \", recall_score(y_artvalid.argmax(1), artist_pred, average = 'weighted'))"
      ],
      "execution_count": null,
      "outputs": [
        {
          "output_type": "stream",
          "text": [
            "overall Accuracy score:  0.13038793103448276\n",
            "overall F1 score:  0.06460962713714766\n",
            "overall precision score:  0.052952390828644245\n",
            "overall Recall score:  0.13038793103448276\n"
          ],
          "name": "stdout"
        },
        {
          "output_type": "stream",
          "text": [
            "/usr/local/lib/python3.7/dist-packages/sklearn/metrics/_classification.py:1272: UndefinedMetricWarning: Precision is ill-defined and being set to 0.0 in labels with no predicted samples. Use `zero_division` parameter to control this behavior.\n",
            "  _warn_prf(average, modifier, msg_start, len(result))\n"
          ],
          "name": "stderr"
        }
      ]
    },
    {
      "cell_type": "code",
      "metadata": {
        "id": "PMhy153WJCGL"
      },
      "source": [
        "#inverse transform the artist prediction made using saved LSTM model\n",
        "artist_pred_actual=le.inverse_transform(artist_pred)"
      ],
      "execution_count": null,
      "outputs": []
    },
    {
      "cell_type": "code",
      "metadata": {
        "id": "QKbmnKWOJCGL"
      },
      "source": [
        "#inverse the number to actual artists in actual y_valid data\n",
        "y_artvalid_actual=le.inverse_transform(y_artvalid.argmax(axis=1))"
      ],
      "execution_count": null,
      "outputs": []
    },
    {
      "cell_type": "code",
      "metadata": {
        "colab": {
          "base_uri": "https://localhost:8080/"
        },
        "id": "ShYtyuAyJCGL",
        "outputId": "d7e29cdf-a7a0-4797-9c53-30653ae51dfd"
      },
      "source": [
        "##checking classification report of saved model for the prediction of artist using lyrics dataset\n",
        "print(confusion_matrix(y_artvalid_actual,artist_pred_actual))\n",
        "print(classification_report(y_artvalid_actual,artist_pred_actual))"
      ],
      "execution_count": null,
      "outputs": [
        {
          "output_type": "stream",
          "text": [
            "[[ 0  0  0  0  0  0  1 38  0 40]\n",
            " [ 0  0  0  0  0  0  0 32  0 46]\n",
            " [ 0  0  0  0  0  1  0 31  0 41]\n",
            " [ 0  0  0  0  0  0  1 61  0 69]\n",
            " [ 0  0  0  0  0  0  0 44  0 38]\n",
            " [ 0  0  0  0  0  1  0 27  0 29]\n",
            " [ 0  0  0  0  0  1  0 53  0 43]\n",
            " [ 0  0  0  0  0  2  9 77  0 92]\n",
            " [ 0  0  0  0  0  0  0 30  0 37]\n",
            " [ 0  0  0  0  0  1  1 39  0 43]]\n",
            "                    precision    recall  f1-score   support\n",
            "\n",
            "      bad religion       0.00      0.00      0.00        79\n",
            "          bee gees       0.00      0.00      0.00        78\n",
            "           beyonce       0.00      0.00      0.00        73\n",
            "       chris brown       0.00      0.00      0.00       131\n",
            "   ella fitzgerald       0.00      0.00      0.00        82\n",
            "        elton john       0.17      0.02      0.03        57\n",
            "    elvis costello       0.00      0.00      0.00        97\n",
            "     elvis presley       0.18      0.43      0.25       180\n",
            "              glee       0.00      0.00      0.00        67\n",
            "the rolling stones       0.09      0.51      0.15        84\n",
            "\n",
            "          accuracy                           0.13       928\n",
            "         macro avg       0.04      0.10      0.04       928\n",
            "      weighted avg       0.05      0.13      0.06       928\n",
            "\n"
          ],
          "name": "stdout"
        },
        {
          "output_type": "stream",
          "text": [
            "/usr/local/lib/python3.7/dist-packages/sklearn/metrics/_classification.py:1272: UndefinedMetricWarning: Precision and F-score are ill-defined and being set to 0.0 in labels with no predicted samples. Use `zero_division` parameter to control this behavior.\n",
            "  _warn_prf(average, modifier, msg_start, len(result))\n"
          ],
          "name": "stderr"
        }
      ]
    },
    {
      "cell_type": "markdown",
      "metadata": {
        "id": "Vinb7_gwdavu"
      },
      "source": [
        "#Artist prediction using pretrained Tensorflowhub"
      ]
    },
    {
      "cell_type": "code",
      "metadata": {
        "colab": {
          "base_uri": "https://localhost:8080/"
        },
        "id": "HF8I_naydZjY",
        "outputId": "834582d2-c2c7-4fd3-ff1c-cfa409e8f174"
      },
      "source": [
        "##Summary of model pretrained from tensor flow hub\n",
        "model_tfpret.summary()"
      ],
      "execution_count": null,
      "outputs": [
        {
          "output_type": "stream",
          "text": [
            "Model: \"sequential_1\"\n",
            "_________________________________________________________________\n",
            "Layer (type)                 Output Shape              Param #   \n",
            "=================================================================\n",
            "keras_layer_2 (KerasLayer)   (None, 50)                48190600  \n",
            "_________________________________________________________________\n",
            "dense_2 (Dense)              (None, 32)                1632      \n",
            "_________________________________________________________________\n",
            "dense_3 (Dense)              (None, 10)                330       \n",
            "=================================================================\n",
            "Total params: 48,192,562\n",
            "Trainable params: 48,192,562\n",
            "Non-trainable params: 0\n",
            "_________________________________________________________________\n"
          ],
          "name": "stdout"
        }
      ]
    },
    {
      "cell_type": "code",
      "metadata": {
        "id": "B2RoAa7mkCvA"
      },
      "source": [
        "#For pretrained Tensorflow hub, we dont need the lyrics data that was tokenized, \n",
        "#therefore we can store the cleanedlyrics directly to a variable and use that for our train test split\n",
        "textpret=df_art[\"cleanedlyrics\"]\n"
      ],
      "execution_count": null,
      "outputs": []
    },
    {
      "cell_type": "code",
      "metadata": {
        "id": "t2udNxMhiYPh"
      },
      "source": [
        "#train-testsplit on the cleaned lyrics data(not using the tokenized one)\n",
        "x_trainpre, x_validpre, y_trainpre, y_validpre = train_test_split(textpret, y_artlyr , test_size=0.1, random_state=42)"
      ],
      "execution_count": null,
      "outputs": []
    },
    {
      "cell_type": "code",
      "metadata": {
        "colab": {
          "base_uri": "https://localhost:8080/"
        },
        "id": "ygwkDmUdh2S0",
        "outputId": "1d948849-3e30-47a3-d2fa-5c466a87062c"
      },
      "source": [
        "artist_pred = model_tfpret.predict_classes(x_validpre)"
      ],
      "execution_count": null,
      "outputs": [
        {
          "output_type": "stream",
          "text": [
            "/usr/local/lib/python3.7/dist-packages/tensorflow/python/keras/engine/sequential.py:450: UserWarning: `model.predict_classes()` is deprecated and will be removed after 2021-01-01. Please use instead:* `np.argmax(model.predict(x), axis=-1)`,   if your model does multi-class classification   (e.g. if it uses a `softmax` last-layer activation).* `(model.predict(x) > 0.5).astype(\"int32\")`,   if your model does binary classification   (e.g. if it uses a `sigmoid` last-layer activation).\n",
            "  warnings.warn('`model.predict_classes()` is deprecated and '\n"
          ],
          "name": "stderr"
        }
      ]
    },
    {
      "cell_type": "code",
      "metadata": {
        "colab": {
          "base_uri": "https://localhost:8080/"
        },
        "id": "tstjagCQk9HB",
        "outputId": "348fe61a-e9db-4dd7-f61c-8047d6b53569"
      },
      "source": [
        "print(\"overall Accuracy score: \", accuracy_score(y_validpre.argmax(1), artist_pred)) # to convert OHE vector back to label\n",
        "print(\"overall F1 score: \", f1_score(y_validpre.argmax(1), artist_pred, average = 'weighted'))\n",
        "print(\"overall precision score: \", precision_score(y_validpre.argmax(1), artist_pred, average = 'weighted'))\n",
        "print(\"overall Recall score: \", recall_score(y_validpre.argmax(1), artist_pred, average = 'weighted'))"
      ],
      "execution_count": null,
      "outputs": [
        {
          "output_type": "stream",
          "text": [
            "overall Accuracy score:  0.09482758620689655\n",
            "overall F1 score:  0.02988118684474477\n",
            "overall precision score:  0.018740188278421263\n",
            "overall Recall score:  0.09482758620689655\n"
          ],
          "name": "stdout"
        },
        {
          "output_type": "stream",
          "text": [
            "/usr/local/lib/python3.7/dist-packages/sklearn/metrics/_classification.py:1272: UndefinedMetricWarning: Precision is ill-defined and being set to 0.0 in labels with no predicted samples. Use `zero_division` parameter to control this behavior.\n",
            "  _warn_prf(average, modifier, msg_start, len(result))\n"
          ],
          "name": "stderr"
        }
      ]
    },
    {
      "cell_type": "code",
      "metadata": {
        "id": "785gqZCzk9J3"
      },
      "source": [
        "#inverse transform the artist prediction made using saved LSTM model\n",
        "artist_pred_actual=le.inverse_transform(artist_pred)\n",
        "#inverse the number to actual artists in actual y_valid data\n",
        "y_artvalid_actual=le.inverse_transform(y_validpre.argmax(axis=1))\n"
      ],
      "execution_count": null,
      "outputs": []
    },
    {
      "cell_type": "code",
      "metadata": {
        "colab": {
          "base_uri": "https://localhost:8080/"
        },
        "id": "4KbsaWrwk9Nw",
        "outputId": "e5b08cf3-3cfd-4ee4-ecae-8b390ae183ea"
      },
      "source": [
        "##checking classification report of saved model for the prediction of artist using lyrics dataset\n",
        "print(confusion_matrix(y_artvalid_actual,artist_pred_actual))\n",
        "print(classification_report(y_artvalid_actual,artist_pred_actual))"
      ],
      "execution_count": null,
      "outputs": [
        {
          "output_type": "stream",
          "text": [
            "[[  0   0   0   0   0   0   3  46   0  30]\n",
            " [  0   0   0   0   0   1   0  11   0  66]\n",
            " [  0   0   0   0   1   0   0  65   0   7]\n",
            " [  0   0   0   0   0   0   0 127   0   4]\n",
            " [  0   0   0   0   0  67   0   2   0  13]\n",
            " [  0   0   1   0   0   1   0   2   0  53]\n",
            " [  0   0   0   0   0   1   0   2   0  94]\n",
            " [  0   0   1   0   0   7   0   7   0 165]\n",
            " [  0   0   1   0   0   3   0  40   0  23]\n",
            " [  0   0   0   0   0   0   0   4   0  80]]\n",
            "                    precision    recall  f1-score   support\n",
            "\n",
            "      bad religion       0.00      0.00      0.00        79\n",
            "          bee gees       0.00      0.00      0.00        78\n",
            "           beyonce       0.00      0.00      0.00        73\n",
            "       chris brown       0.00      0.00      0.00       131\n",
            "   ella fitzgerald       0.00      0.00      0.00        82\n",
            "        elton john       0.01      0.02      0.01        57\n",
            "    elvis costello       0.00      0.00      0.00        97\n",
            "     elvis presley       0.02      0.04      0.03       180\n",
            "              glee       0.00      0.00      0.00        67\n",
            "the rolling stones       0.15      0.95      0.26        84\n",
            "\n",
            "          accuracy                           0.09       928\n",
            "         macro avg       0.02      0.10      0.03       928\n",
            "      weighted avg       0.02      0.09      0.03       928\n",
            "\n"
          ],
          "name": "stdout"
        },
        {
          "output_type": "stream",
          "text": [
            "/usr/local/lib/python3.7/dist-packages/sklearn/metrics/_classification.py:1272: UndefinedMetricWarning: Precision and F-score are ill-defined and being set to 0.0 in labels with no predicted samples. Use `zero_division` parameter to control this behavior.\n",
            "  _warn_prf(average, modifier, msg_start, len(result))\n"
          ],
          "name": "stderr"
        }
      ]
    },
    {
      "cell_type": "markdown",
      "metadata": {
        "id": "8gluHqlYJCGL"
      },
      "source": [
        "# Artist Prediction with saved CNN model"
      ]
    },
    {
      "cell_type": "code",
      "metadata": {
        "colab": {
          "base_uri": "https://localhost:8080/"
        },
        "id": "-TT6Gct3JCGM",
        "outputId": "dc1a4406-6359-4136-af96-92b9e398fd45"
      },
      "source": [
        "#CNN model Summary\n",
        "model_cnn.summary()"
      ],
      "execution_count": null,
      "outputs": [
        {
          "output_type": "stream",
          "text": [
            "Model: \"sequential_4\"\n",
            "_________________________________________________________________\n",
            "Layer (type)                 Output Shape              Param #   \n",
            "=================================================================\n",
            "embedding_2 (Embedding)      (None, 50, 32)            320000    \n",
            "_________________________________________________________________\n",
            "conv1d (Conv1D)              (None, 50, 32)            3104      \n",
            "_________________________________________________________________\n",
            "max_pooling1d (MaxPooling1D) (None, 25, 32)            0         \n",
            "_________________________________________________________________\n",
            "flatten (Flatten)            (None, 800)               0         \n",
            "_________________________________________________________________\n",
            "dense_8 (Dense)              (None, 6)                 4806      \n",
            "_________________________________________________________________\n",
            "dense_9 (Dense)              (None, 10)                70        \n",
            "=================================================================\n",
            "Total params: 327,980\n",
            "Trainable params: 327,980\n",
            "Non-trainable params: 0\n",
            "_________________________________________________________________\n"
          ],
          "name": "stdout"
        }
      ]
    },
    {
      "cell_type": "code",
      "metadata": {
        "colab": {
          "base_uri": "https://localhost:8080/"
        },
        "id": "96RMZjWxJCGM",
        "outputId": "713feb5c-32cf-48bc-943c-5df3a5efe8fd"
      },
      "source": [
        "artist_predcnn = model_cnn.predict_classes(x_artvalid)\n",
        "\n",
        "print(\"overall Accuracy score: \", accuracy_score(y_artvalid.argmax(1), artist_predcnn)) # to convert OHE vector back to label\n",
        "print(\"overall F1 score: \", f1_score(y_artvalid.argmax(1), artist_predcnn, average = 'weighted'))\n",
        "print(\"overall Precision score: \", precision_score(y_artvalid.argmax(1), artist_predcnn,average='weighted')) # to convert OHE vector back to label\n",
        "print(\"overall Recall score: \", recall_score(y_artvalid.argmax(1), artist_predcnn, average = 'weighted'))"
      ],
      "execution_count": null,
      "outputs": [
        {
          "output_type": "stream",
          "text": [
            "/usr/local/lib/python3.7/dist-packages/tensorflow/python/keras/engine/sequential.py:450: UserWarning: `model.predict_classes()` is deprecated and will be removed after 2021-01-01. Please use instead:* `np.argmax(model.predict(x), axis=-1)`,   if your model does multi-class classification   (e.g. if it uses a `softmax` last-layer activation).* `(model.predict(x) > 0.5).astype(\"int32\")`,   if your model does binary classification   (e.g. if it uses a `sigmoid` last-layer activation).\n",
            "  warnings.warn('`model.predict_classes()` is deprecated and '\n"
          ],
          "name": "stderr"
        },
        {
          "output_type": "stream",
          "text": [
            "overall Accuracy score:  0.14331896551724138\n",
            "overall F1 score:  0.06722109411708696\n",
            "overall Precision score:  0.04544109524185276\n",
            "overall Recall score:  0.14331896551724138\n"
          ],
          "name": "stdout"
        },
        {
          "output_type": "stream",
          "text": [
            "/usr/local/lib/python3.7/dist-packages/sklearn/metrics/_classification.py:1272: UndefinedMetricWarning: Precision is ill-defined and being set to 0.0 in labels with no predicted samples. Use `zero_division` parameter to control this behavior.\n",
            "  _warn_prf(average, modifier, msg_start, len(result))\n"
          ],
          "name": "stderr"
        }
      ]
    },
    {
      "cell_type": "code",
      "metadata": {
        "id": "rENRPTA7JCGN"
      },
      "source": [
        "#inverse the predicted values to actual artists names\n",
        "artist_predcnn_actual=le.inverse_transform(artist_predcnn)\n",
        "#inverse the number to actual artists names in actual y_valid data\n",
        "y_artvalid_actual=le.inverse_transform(y_artvalid.argmax(axis=1))"
      ],
      "execution_count": null,
      "outputs": []
    },
    {
      "cell_type": "code",
      "metadata": {
        "colab": {
          "base_uri": "https://localhost:8080/"
        },
        "id": "deM-SFeLJCGN",
        "outputId": "b60c8ec8-bc96-4a9f-a2c8-d6f49fa0d0d1"
      },
      "source": [
        "##checking classification report of saved CNN model for the prediction of artist using lyrics dataset\n",
        "print(confusion_matrix(y_artvalid_actual,artist_predcnn_actual))\n",
        "print(classification_report(y_artvalid_actual,artist_predcnn_actual))"
      ],
      "execution_count": null,
      "outputs": [
        {
          "output_type": "stream",
          "text": [
            "[[ 0  0  0  0  0  0  0 45  0 34]\n",
            " [ 0  0  0  0  0  0  0 36  0 42]\n",
            " [ 0  0  0  0  0  0  1 30  0 42]\n",
            " [ 0  0  0  0  0  0  1 58  0 72]\n",
            " [ 0  0  0  0  0  0  0 42  0 40]\n",
            " [ 0  0  0  0  0  0  0 27  0 30]\n",
            " [ 0  0  0  0  0  0  0 54  0 43]\n",
            " [ 0  0  0  0  0  0  5 80  0 95]\n",
            " [ 0  0  0  0  0  0  0 35  0 32]\n",
            " [ 0  0  0  0  0  0  1 30  0 53]]\n",
            "                    precision    recall  f1-score   support\n",
            "\n",
            "      bad religion       0.00      0.00      0.00        79\n",
            "          bee gees       0.00      0.00      0.00        78\n",
            "           beyonce       0.00      0.00      0.00        73\n",
            "       chris brown       0.00      0.00      0.00       131\n",
            "   ella fitzgerald       0.00      0.00      0.00        82\n",
            "        elton john       0.00      0.00      0.00        57\n",
            "    elvis costello       0.00      0.00      0.00        97\n",
            "     elvis presley       0.18      0.44      0.26       180\n",
            "              glee       0.00      0.00      0.00        67\n",
            "the rolling stones       0.11      0.63      0.19        84\n",
            "\n",
            "          accuracy                           0.14       928\n",
            "         macro avg       0.03      0.11      0.04       928\n",
            "      weighted avg       0.05      0.14      0.07       928\n",
            "\n"
          ],
          "name": "stdout"
        },
        {
          "output_type": "stream",
          "text": [
            "/usr/local/lib/python3.7/dist-packages/sklearn/metrics/_classification.py:1272: UndefinedMetricWarning: Precision and F-score are ill-defined and being set to 0.0 in labels with no predicted samples. Use `zero_division` parameter to control this behavior.\n",
            "  _warn_prf(average, modifier, msg_start, len(result))\n"
          ],
          "name": "stderr"
        }
      ]
    },
    {
      "cell_type": "markdown",
      "metadata": {
        "id": "Fuyx_7h4nJBj"
      },
      "source": [
        "Trying to fit and predict the saved model"
      ]
    },
    {
      "cell_type": "code",
      "metadata": {
        "colab": {
          "base_uri": "https://localhost:8080/"
        },
        "id": "Sbq-BvO_JCGO",
        "outputId": "39b7754a-811f-479b-d58b-c3cedce02504"
      },
      "source": [
        "earlystop = EarlyStopping(monitor = 'val_loss',min_delta = 0,patience = 3, verbose = 1,restore_best_weights = True)\n",
        "model_cnn.fit(x_arttrain,y_arttrain,epochs=30, batch_size=500,validation_data=(x_artvalid,y_artvalid),callbacks=[earlystop])"
      ],
      "execution_count": null,
      "outputs": [
        {
          "output_type": "stream",
          "text": [
            "Epoch 1/30\n",
            "17/17 [==============================] - 2s 63ms/step - loss: 2.8062 - accuracy: 0.1476 - val_loss: 2.3893 - val_accuracy: 0.1649\n",
            "Epoch 2/30\n",
            "17/17 [==============================] - 0s 16ms/step - loss: 2.3246 - accuracy: 0.1661 - val_loss: 2.2787 - val_accuracy: 0.1756\n",
            "Epoch 3/30\n",
            "17/17 [==============================] - 0s 18ms/step - loss: 2.2686 - accuracy: 0.1706 - val_loss: 2.2634 - val_accuracy: 0.1800\n",
            "Epoch 4/30\n",
            "17/17 [==============================] - 0s 17ms/step - loss: 2.2522 - accuracy: 0.1754 - val_loss: 2.2557 - val_accuracy: 0.1843\n",
            "Epoch 5/30\n",
            "17/17 [==============================] - 0s 17ms/step - loss: 2.2377 - accuracy: 0.1814 - val_loss: 2.2461 - val_accuracy: 0.1778\n",
            "Epoch 6/30\n",
            "17/17 [==============================] - 0s 16ms/step - loss: 2.2230 - accuracy: 0.1900 - val_loss: 2.2364 - val_accuracy: 0.1778\n",
            "Epoch 7/30\n",
            "17/17 [==============================] - 0s 16ms/step - loss: 2.2077 - accuracy: 0.1963 - val_loss: 2.2266 - val_accuracy: 0.1767\n",
            "Epoch 8/30\n",
            "17/17 [==============================] - 0s 16ms/step - loss: 2.1918 - accuracy: 0.2045 - val_loss: 2.2166 - val_accuracy: 0.1843\n",
            "Epoch 9/30\n",
            "17/17 [==============================] - 0s 16ms/step - loss: 2.1755 - accuracy: 0.2130 - val_loss: 2.2076 - val_accuracy: 0.1864\n",
            "Epoch 10/30\n",
            "17/17 [==============================] - 0s 17ms/step - loss: 2.1576 - accuracy: 0.2202 - val_loss: 2.1971 - val_accuracy: 0.1918\n",
            "Epoch 11/30\n",
            "17/17 [==============================] - 0s 17ms/step - loss: 2.1389 - accuracy: 0.2303 - val_loss: 2.1847 - val_accuracy: 0.1972\n",
            "Epoch 12/30\n",
            "17/17 [==============================] - 0s 17ms/step - loss: 2.1183 - accuracy: 0.2376 - val_loss: 2.1741 - val_accuracy: 0.1961\n",
            "Epoch 13/30\n",
            "17/17 [==============================] - 0s 18ms/step - loss: 2.0965 - accuracy: 0.2481 - val_loss: 2.1588 - val_accuracy: 0.2134\n",
            "Epoch 14/30\n",
            "17/17 [==============================] - 0s 17ms/step - loss: 2.0731 - accuracy: 0.2606 - val_loss: 2.1467 - val_accuracy: 0.2155\n",
            "Epoch 15/30\n",
            "17/17 [==============================] - 0s 17ms/step - loss: 2.0472 - accuracy: 0.2726 - val_loss: 2.1293 - val_accuracy: 0.2328\n",
            "Epoch 16/30\n",
            "17/17 [==============================] - 0s 16ms/step - loss: 2.0198 - accuracy: 0.2842 - val_loss: 2.1118 - val_accuracy: 0.2425\n",
            "Epoch 17/30\n",
            "17/17 [==============================] - 0s 17ms/step - loss: 1.9899 - accuracy: 0.2980 - val_loss: 2.0927 - val_accuracy: 0.2565\n",
            "Epoch 18/30\n",
            "17/17 [==============================] - 0s 17ms/step - loss: 1.9583 - accuracy: 0.3118 - val_loss: 2.0726 - val_accuracy: 0.2662\n",
            "Epoch 19/30\n",
            "17/17 [==============================] - 0s 17ms/step - loss: 1.9244 - accuracy: 0.3285 - val_loss: 2.0497 - val_accuracy: 0.2759\n",
            "Epoch 20/30\n",
            "17/17 [==============================] - 0s 17ms/step - loss: 1.8879 - accuracy: 0.3427 - val_loss: 2.0279 - val_accuracy: 0.2726\n",
            "Epoch 21/30\n",
            "17/17 [==============================] - 0s 18ms/step - loss: 1.8502 - accuracy: 0.3535 - val_loss: 2.0039 - val_accuracy: 0.2780\n",
            "Epoch 22/30\n",
            "17/17 [==============================] - 0s 16ms/step - loss: 1.8103 - accuracy: 0.3654 - val_loss: 1.9796 - val_accuracy: 0.2866\n",
            "Epoch 23/30\n",
            "17/17 [==============================] - 0s 17ms/step - loss: 1.7685 - accuracy: 0.3859 - val_loss: 1.9554 - val_accuracy: 0.3060\n",
            "Epoch 24/30\n",
            "17/17 [==============================] - 0s 16ms/step - loss: 1.7251 - accuracy: 0.4040 - val_loss: 1.9307 - val_accuracy: 0.3200\n",
            "Epoch 25/30\n",
            "17/17 [==============================] - 0s 18ms/step - loss: 1.6812 - accuracy: 0.4206 - val_loss: 1.9045 - val_accuracy: 0.3373\n",
            "Epoch 26/30\n",
            "17/17 [==============================] - 0s 17ms/step - loss: 1.6360 - accuracy: 0.4399 - val_loss: 1.8783 - val_accuracy: 0.3588\n",
            "Epoch 27/30\n",
            "17/17 [==============================] - 0s 16ms/step - loss: 1.5891 - accuracy: 0.4542 - val_loss: 1.8533 - val_accuracy: 0.3707\n",
            "Epoch 28/30\n",
            "17/17 [==============================] - 0s 17ms/step - loss: 1.5428 - accuracy: 0.4673 - val_loss: 1.8281 - val_accuracy: 0.3815\n",
            "Epoch 29/30\n",
            "17/17 [==============================] - 0s 18ms/step - loss: 1.4954 - accuracy: 0.4832 - val_loss: 1.8019 - val_accuracy: 0.4041\n",
            "Epoch 30/30\n",
            "17/17 [==============================] - 0s 17ms/step - loss: 1.4495 - accuracy: 0.5034 - val_loss: 1.7791 - val_accuracy: 0.4149\n"
          ],
          "name": "stdout"
        },
        {
          "output_type": "execute_result",
          "data": {
            "text/plain": [
              "<tensorflow.python.keras.callbacks.History at 0x7fd6552e6890>"
            ]
          },
          "metadata": {
            "tags": []
          },
          "execution_count": 42
        }
      ]
    },
    {
      "cell_type": "code",
      "metadata": {
        "colab": {
          "base_uri": "https://localhost:8080/"
        },
        "id": "V4jNEQ8YJCGO",
        "outputId": "88345d3f-92de-4ee9-e24e-f34c7ee32916"
      },
      "source": [
        "artist_predcnn1 = model_cnn.predict_classes(x_artvalid)\n",
        "\n",
        "print(\"overall Accuracy score: \", accuracy_score(y_artvalid.argmax(1), artist_predcnn1)) # to convert OHE vector back to label\n",
        "print(\"overall F1 score: \", f1_score(y_artvalid.argmax(1), artist_predcnn1, average = 'weighted'))\n",
        "print(\"overall precision score: \", precision_score(y_artvalid.argmax(1), artist_predcnn1, average = 'weighted'))\n",
        "print(\"overall recall score: \", recall_score(y_artvalid.argmax(1), artist_predcnn1, average = 'weighted'))"
      ],
      "execution_count": null,
      "outputs": [
        {
          "output_type": "stream",
          "text": [
            "overall Accuracy score:  0.41487068965517243\n",
            "overall F1 score:  0.36598728189899665\n",
            "overall precision score:  0.364648415557864\n",
            "overall recall score:  0.41487068965517243\n"
          ],
          "name": "stdout"
        },
        {
          "output_type": "stream",
          "text": [
            "/usr/local/lib/python3.7/dist-packages/tensorflow/python/keras/engine/sequential.py:450: UserWarning: `model.predict_classes()` is deprecated and will be removed after 2021-01-01. Please use instead:* `np.argmax(model.predict(x), axis=-1)`,   if your model does multi-class classification   (e.g. if it uses a `softmax` last-layer activation).* `(model.predict(x) > 0.5).astype(\"int32\")`,   if your model does binary classification   (e.g. if it uses a `sigmoid` last-layer activation).\n",
            "  warnings.warn('`model.predict_classes()` is deprecated and '\n",
            "/usr/local/lib/python3.7/dist-packages/sklearn/metrics/_classification.py:1272: UndefinedMetricWarning: Precision is ill-defined and being set to 0.0 in labels with no predicted samples. Use `zero_division` parameter to control this behavior.\n",
            "  _warn_prf(average, modifier, msg_start, len(result))\n"
          ],
          "name": "stderr"
        }
      ]
    },
    {
      "cell_type": "code",
      "metadata": {
        "id": "iBr5QmSBJCGO"
      },
      "source": [
        "artist_predcnn1_actual=le.inverse_transform(artist_predcnn1)"
      ],
      "execution_count": null,
      "outputs": []
    },
    {
      "cell_type": "code",
      "metadata": {
        "colab": {
          "base_uri": "https://localhost:8080/"
        },
        "id": "HRkpYz8wJCGO",
        "outputId": "b101f074-64bc-4d6a-a72a-49f2aca92b53"
      },
      "source": [
        "##checking classification report of saved CNN model for the prediction of artist using lyrics dataset--\n",
        "#Method 2 where used model.fit() and increased the number of epochs\n",
        "print(confusion_matrix(y_artvalid_actual,artist_predcnn1_actual))\n",
        "print(classification_report(y_artvalid_actual,artist_predcnn1_actual))"
      ],
      "execution_count": null,
      "outputs": [
        {
          "output_type": "stream",
          "text": [
            "[[ 43   2   5   0   0   2  10   3   0  14]\n",
            " [  0   4   3   3   3  10   6  37   0  12]\n",
            " [ 11   3  10   7   1   5   9   9   0  18]\n",
            " [  0   2   0  94   0   1   0  34   0   0]\n",
            " [  0   2   4   2   4   4   5  43   0  18]\n",
            " [  0   2   4   2   2   6  26   7   0   8]\n",
            " [  2   3   3   4   2   9  50  15   0   9]\n",
            " [  1   2   4  11   2   6   4 139   0  11]\n",
            " [  4   2   0   8   3   3   2  26   0  19]\n",
            " [  5   1   4   3   0   4   4  28   0  35]]\n",
            "                    precision    recall  f1-score   support\n",
            "\n",
            "      bad religion       0.65      0.54      0.59        79\n",
            "          bee gees       0.17      0.05      0.08        78\n",
            "           beyonce       0.27      0.14      0.18        73\n",
            "       chris brown       0.70      0.72      0.71       131\n",
            "   ella fitzgerald       0.24      0.05      0.08        82\n",
            "        elton john       0.12      0.11      0.11        57\n",
            "    elvis costello       0.43      0.52      0.47        97\n",
            "     elvis presley       0.41      0.77      0.53       180\n",
            "              glee       0.00      0.00      0.00        67\n",
            "the rolling stones       0.24      0.42      0.31        84\n",
            "\n",
            "          accuracy                           0.41       928\n",
            "         macro avg       0.32      0.33      0.31       928\n",
            "      weighted avg       0.36      0.41      0.37       928\n",
            "\n"
          ],
          "name": "stdout"
        },
        {
          "output_type": "stream",
          "text": [
            "/usr/local/lib/python3.7/dist-packages/sklearn/metrics/_classification.py:1272: UndefinedMetricWarning: Precision and F-score are ill-defined and being set to 0.0 in labels with no predicted samples. Use `zero_division` parameter to control this behavior.\n",
            "  _warn_prf(average, modifier, msg_start, len(result))\n"
          ],
          "name": "stderr"
        }
      ]
    },
    {
      "cell_type": "markdown",
      "metadata": {
        "id": "Do-AmdyzJCGP"
      },
      "source": [
        "# Artist Prediction New Model from scratch LSTM and CNN"
      ]
    },
    {
      "cell_type": "code",
      "metadata": {
        "colab": {
          "base_uri": "https://localhost:8080/"
        },
        "id": "WVIQ3QH7JCGP",
        "outputId": "74164d63-d7f2-46b8-9672-fb0dc04e8652"
      },
      "source": [
        "##2nd part generating a model from scratch\n",
        "epochs = 10\n",
        "emb_dim = 150\n",
        "batch_size = 1000\n",
        "model_lstmart = Sequential()\n",
        "model_lstmart.add(Embedding(n_most_common_words, emb_dim, input_length=x_artlyr.shape[1]))\n",
        "model_lstmart.add(LSTM(100, dropout=0.15, recurrent_dropout=0.15))\n",
        "Dense(16, activation='relu')\n",
        "model_lstmart.add(Dense(10, activation='softmax'))\n",
        "model_lstmart.compile(optimizer='adam', loss='categorical_crossentropy', metrics=['acc'])\n",
        "print(model_lstmart.summary())\n",
        "\n"
      ],
      "execution_count": null,
      "outputs": [
        {
          "output_type": "stream",
          "text": [
            "WARNING:tensorflow:Layer lstm will not use cuDNN kernel since it doesn't meet the cuDNN kernel criteria. It will use generic GPU kernel as fallback when running on GPU\n"
          ],
          "name": "stdout"
        },
        {
          "output_type": "stream",
          "text": [
            "WARNING:tensorflow:Layer lstm will not use cuDNN kernel since it doesn't meet the cuDNN kernel criteria. It will use generic GPU kernel as fallback when running on GPU\n"
          ],
          "name": "stderr"
        },
        {
          "output_type": "stream",
          "text": [
            "Model: \"sequential\"\n",
            "_________________________________________________________________\n",
            "Layer (type)                 Output Shape              Param #   \n",
            "=================================================================\n",
            "embedding (Embedding)        (None, 50, 150)           1500000   \n",
            "_________________________________________________________________\n",
            "lstm (LSTM)                  (None, 100)               100400    \n",
            "_________________________________________________________________\n",
            "dense_1 (Dense)              (None, 10)                1010      \n",
            "=================================================================\n",
            "Total params: 1,601,410\n",
            "Trainable params: 1,601,410\n",
            "Non-trainable params: 0\n",
            "_________________________________________________________________\n",
            "None\n"
          ],
          "name": "stdout"
        }
      ]
    },
    {
      "cell_type": "code",
      "metadata": {
        "colab": {
          "base_uri": "https://localhost:8080/"
        },
        "id": "fpF90j-JJCGQ",
        "outputId": "887a633a-b0e1-4e7e-adee-ba45102d79ef"
      },
      "source": [
        "#fitting the model for artist dataset where model is built from scratch\n",
        "hist_lstmart=model_lstmart.fit(x_arttrain,y_arttrain,epochs=10, batch_size=1000,validation_data=(x_artvalid,y_artvalid),callbacks=[earlystop])"
      ],
      "execution_count": null,
      "outputs": [
        {
          "output_type": "stream",
          "text": [
            "Epoch 1/10\n",
            "9/9 [==============================] - 7s 403ms/step - loss: 2.2964 - acc: 0.1480 - val_loss: 2.2486 - val_acc: 0.1940\n",
            "Epoch 2/10\n",
            "9/9 [==============================] - 3s 338ms/step - loss: 2.2473 - acc: 0.1735 - val_loss: 2.2008 - val_acc: 0.2672\n",
            "Epoch 3/10\n",
            "9/9 [==============================] - 3s 330ms/step - loss: 2.1660 - acc: 0.2598 - val_loss: 1.9999 - val_acc: 0.2899\n",
            "Epoch 4/10\n",
            "9/9 [==============================] - 3s 327ms/step - loss: 1.9571 - acc: 0.2716 - val_loss: 1.8634 - val_acc: 0.3308\n",
            "Epoch 5/10\n",
            "9/9 [==============================] - 3s 343ms/step - loss: 1.7894 - acc: 0.3568 - val_loss: 1.7306 - val_acc: 0.4019\n",
            "Epoch 6/10\n",
            "9/9 [==============================] - 3s 348ms/step - loss: 1.6206 - acc: 0.4084 - val_loss: 1.6590 - val_acc: 0.4375\n",
            "Epoch 7/10\n",
            "9/9 [==============================] - 3s 342ms/step - loss: 1.4927 - acc: 0.4688 - val_loss: 1.5637 - val_acc: 0.4774\n",
            "Epoch 8/10\n",
            "9/9 [==============================] - 3s 340ms/step - loss: 1.3448 - acc: 0.5298 - val_loss: 1.5038 - val_acc: 0.5129\n",
            "Epoch 9/10\n",
            "9/9 [==============================] - 3s 332ms/step - loss: 1.1950 - acc: 0.6078 - val_loss: 1.4373 - val_acc: 0.5560\n",
            "Epoch 10/10\n",
            "9/9 [==============================] - 3s 322ms/step - loss: 1.0440 - acc: 0.6638 - val_loss: 1.3925 - val_acc: 0.5830\n"
          ],
          "name": "stdout"
        }
      ]
    },
    {
      "cell_type": "code",
      "metadata": {
        "colab": {
          "base_uri": "https://localhost:8080/"
        },
        "id": "p9RT_S5LwC-k",
        "outputId": "242bb261-f66f-4c2c-b2d5-35925a67ed57"
      },
      "source": [
        "##training vs Validation accuracy for Pretrained Glove\n",
        "plt.plot(hist_lstmart.history['acc'])\n",
        "plt.plot(hist_lstmart.history['val_acc'])\n",
        "plt.title('model_LSTM_Artist accuracy')\n",
        "plt.ylabel('accuracy')\n",
        "plt.xlabel('epoch')\n",
        "plt.legend(['train_accuracy','val_accuracy'], loc='upper left')\n",
        "plt.show()\n",
        "\n"
      ],
      "execution_count": null,
      "outputs": [
        {
          "output_type": "display_data",
          "data": {
            "image/png": "[encoded data removed]",
            "text/plain": [
              "<Figure size 432x288 with 1 Axes>"
            ]
          },
          "metadata": {
            "tags": [],
            "needs_background": "light"
          }
        }
      ]
    },
    {
      "cell_type": "code",
      "metadata": {
        "colab": {
          "base_uri": "https://localhost:8080/"
        },
        "id": "D1JTzPUCwDtM",
        "outputId": "77f99845-6a5f-4809-d442-72a95df9d30b"
      },
      "source": [
        "##training vs Validation Loss for Pretrained Glove \n",
        "plt.plot(hist_lstmart.history['loss'])\n",
        "plt.plot(hist_lstmart.history['val_loss'])\n",
        "plt.title('model_LSTM_Artist loss')\n",
        "plt.ylabel('loss')\n",
        "plt.xlabel('epoch')\n",
        "plt.legend(['train_loss','val_loss'], loc='upper left')\n",
        "plt.show()\n"
      ],
      "execution_count": null,
      "outputs": [
        {
          "output_type": "display_data",
          "data": {
            "image/png": "[encoded data removed]",
            "text/plain": [
              "<Figure size 432x288 with 1 Axes>"
            ]
          },
          "metadata": {
            "tags": [],
            "needs_background": "light"
          }
        }
      ]
    },
    {
      "cell_type": "code",
      "metadata": {
        "colab": {
          "base_uri": "https://localhost:8080/"
        },
        "id": "NVO4tjSZJCGQ",
        "outputId": "9259fdc2-5f3d-4851-b54d-21e6e9bb1fdf"
      },
      "source": [
        "artist_pred_newmodel = model_lstmart.predict_classes(x_artvalid)\n",
        "\n",
        "print(\"overall Accuracy score: \", accuracy_score(y_artvalid.argmax(1), artist_pred_newmodel)) # to convert OHE vector back to label\n",
        "print(\"overall F1 score: \", f1_score(y_artvalid.argmax(1), artist_pred_newmodel, average = 'weighted'))\n",
        "print(\"overall Precision score: \", precision_score(y_artvalid.argmax(1), artist_pred_newmodel,average = 'weighted')) # to convert OHE vector back to label\n",
        "print(\"overall Recall score: \", recall_score(y_artvalid.argmax(1), artist_pred_newmodel, average = 'weighted'))"
      ],
      "execution_count": null,
      "outputs": [
        {
          "output_type": "stream",
          "text": [
            "/usr/local/lib/python3.7/dist-packages/tensorflow/python/keras/engine/sequential.py:450: UserWarning: `model.predict_classes()` is deprecated and will be removed after 2021-01-01. Please use instead:* `np.argmax(model.predict(x), axis=-1)`,   if your model does multi-class classification   (e.g. if it uses a `softmax` last-layer activation).* `(model.predict(x) > 0.5).astype(\"int32\")`,   if your model does binary classification   (e.g. if it uses a `sigmoid` last-layer activation).\n",
            "  warnings.warn('`model.predict_classes()` is deprecated and '\n"
          ],
          "name": "stderr"
        },
        {
          "output_type": "stream",
          "text": [
            "overall Accuracy score:  0.5829741379310345\n",
            "overall F1 score:  0.5498774359387546\n",
            "overall Precision score:  0.6082798140729745\n",
            "overall Recall score:  0.5829741379310345\n"
          ],
          "name": "stdout"
        }
      ]
    },
    {
      "cell_type": "code",
      "metadata": {
        "id": "KUz0x4ydJCGR"
      },
      "source": [
        "artist_pred_actual_newmodel=le.inverse_transform(artist_pred_newmodel)"
      ],
      "execution_count": null,
      "outputs": []
    },
    {
      "cell_type": "code",
      "metadata": {
        "colab": {
          "base_uri": "https://localhost:8080/"
        },
        "id": "gxX3YDDFJCGR",
        "outputId": "c8413fb8-ec80-4542-e190-74408d2b6115"
      },
      "source": [
        "#we have already inversed the y_artvalid for the saved modelherefore no need to change it for the new model prediction as we are using same dataset\n",
        "##checking classification report of new model for the prediction of artist using lyrics dataset\n",
        "print(confusion_matrix(y_artvalid_actual,artist_pred_actual_newmodel))\n",
        "print(classification_report(y_artvalid_actual,artist_pred_actual_newmodel))"
      ],
      "execution_count": null,
      "outputs": [
        {
          "output_type": "stream",
          "text": [
            "[[ 71   0   1   2   1   0   4   0   0   0]\n",
            " [  1  30   1   2  13   0   7  13   0  11]\n",
            " [  0   0  52  13   0   0   0   1   0   7]\n",
            " [  0   1   7 120   0   0   0   0   0   3]\n",
            " [  3   9   0   0  32   0  11  15   0  12]\n",
            " [  6   9   2   0   2   1  23   7   0   7]\n",
            " [  7  10   4   1   4   0  62   5   0   4]\n",
            " [  0  15   3   3   7   0   9 126   3  14]\n",
            " [  5   8   8   8   2   0   8   6   5  17]\n",
            " [  2   7   8   8   0   0   7   8   2  42]]\n",
            "                    precision    recall  f1-score   support\n",
            "\n",
            "      bad religion       0.75      0.90      0.82        79\n",
            "          bee gees       0.34      0.38      0.36        78\n",
            "           beyonce       0.60      0.71      0.65        73\n",
            "       chris brown       0.76      0.92      0.83       131\n",
            "   ella fitzgerald       0.52      0.39      0.45        82\n",
            "        elton john       1.00      0.02      0.03        57\n",
            "    elvis costello       0.47      0.64      0.54        97\n",
            "     elvis presley       0.70      0.70      0.70       180\n",
            "              glee       0.50      0.07      0.13        67\n",
            "the rolling stones       0.36      0.50      0.42        84\n",
            "\n",
            "          accuracy                           0.58       928\n",
            "         macro avg       0.60      0.52      0.49       928\n",
            "      weighted avg       0.61      0.58      0.55       928\n",
            "\n"
          ],
          "name": "stdout"
        }
      ]
    },
    {
      "cell_type": "markdown",
      "metadata": {
        "id": "UBQKcFqM1vhG"
      },
      "source": [
        "#Using Pretrained Embedding from Tensorflow hub"
      ]
    },
    {
      "cell_type": "code",
      "metadata": {
        "id": "VLel6GtF14Cn"
      },
      "source": [
        "##loading embedding layer from Tensorflow hub\n",
        "import tensorflow as tf\n",
        "import tensorflow_hub as hub\n",
        "embed_tfhub = \"https://tfhub.dev/google/nnlm-en-dim50/2\"\n",
        "\n",
        "tfhub_layer = hub.KerasLayer(embed_tfhub, input_shape=[], \n",
        "\n",
        "                           dtype=tf.string, trainable=True)"
      ],
      "execution_count": null,
      "outputs": []
    },
    {
      "cell_type": "code",
      "metadata": {
        "colab": {
          "base_uri": "https://localhost:8080/"
        },
        "id": "tL9In9IO2rbc",
        "outputId": "05db897a-5793-481e-ceb7-25283bf148e9"
      },
      "source": [
        "tfhub_layer(x_trainpre[:3])"
      ],
      "execution_count": null,
      "outputs": [
        {
          "output_type": "stream",
          "text": [
            "WARNING:tensorflow:5 out of the last 5 calls to <function recreate_function.<locals>.restored_function_body at 0x7fd5eb0b7950> triggered tf.function retracing. Tracing is expensive and the excessive number of tracings could be due to (1) creating @tf.function repeatedly in a loop, (2) passing tensors with different shapes, (3) passing Python objects instead of tensors. For (1), please define your @tf.function outside of the loop. For (2), @tf.function has experimental_relax_shapes=True option that relaxes argument shapes that can avoid unnecessary retracing. For (3), please refer to https://www.tensorflow.org/guide/function#controlling_retracing and https://www.tensorflow.org/api_docs/python/tf/function for  more details.\n"
          ],
          "name": "stdout"
        },
        {
          "output_type": "stream",
          "text": [
            "WARNING:tensorflow:5 out of the last 5 calls to <function recreate_function.<locals>.restored_function_body at 0x7fd5eb0b7950> triggered tf.function retracing. Tracing is expensive and the excessive number of tracings could be due to (1) creating @tf.function repeatedly in a loop, (2) passing tensors with different shapes, (3) passing Python objects instead of tensors. For (1), please define your @tf.function outside of the loop. For (2), @tf.function has experimental_relax_shapes=True option that relaxes argument shapes that can avoid unnecessary retracing. For (3), please refer to https://www.tensorflow.org/guide/function#controlling_retracing and https://www.tensorflow.org/api_docs/python/tf/function for  more details.\n"
          ],
          "name": "stderr"
        },
        {
          "output_type": "execute_result",
          "data": {
            "text/plain": [
              "<tf.Tensor: shape=(3, 50), dtype=float32, numpy=\n",
              "array([[ 1.04011916e-01,  2.37701484e-03, -6.51618540e-01,\n",
              "         5.69025040e-01,  3.25781167e-01,  2.25311875e-01,\n",
              "         4.29424405e-01, -1.07103117e-01, -8.19068670e-01,\n",
              "         6.46740258e-01,  2.46101901e-01,  3.26229483e-01,\n",
              "         5.34115434e-02,  3.22864860e-01, -4.87616360e-01,\n",
              "        -1.85836330e-01, -4.64574784e-01,  1.12482987e-01,\n",
              "         4.26213831e-01, -9.01385069e-01,  3.39007974e-02,\n",
              "        -1.18042983e-01,  5.84805191e-01, -1.91839393e-02,\n",
              "        -5.43574095e-01,  5.99821866e-01, -1.24744213e+00,\n",
              "        -1.09556302e-01,  3.53179187e-01, -1.62441596e-01,\n",
              "        -3.88565928e-01,  3.64764541e-01,  6.12325966e-01,\n",
              "        -2.25366622e-01, -8.92825425e-01,  1.75801963e-01,\n",
              "         3.56033862e-01,  8.47537245e-04,  1.28857270e-01,\n",
              "        -4.72518414e-01,  6.19573057e-01,  4.14223701e-01,\n",
              "        -1.60512492e-01,  8.19749311e-02, -3.57080907e-01,\n",
              "         2.38854021e-01, -4.33080047e-01, -4.35268700e-01,\n",
              "         9.08632129e-02,  4.81069833e-01],\n",
              "       [ 9.29500103e-01, -9.01605070e-01, -1.20603609e+00,\n",
              "         1.16510189e+00,  5.64162314e-01, -1.70666531e-01,\n",
              "         7.55552232e-01, -1.84957370e-01, -2.18521690e+00,\n",
              "         1.22721159e+00,  1.95689529e-01,  1.23465991e+00,\n",
              "         3.80870610e-01,  7.84599483e-01, -1.58637464e+00,\n",
              "         1.01651408e-01,  4.87153202e-01,  1.11935139e+00,\n",
              "         8.06322634e-01, -1.80612350e+00, -2.77290553e-01,\n",
              "         1.55772075e-01,  1.15412104e+00, -9.14847702e-02,\n",
              "        -4.71172761e-03,  1.25321519e+00, -2.36731482e+00,\n",
              "        -3.78964722e-01,  4.13202077e-01,  3.66488546e-01,\n",
              "        -2.41324574e-01,  1.30549169e+00,  3.28137875e-01,\n",
              "        -1.80447713e-01, -1.72143149e+00, -7.63299167e-01,\n",
              "         5.75051069e-01, -4.48544204e-01,  6.12987399e-01,\n",
              "        -5.61722696e-01,  1.38135016e+00,  3.16030085e-01,\n",
              "        -5.02193332e-01,  7.49309897e-01, -7.69798636e-01,\n",
              "         1.01220572e+00, -1.59225869e+00, -1.01672709e-01,\n",
              "         1.65376925e+00,  1.32216311e+00],\n",
              "       [ 6.80594802e-01, -1.56653288e-03, -3.63956392e-02,\n",
              "         6.12487853e-01,  3.03928610e-02, -5.11853933e-01,\n",
              "         2.83695132e-01,  2.37723216e-01, -7.99974144e-01,\n",
              "         9.23240662e-01, -3.63877136e-03,  6.56276882e-01,\n",
              "         1.74277171e-01, -5.08296527e-02, -6.51457369e-01,\n",
              "        -3.22132975e-01, -9.49013889e-01, -3.98114383e-01,\n",
              "         5.20204544e-01, -9.71993625e-01, -1.41747102e-01,\n",
              "        -6.93012998e-02,  9.69930112e-01, -1.87749751e-02,\n",
              "        -4.46492851e-01,  1.13847601e+00, -1.68920219e+00,\n",
              "         3.99548076e-02,  1.81085870e-01, -1.36809325e+00,\n",
              "        -7.53925502e-01,  3.12495172e-01,  7.91873872e-01,\n",
              "        -8.98606405e-02, -7.85472691e-01,  7.50310943e-02,\n",
              "        -7.09291175e-02, -6.78567410e-01,  3.15683484e-01,\n",
              "        -1.10588002e+00,  3.06844920e-01,  8.40554893e-01,\n",
              "        -7.49750957e-02,  7.85499454e-01, -9.17833894e-02,\n",
              "         7.14989826e-02, -3.43732268e-01, -3.30644250e-01,\n",
              "         2.35539839e-01, -9.57707598e-05]], dtype=float32)>"
            ]
          },
          "metadata": {
            "tags": []
          },
          "execution_count": 54
        }
      ]
    },
    {
      "cell_type": "code",
      "metadata": {
        "colab": {
          "base_uri": "https://localhost:8080/"
        },
        "id": "mGl2m2PH2reu",
        "outputId": "5ba51a9d-e4b0-4375-e498-a65358c2cb1b"
      },
      "source": [
        "##building model\n",
        "model_tfpret_artist = tf.keras.Sequential([\n",
        "    tfhub_layer,Dense(32, activation='relu'),\n",
        "    Dense(10, activation = 'softmax')])\n",
        "model_tfpret_artist.compile(optimizer='adam', loss='categorical_crossentropy', metrics=['acc'])\n",
        "model_tfpret_artist.summary()\n"
      ],
      "execution_count": null,
      "outputs": [
        {
          "output_type": "stream",
          "text": [
            "Model: \"sequential_1\"\n",
            "_________________________________________________________________\n",
            "Layer (type)                 Output Shape              Param #   \n",
            "=================================================================\n",
            "keras_layer (KerasLayer)     (None, 50)                48190600  \n",
            "_________________________________________________________________\n",
            "dense_2 (Dense)              (None, 32)                1632      \n",
            "_________________________________________________________________\n",
            "dense_3 (Dense)              (None, 10)                330       \n",
            "=================================================================\n",
            "Total params: 48,192,562\n",
            "Trainable params: 48,192,562\n",
            "Non-trainable params: 0\n",
            "_________________________________________________________________\n"
          ],
          "name": "stdout"
        }
      ]
    },
    {
      "cell_type": "code",
      "metadata": {
        "colab": {
          "base_uri": "https://localhost:8080/"
        },
        "id": "r03R05iq2rj1",
        "outputId": "c069f593-8ced-4140-d4d4-38d371018f16"
      },
      "source": [
        "hist_tfpret_artist=model_tfpret_artist.fit(x_trainpre, y_trainpre,batch_size=1000, epochs=10, validation_data=(x_validpre, y_validpre),callbacks=[earlystop])"
      ],
      "execution_count": null,
      "outputs": [
        {
          "output_type": "stream",
          "text": [
            "Epoch 1/10\n",
            "9/9 [==============================] - 2s 123ms/step - loss: 2.4098 - acc: 0.0967 - val_loss: 2.2283 - val_acc: 0.1897\n",
            "Epoch 2/10\n",
            "9/9 [==============================] - 1s 99ms/step - loss: 2.2086 - acc: 0.1935 - val_loss: 2.1207 - val_acc: 0.2241\n",
            "Epoch 3/10\n",
            "9/9 [==============================] - 1s 101ms/step - loss: 2.0990 - acc: 0.2288 - val_loss: 2.0339 - val_acc: 0.2931\n",
            "Epoch 4/10\n",
            "9/9 [==============================] - 1s 98ms/step - loss: 1.9971 - acc: 0.3098 - val_loss: 1.9456 - val_acc: 0.3502\n",
            "Epoch 5/10\n",
            "9/9 [==============================] - 1s 98ms/step - loss: 1.9108 - acc: 0.3614 - val_loss: 1.8607 - val_acc: 0.3933\n",
            "Epoch 6/10\n",
            "9/9 [==============================] - 1s 98ms/step - loss: 1.8092 - acc: 0.4103 - val_loss: 1.7726 - val_acc: 0.4407\n",
            "Epoch 7/10\n",
            "9/9 [==============================] - 1s 98ms/step - loss: 1.7137 - acc: 0.4645 - val_loss: 1.6814 - val_acc: 0.4720\n",
            "Epoch 8/10\n",
            "9/9 [==============================] - 1s 99ms/step - loss: 1.5949 - acc: 0.5166 - val_loss: 1.5912 - val_acc: 0.5108\n",
            "Epoch 9/10\n",
            "9/9 [==============================] - 1s 101ms/step - loss: 1.4776 - acc: 0.5691 - val_loss: 1.5042 - val_acc: 0.5399\n",
            "Epoch 10/10\n",
            "9/9 [==============================] - 1s 99ms/step - loss: 1.3791 - acc: 0.6057 - val_loss: 1.4236 - val_acc: 0.5851\n"
          ],
          "name": "stdout"
        }
      ]
    },
    {
      "cell_type": "code",
      "metadata": {
        "colab": {
          "base_uri": "https://localhost:8080/",
          "height": 295
        },
        "id": "CjKKguXu3Zy6",
        "outputId": "db134ee4-4afa-4655-9daf-339014b51011"
      },
      "source": [
        "##training vs Validation accuracy for Pretrained Tendorflow hub\n",
        "plt.plot(hist_tfpret_artist.history['acc'])\n",
        "plt.plot(hist_tfpret_artist.history['val_acc'])\n",
        "plt.title('model_Pretrained Tensorflowhub accuracy')\n",
        "plt.ylabel('accuracy')\n",
        "plt.xlabel('epoch')\n",
        "plt.legend(['train_accuracy','val_accuracy'], loc='upper left')\n",
        "plt.show()\n",
        "\n"
      ],
      "execution_count": null,
      "outputs": [
        {
          "output_type": "display_data",
          "data": {
            "image/png": "[encoded data removed]",
            "text/plain": [
              "<Figure size 432x288 with 1 Axes>"
            ]
          },
          "metadata": {
            "tags": [],
            "needs_background": "light"
          }
        }
      ]
    },
    {
      "cell_type": "code",
      "metadata": {
        "colab": {
          "base_uri": "https://localhost:8080/",
          "height": 295
        },
        "id": "pRJsf52k3Z1b",
        "outputId": "f7ea22d5-e0f8-4d65-8bbf-a72522019fed"
      },
      "source": [
        "##training vs Validation Loss for Pretrained Glove \n",
        "plt.plot(hist_tfpret_artist.history['loss'])\n",
        "plt.plot(hist_tfpret_artist.history['val_loss'])\n",
        "plt.title('model_Pretrained tensorflow hub loss')\n",
        "plt.ylabel('loss')\n",
        "plt.xlabel('epoch')\n",
        "plt.legend(['train_loss','val_loss'], loc='upper left')\n",
        "plt.show()\n"
      ],
      "execution_count": null,
      "outputs": [
        {
          "output_type": "display_data",
          "data": {
            "image/png": "[encoded data removed]",
            "text/plain": [
              "<Figure size 432x288 with 1 Axes>"
            ]
          },
          "metadata": {
            "tags": [],
            "needs_background": "light"
          }
        }
      ]
    },
    {
      "cell_type": "code",
      "metadata": {
        "colab": {
          "base_uri": "https://localhost:8080/"
        },
        "id": "wPUbYPOR3Z4H",
        "outputId": "2ef0382b-74fd-4bba-cd8f-b1a66983caa0"
      },
      "source": [
        "##evaluating on validation data\n",
        "##EVALUATION ON validation DATA USING Pretrained Tensorflowhub\n",
        "actual_testpreds=model_tfpret_artist.predict(x_validpre)\n",
        "actual_testpreds=actual_testpreds.argmax(axis=1)\n",
        "final_testpred=le.inverse_transform(actual_testpreds)\n",
        "y_validpre1=y_validpre.argmax(axis=1)\n",
        "actual_y=le.inverse_transform(y_validpre1)\n",
        "pred_y=final_testpred\n",
        "print(confusion_matrix(actual_y, pred_y))\n",
        "print(classification_report(actual_y, pred_y))"
      ],
      "execution_count": null,
      "outputs": [
        {
          "output_type": "stream",
          "text": [
            "[[ 61   4   0   3   0   1   3   7   0   0]\n",
            " [  3  38   4   0   0   1   3  26   1   2]\n",
            " [  0   1  45  16   1   0   2   6   2   0]\n",
            " [  0   2   6 118   1   0   1   1   2   0]\n",
            " [  1   3   2   0   4   0   3  66   1   2]\n",
            " [  2   5   0   2   0  22   7  12   2   5]\n",
            " [  0   2   6   2   0   0  67  17   2   1]\n",
            " [  2   5   3   2   0   4   1 150   1  12]\n",
            " [  1   4  12  13   0   0   3  28   2   4]\n",
            " [  2   1  14   4   1   1   6  16   3  36]]\n",
            "                    precision    recall  f1-score   support\n",
            "\n",
            "      bad religion       0.85      0.77      0.81        79\n",
            "          bee gees       0.58      0.49      0.53        78\n",
            "           beyonce       0.49      0.62      0.55        73\n",
            "       chris brown       0.74      0.90      0.81       131\n",
            "   ella fitzgerald       0.57      0.05      0.09        82\n",
            "        elton john       0.76      0.39      0.51        57\n",
            "    elvis costello       0.70      0.69      0.69        97\n",
            "     elvis presley       0.46      0.83      0.59       180\n",
            "              glee       0.12      0.03      0.05        67\n",
            "the rolling stones       0.58      0.43      0.49        84\n",
            "\n",
            "          accuracy                           0.59       928\n",
            "         macro avg       0.58      0.52      0.51       928\n",
            "      weighted avg       0.58      0.59      0.55       928\n",
            "\n"
          ],
          "name": "stdout"
        }
      ]
    },
    {
      "cell_type": "code",
      "metadata": {
        "colab": {
          "base_uri": "https://localhost:8080/"
        },
        "id": "V3Cq5S8u3Z8U",
        "outputId": "dff280ff-76e7-4472-f34a-f85d76306cf7"
      },
      "source": [
        "print(\"overall Accuracy score: \", accuracy_score(actual_y,pred_y)) # to convert OHE vector back to label\n",
        "print(\"overall F1 score: \", f1_score(actual_y,pred_y, average = 'weighted'))\n",
        "print(\"overall Precision score: \", precision_score(actual_y,pred_y, average = 'weighted'))\n",
        "print(\"overall Recal score: \", recall_score(actual_y,pred_y, average = 'weighted'))"
      ],
      "execution_count": null,
      "outputs": [
        {
          "output_type": "stream",
          "text": [
            "overall Accuracy score:  0.5851293103448276\n",
            "overall F1 score:  0.5452217301959895\n",
            "overall Precision score:  0.5839031023471328\n",
            "overall Recal score:  0.5851293103448276\n"
          ],
          "name": "stdout"
        }
      ]
    },
    {
      "cell_type": "markdown",
      "metadata": {
        "id": "pN5seMOMJCGS"
      },
      "source": [
        "# Using CNN Model from scratch for Artist Prediction using Lyrics"
      ]
    },
    {
      "cell_type": "code",
      "metadata": {
        "colab": {
          "base_uri": "https://localhost:8080/"
        },
        "id": "UUY7i6yMJCGS",
        "outputId": "4e91b070-9bbb-4f35-f1ae-83945641f565"
      },
      "source": [
        "#CNN Model from scratch and validating its performance\n",
        "### using CNN\n",
        "num_filter = 250\n",
        "filter_length = 3\n",
        "hidden_dim = 250\n",
        "num_epoch = 10\n",
        "use_words=10000\n",
        "modelCNNart = Sequential()\n",
        "modelCNNart.add(Embedding(use_words, 32, input_length=max_len))\n",
        "modelCNNart.add(Conv1D(32, 3, padding='same', activation='relu'))\n",
        "modelCNNart.add(MaxPooling1D())\n",
        "modelCNNart.add(Flatten())\n",
        "modelCNNart.add(Dense(128, activation='relu'))\n",
        "modelCNNart.add(Dense(10, activation='softmax'))\n",
        "modelCNNart.summary()"
      ],
      "execution_count": null,
      "outputs": [
        {
          "output_type": "stream",
          "text": [
            "Model: \"sequential_2\"\n",
            "_________________________________________________________________\n",
            "Layer (type)                 Output Shape              Param #   \n",
            "=================================================================\n",
            "embedding_1 (Embedding)      (None, 50, 32)            320000    \n",
            "_________________________________________________________________\n",
            "conv1d (Conv1D)              (None, 50, 32)            3104      \n",
            "_________________________________________________________________\n",
            "max_pooling1d (MaxPooling1D) (None, 25, 32)            0         \n",
            "_________________________________________________________________\n",
            "flatten (Flatten)            (None, 800)               0         \n",
            "_________________________________________________________________\n",
            "dense_4 (Dense)              (None, 128)               102528    \n",
            "_________________________________________________________________\n",
            "dense_5 (Dense)              (None, 10)                1290      \n",
            "=================================================================\n",
            "Total params: 426,922\n",
            "Trainable params: 426,922\n",
            "Non-trainable params: 0\n",
            "_________________________________________________________________\n"
          ],
          "name": "stdout"
        }
      ]
    },
    {
      "cell_type": "code",
      "metadata": {
        "id": "BNpGtBDRJCGT"
      },
      "source": [
        "modelCNNart.compile(loss='categorical_crossentropy', optimizer='adam', metrics=['accuracy'])"
      ],
      "execution_count": null,
      "outputs": []
    },
    {
      "cell_type": "code",
      "metadata": {
        "colab": {
          "base_uri": "https://localhost:8080/"
        },
        "id": "s4Y-G3eJJCGT",
        "outputId": "ee165220-5d08-4194-87f3-ed684f0efd20"
      },
      "source": [
        "histcnnart=modelCNNart.fit(x_arttrain,y_arttrain,epochs=20, batch_size=1000,validation_data=(x_artvalid,y_artvalid),callbacks=[earlystop])"
      ],
      "execution_count": null,
      "outputs": [
        {
          "output_type": "stream",
          "text": [
            "Epoch 1/20\n",
            "9/9 [==============================] - 1s 55ms/step - loss: 2.2848 - accuracy: 0.1553 - val_loss: 2.2359 - val_accuracy: 0.1940\n",
            "Epoch 2/20\n",
            "9/9 [==============================] - 0s 23ms/step - loss: 2.2539 - accuracy: 0.1651 - val_loss: 2.2230 - val_accuracy: 0.1940\n",
            "Epoch 3/20\n",
            "9/9 [==============================] - 0s 23ms/step - loss: 2.2141 - accuracy: 0.1789 - val_loss: 2.1915 - val_accuracy: 0.2123\n",
            "Epoch 4/20\n",
            "9/9 [==============================] - 0s 23ms/step - loss: 2.1644 - accuracy: 0.2351 - val_loss: 2.1239 - val_accuracy: 0.2780\n",
            "Epoch 5/20\n",
            "9/9 [==============================] - 0s 23ms/step - loss: 2.0681 - accuracy: 0.2621 - val_loss: 2.0008 - val_accuracy: 0.2899\n",
            "Epoch 6/20\n",
            "9/9 [==============================] - 0s 22ms/step - loss: 1.8966 - accuracy: 0.2880 - val_loss: 1.8595 - val_accuracy: 0.3416\n",
            "Epoch 7/20\n",
            "9/9 [==============================] - 0s 21ms/step - loss: 1.6862 - accuracy: 0.4045 - val_loss: 1.7003 - val_accuracy: 0.4504\n",
            "Epoch 8/20\n",
            "9/9 [==============================] - 0s 21ms/step - loss: 1.4589 - accuracy: 0.5592 - val_loss: 1.5568 - val_accuracy: 0.4914\n",
            "Epoch 9/20\n",
            "9/9 [==============================] - 0s 23ms/step - loss: 1.2417 - accuracy: 0.6300 - val_loss: 1.4360 - val_accuracy: 0.5474\n",
            "Epoch 10/20\n",
            "9/9 [==============================] - 0s 21ms/step - loss: 1.0436 - accuracy: 0.7067 - val_loss: 1.3539 - val_accuracy: 0.5679\n",
            "Epoch 11/20\n",
            "9/9 [==============================] - 0s 21ms/step - loss: 0.8813 - accuracy: 0.7758 - val_loss: 1.2689 - val_accuracy: 0.6002\n",
            "Epoch 12/20\n",
            "9/9 [==============================] - 0s 22ms/step - loss: 0.7140 - accuracy: 0.8226 - val_loss: 1.2102 - val_accuracy: 0.6250\n",
            "Epoch 13/20\n",
            "9/9 [==============================] - 0s 24ms/step - loss: 0.5977 - accuracy: 0.8600 - val_loss: 1.1590 - val_accuracy: 0.6390\n",
            "Epoch 14/20\n",
            "9/9 [==============================] - 0s 24ms/step - loss: 0.5019 - accuracy: 0.8900 - val_loss: 1.1442 - val_accuracy: 0.6466\n",
            "Epoch 15/20\n",
            "9/9 [==============================] - 0s 23ms/step - loss: 0.4158 - accuracy: 0.9082 - val_loss: 1.1173 - val_accuracy: 0.6767\n",
            "Epoch 16/20\n",
            "9/9 [==============================] - 0s 22ms/step - loss: 0.3443 - accuracy: 0.9303 - val_loss: 1.1195 - val_accuracy: 0.6800\n",
            "Epoch 17/20\n",
            "9/9 [==============================] - 0s 25ms/step - loss: 0.2972 - accuracy: 0.9405 - val_loss: 1.1169 - val_accuracy: 0.6875\n",
            "Epoch 18/20\n",
            "9/9 [==============================] - 0s 26ms/step - loss: 0.2440 - accuracy: 0.9572 - val_loss: 1.1271 - val_accuracy: 0.6940\n",
            "Epoch 19/20\n",
            "9/9 [==============================] - 0s 26ms/step - loss: 0.2059 - accuracy: 0.9650 - val_loss: 1.1303 - val_accuracy: 0.6983\n",
            "Epoch 20/20\n",
            "9/9 [==============================] - 0s 25ms/step - loss: 0.1713 - accuracy: 0.9750 - val_loss: 1.1241 - val_accuracy: 0.7015\n",
            "Restoring model weights from the end of the best epoch.\n",
            "Epoch 00020: early stopping\n"
          ],
          "name": "stdout"
        }
      ]
    },
    {
      "cell_type": "code",
      "metadata": {
        "colab": {
          "base_uri": "https://localhost:8080/",
          "height": 295
        },
        "id": "-Fs437dM7qHx",
        "outputId": "38a31265-d452-49fe-d220-335bc97d1b7a"
      },
      "source": [
        "##training vs Validation accuracy for CNN Model from scratch on Artist prediction\n",
        "plt.plot(histcnnart.history['accuracy'])\n",
        "plt.plot(histcnnart.history['val_accuracy'])\n",
        "plt.title('model_CNN_Artist accuracy')\n",
        "plt.ylabel('accuracy')\n",
        "plt.xlabel('epoch')\n",
        "plt.legend(['train_accuracy','val_accuracy'], loc='upper left')\n",
        "plt.show()\n",
        "\n",
        "\n"
      ],
      "execution_count": null,
      "outputs": [
        {
          "output_type": "display_data",
          "data": {
            "image/png": "[encoded data removed]",
            "text/plain": [
              "<Figure size 432x288 with 1 Axes>"
            ]
          },
          "metadata": {
            "tags": [],
            "needs_background": "light"
          }
        }
      ]
    },
    {
      "cell_type": "code",
      "metadata": {
        "colab": {
          "base_uri": "https://localhost:8080/",
          "height": 295
        },
        "id": "23RIRk8m7qLP",
        "outputId": "24fc7e6f-f7bc-4c0f-fb92-a98872b0925d"
      },
      "source": [
        "##training vs Validation Loss for Pretrained Glove \n",
        "plt.plot(histcnnart.history['loss'])\n",
        "plt.plot(histcnnart.history['val_loss'])\n",
        "plt.title('model_CNN_Artist loss')\n",
        "plt.ylabel('loss')\n",
        "plt.xlabel('epoch')\n",
        "plt.legend(['train_loss','val_loss'], loc='upper left')\n",
        "plt.show()"
      ],
      "execution_count": null,
      "outputs": [
        {
          "output_type": "display_data",
          "data": {
            "image/png": "[encoded data removed]",
            "text/plain": [
              "<Figure size 432x288 with 1 Axes>"
            ]
          },
          "metadata": {
            "tags": [],
            "needs_background": "light"
          }
        }
      ]
    },
    {
      "cell_type": "code",
      "metadata": {
        "colab": {
          "base_uri": "https://localhost:8080/"
        },
        "id": "3_0XO0uDJCGT",
        "outputId": "82f33746-cf11-43f7-b68e-cba7466398b8"
      },
      "source": [
        "artist_pred_newmodelcnn = modelCNNart.predict_classes(x_artvalid)\n",
        "\n",
        "print(\"overall Accuracy score: \", accuracy_score(y_artvalid.argmax(1), artist_pred_newmodelcnn)) # to convert OHE vector back to label\n",
        "print(\"overall F1 score: \", f1_score(y_artvalid.argmax(1), artist_pred_newmodelcnn, average = 'weighted'))\n",
        "print(\"overall Precision score: \", precision_score(y_artvalid.argmax(1), artist_pred_newmodelcnn, average = 'weighted'))\n",
        "print(\"overall Recal score: \", recall_score(y_artvalid.argmax(1), artist_pred_newmodelcnn, average = 'weighted'))"
      ],
      "execution_count": null,
      "outputs": [
        {
          "output_type": "stream",
          "text": [
            "overall Accuracy score:  0.6875\n",
            "overall F1 score:  0.6833312083148894\n",
            "overall Precision score:  0.6914684507310348\n",
            "overall Recal score:  0.6875\n"
          ],
          "name": "stdout"
        },
        {
          "output_type": "stream",
          "text": [
            "/usr/local/lib/python3.7/dist-packages/tensorflow/python/keras/engine/sequential.py:450: UserWarning: `model.predict_classes()` is deprecated and will be removed after 2021-01-01. Please use instead:* `np.argmax(model.predict(x), axis=-1)`,   if your model does multi-class classification   (e.g. if it uses a `softmax` last-layer activation).* `(model.predict(x) > 0.5).astype(\"int32\")`,   if your model does binary classification   (e.g. if it uses a `sigmoid` last-layer activation).\n",
            "  warnings.warn('`model.predict_classes()` is deprecated and '\n"
          ],
          "name": "stderr"
        }
      ]
    },
    {
      "cell_type": "code",
      "metadata": {
        "id": "vSZqu4_ZJCGU"
      },
      "source": [
        "artist_pred_newmodelcnn_actual=le.inverse_transform(artist_pred_newmodelcnn)"
      ],
      "execution_count": null,
      "outputs": []
    },
    {
      "cell_type": "code",
      "metadata": {
        "colab": {
          "base_uri": "https://localhost:8080/"
        },
        "id": "21a54bqEJCGU",
        "outputId": "0599b9d3-36d2-4fb2-e8b6-d3bc45e5beaa"
      },
      "source": [
        "#we have already inversed the y_artvalid for the saved modelherefore no need to change it for the new model prediction as we are using same dataset\n",
        "##checking classification report of new model for the prediction of artist using lyrics dataset of CNN model build from scratch\n",
        "print(confusion_matrix(y_artvalid_actual,artist_pred_newmodelcnn_actual))\n",
        "print(classification_report(y_artvalid_actual,artist_pred_newmodelcnn_actual))"
      ],
      "execution_count": null,
      "outputs": [
        {
          "output_type": "stream",
          "text": [
            "[[ 70   0   1   2   0   6   0   0   0   0]\n",
            " [  1  29   1   1   4   7   2  20   8   5]\n",
            " [  0   2  61   3   0   3   0   0   3   1]\n",
            " [  0   0   0 124   0   0   0   0   2   5]\n",
            " [  1   3   2   1  39   9   2  16   7   2]\n",
            " [  3   2   0   0   3  30   4  10   0   5]\n",
            " [  6   7   1   1   5   8  57   7   2   3]\n",
            " [  0   9   2   1   7   6   0 147   6   2]\n",
            " [  1   2   2   5   4   9   3   8  25   8]\n",
            " [  0   2   1   1   0   3   2   9  10  56]]\n",
            "                    precision    recall  f1-score   support\n",
            "\n",
            "      bad religion       0.85      0.89      0.87        79\n",
            "          bee gees       0.52      0.37      0.43        78\n",
            "           beyonce       0.86      0.84      0.85        73\n",
            "       chris brown       0.89      0.95      0.92       131\n",
            "   ella fitzgerald       0.63      0.48      0.54        82\n",
            "        elton john       0.37      0.53      0.43        57\n",
            "    elvis costello       0.81      0.59      0.68        97\n",
            "     elvis presley       0.68      0.82      0.74       180\n",
            "              glee       0.40      0.37      0.38        67\n",
            "the rolling stones       0.64      0.67      0.65        84\n",
            "\n",
            "          accuracy                           0.69       928\n",
            "         macro avg       0.67      0.65      0.65       928\n",
            "      weighted avg       0.69      0.69      0.68       928\n",
            "\n"
          ],
          "name": "stdout"
        }
      ]
    },
    {
      "cell_type": "code",
      "metadata": {
        "id": "Mb4SKjv9JCGU"
      },
      "source": [
        ""
      ],
      "execution_count": null,
      "outputs": []
    },
    {
      "cell_type": "code",
      "metadata": {
        "id": "W05OrdxLJCGU"
      },
      "source": [
        ""
      ],
      "execution_count": null,
      "outputs": []
    }
  ]
}
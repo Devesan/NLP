{
  "nbformat": 4,
  "nbformat_minor": 0,
  "metadata": {
    "kernelspec": {
      "display_name": "Python 3",
      "language": "python",
      "name": "python3"
    },
    "language_info": {
      "codemirror_mode": {
        "name": "ipython",
        "version": 3
      },
      "file_extension": ".py",
      "mimetype": "text/x-python",
      "name": "python",
      "nbconvert_exporter": "python",
      "pygments_lexer": "ipython3",
      "version": "3.7.3"
    },
    "colab": {
      "name": "Genre Classification.ipynb",
      "provenance": [],
      "collapsed_sections": []
    },
    "accelerator": "GPU"
  },
  "cells": [
    {
      "cell_type": "markdown",
      "metadata": {
        "id": "XtyvTFv4AkfW"
      },
      "source": [
        "#Importing all Required Libraries and packages"
      ]
    },
    {
      "cell_type": "code",
      "metadata": {
        "id": "wmhbQxXLAiUS"
      },
      "source": [
        "import pandas as pd\n",
        "from sklearn.feature_extraction.text import CountVectorizer\n",
        "from sklearn.feature_extraction.text import TfidfVectorizer\n",
        "from sklearn.preprocessing import LabelEncoder\n",
        "from sklearn.model_selection import train_test_split\n",
        "from sklearn.metrics import confusion_matrix\n",
        "from sklearn.metrics import accuracy_score, recall_score, precision_score, f1_score\n",
        "import keras\n",
        "from keras.layers import Dense, Embedding, LSTM, Dropout,SimpleRNN\n",
        "from keras.models import Sequential\n",
        "from sklearn.feature_extraction.text import CountVectorizer\n",
        "from keras.preprocessing.text import Tokenizer\n",
        "from keras.preprocessing.sequence import pad_sequences\n",
        "from sklearn.model_selection import train_test_split\n",
        "from keras.utils.np_utils import to_categorical\n",
        "from keras.callbacks import EarlyStopping,ModelCheckpoint\n",
        "from nltk.stem import PorterStemmer\n",
        "from nltk.corpus import stopwords\n",
        "import nltk\n",
        "import string\n",
        "import re\n",
        "from nltk.stem.wordnet import WordNetLemmatizer\n",
        "import matplotlib.pyplot as plt\n",
        "import seaborn as sns\n",
        "from keras.callbacks import EarlyStopping\n",
        "import numpy as np\n",
        "from sklearn.metrics import accuracy_score, confusion_matrix,classification_report\n",
        "from sklearn.metrics import confusion_matrix\n",
        "from keras.layers.convolutional import Conv1D\n",
        "from keras.layers import Dense, Input,Reshape,Concatenate,Flatten\n",
        "from keras.layers import MaxPooling1D\n",
        "from keras.models import Sequential, Model, load_model\n",
        "from keras import regularizers\n",
        "from tensorflow.keras import layers\n",
        "import matplotlib.pyplot as plt\n",
        "import tensorflow as tf\n",
        "import tensorflow_hub as hub\n"
      ],
      "execution_count": null,
      "outputs": []
    },
    {
      "cell_type": "markdown",
      "metadata": {
        "id": "RkDhRnhl-BaY"
      },
      "source": [
        "#Downloading the dataset from shared googledrive and saving it in a variable"
      ]
    },
    {
      "cell_type": "code",
      "metadata": {
        "colab": {
          "base_uri": "https://localhost:8080/"
        },
        "id": "2GJ9-9YY9-CW",
        "outputId": "45f0346f-615f-4555-e073-93f039d72e9e"
      },
      "source": [
        "##download test dataset\n",
        "!gdown --id \"1rshUMSv5MJj_nNzXpNWsbkU0Y65UYLJN\"\n",
        "##download test dataset\n",
        "!gdown --id \"10HbGYRRaqvx4RctKIm5o7mmpXAGPVw59\""
      ],
      "execution_count": null,
      "outputs": [
        {
          "output_type": "stream",
          "text": [
            "Downloading...\n",
            "From: https://drive.google.com/uc?id=1rshUMSv5MJj_nNzXpNWsbkU0Y65UYLJN\n",
            "To: /content/test.csv\n",
            "10.1MB [00:00, 89.5MB/s]\n",
            "Downloading...\n",
            "From: https://drive.google.com/uc?id=10HbGYRRaqvx4RctKIm5o7mmpXAGPVw59\n",
            "To: /content/train.csv\n",
            "358MB [00:03, 118MB/s] \n"
          ],
          "name": "stdout"
        }
      ]
    },
    {
      "cell_type": "code",
      "metadata": {
        "id": "z0aAYeRC8ZCj"
      },
      "source": [
        "trainpath=\"/content/train.csv\"\n",
        "train_data=pd.read_csv(trainpath)\n",
        "testpath=\"/content/test.csv\"\n",
        "test_data=pd.read_csv(testpath)"
      ],
      "execution_count": null,
      "outputs": []
    },
    {
      "cell_type": "code",
      "metadata": {
        "colab": {
          "base_uri": "https://localhost:8080/",
          "height": 194
        },
        "id": "9_XDThk48jT6",
        "outputId": "a93f0937-e417-413b-8b86-7840000575ce"
      },
      "source": [
        "##reading train data\n",
        "train_data.head()"
      ],
      "execution_count": null,
      "outputs": [
        {
          "output_type": "execute_result",
          "data": {
            "text/html": [
              "<div>\n",
              "<style scoped>\n",
              "    .dataframe tbody tr th:only-of-type {\n",
              "        vertical-align: middle;\n",
              "    }\n",
              "\n",
              "    .dataframe tbody tr th {\n",
              "        vertical-align: top;\n",
              "    }\n",
              "\n",
              "    .dataframe thead th {\n",
              "        text-align: right;\n",
              "    }\n",
              "</style>\n",
              "<table border=\"1\" class=\"dataframe\">\n",
              "  <thead>\n",
              "    <tr style=\"text-align: right;\">\n",
              "      <th></th>\n",
              "      <th>Artist</th>\n",
              "      <th>Song</th>\n",
              "      <th>Genre</th>\n",
              "      <th>Language</th>\n",
              "      <th>Lyrics</th>\n",
              "    </tr>\n",
              "  </thead>\n",
              "  <tbody>\n",
              "    <tr>\n",
              "      <th>0</th>\n",
              "      <td>12 stones</td>\n",
              "      <td>world so cold</td>\n",
              "      <td>Rock</td>\n",
              "      <td>en</td>\n",
              "      <td>It starts with pain, followed by hate\\nFueled ...</td>\n",
              "    </tr>\n",
              "    <tr>\n",
              "      <th>1</th>\n",
              "      <td>12 stones</td>\n",
              "      <td>broken</td>\n",
              "      <td>Rock</td>\n",
              "      <td>en</td>\n",
              "      <td>Freedom!\\nAlone again again alone\\nPatiently w...</td>\n",
              "    </tr>\n",
              "    <tr>\n",
              "      <th>2</th>\n",
              "      <td>12 stones</td>\n",
              "      <td>3 leaf loser</td>\n",
              "      <td>Rock</td>\n",
              "      <td>en</td>\n",
              "      <td>Biting the hand that feeds you, lying to the v...</td>\n",
              "    </tr>\n",
              "    <tr>\n",
              "      <th>3</th>\n",
              "      <td>12 stones</td>\n",
              "      <td>anthem for the underdog</td>\n",
              "      <td>Rock</td>\n",
              "      <td>en</td>\n",
              "      <td>You say you know just who I am\\nBut you can't ...</td>\n",
              "    </tr>\n",
              "    <tr>\n",
              "      <th>4</th>\n",
              "      <td>12 stones</td>\n",
              "      <td>adrenaline</td>\n",
              "      <td>Rock</td>\n",
              "      <td>en</td>\n",
              "      <td>My heart is beating faster can't control these...</td>\n",
              "    </tr>\n",
              "  </tbody>\n",
              "</table>\n",
              "</div>"
            ],
            "text/plain": [
              "      Artist  ...                                             Lyrics\n",
              "0  12 stones  ...  It starts with pain, followed by hate\\nFueled ...\n",
              "1  12 stones  ...  Freedom!\\nAlone again again alone\\nPatiently w...\n",
              "2  12 stones  ...  Biting the hand that feeds you, lying to the v...\n",
              "3  12 stones  ...  You say you know just who I am\\nBut you can't ...\n",
              "4  12 stones  ...  My heart is beating faster can't control these...\n",
              "\n",
              "[5 rows x 5 columns]"
            ]
          },
          "metadata": {
            "tags": []
          },
          "execution_count": 4
        }
      ]
    },
    {
      "cell_type": "code",
      "metadata": {
        "id": "zvHUYXHoSqjy",
        "colab": {
          "base_uri": "https://localhost:8080/",
          "height": 194
        },
        "outputId": "57f31292-c841-489d-fdb4-2c9a3e771e6b"
      },
      "source": [
        "#reading test data\n",
        "test_data.head()"
      ],
      "execution_count": null,
      "outputs": [
        {
          "output_type": "execute_result",
          "data": {
            "text/html": [
              "<div>\n",
              "<style scoped>\n",
              "    .dataframe tbody tr th:only-of-type {\n",
              "        vertical-align: middle;\n",
              "    }\n",
              "\n",
              "    .dataframe tbody tr th {\n",
              "        vertical-align: top;\n",
              "    }\n",
              "\n",
              "    .dataframe thead th {\n",
              "        text-align: right;\n",
              "    }\n",
              "</style>\n",
              "<table border=\"1\" class=\"dataframe\">\n",
              "  <thead>\n",
              "    <tr style=\"text-align: right;\">\n",
              "      <th></th>\n",
              "      <th>Song</th>\n",
              "      <th>Song year</th>\n",
              "      <th>Artist</th>\n",
              "      <th>Genre</th>\n",
              "      <th>Lyrics</th>\n",
              "      <th>Track_id</th>\n",
              "    </tr>\n",
              "  </thead>\n",
              "  <tbody>\n",
              "    <tr>\n",
              "      <th>0</th>\n",
              "      <td>craftsmanship</td>\n",
              "      <td>2005</td>\n",
              "      <td>buck-65</td>\n",
              "      <td>Hip-Hop</td>\n",
              "      <td>Most folks spend their days daydreaming of fin...</td>\n",
              "      <td>8294</td>\n",
              "    </tr>\n",
              "    <tr>\n",
              "      <th>1</th>\n",
              "      <td>come-on-out</td>\n",
              "      <td>2012</td>\n",
              "      <td>the-elwins</td>\n",
              "      <td>Indie</td>\n",
              "      <td>Take your cold hands and put them on my face\\n...</td>\n",
              "      <td>21621</td>\n",
              "    </tr>\n",
              "    <tr>\n",
              "      <th>2</th>\n",
              "      <td>riot</td>\n",
              "      <td>2013</td>\n",
              "      <td>bullet-for-my-valentine</td>\n",
              "      <td>Metal</td>\n",
              "      <td>Are you ready it's time for war\\nWe'll break d...</td>\n",
              "      <td>3301</td>\n",
              "    </tr>\n",
              "    <tr>\n",
              "      <th>3</th>\n",
              "      <td>that-s-what-girls-do</td>\n",
              "      <td>2007</td>\n",
              "      <td>dream-street</td>\n",
              "      <td>Pop</td>\n",
              "      <td>You ask me why I change the color of my hair\\n...</td>\n",
              "      <td>2773</td>\n",
              "    </tr>\n",
              "    <tr>\n",
              "      <th>4</th>\n",
              "      <td>believe-in-a-dollar</td>\n",
              "      <td>2012</td>\n",
              "      <td>cassidy</td>\n",
              "      <td>Hip-Hop</td>\n",
              "      <td>Do you believe in magic in a young girl's hear...</td>\n",
              "      <td>16797</td>\n",
              "    </tr>\n",
              "  </tbody>\n",
              "</table>\n",
              "</div>"
            ],
            "text/plain": [
              "                   Song  ...  Track_id\n",
              "0         craftsmanship  ...      8294\n",
              "1           come-on-out  ...     21621\n",
              "2                  riot  ...      3301\n",
              "3  that-s-what-girls-do  ...      2773\n",
              "4   believe-in-a-dollar  ...     16797\n",
              "\n",
              "[5 rows x 6 columns]"
            ]
          },
          "metadata": {
            "tags": []
          },
          "execution_count": 5
        }
      ]
    },
    {
      "cell_type": "markdown",
      "metadata": {
        "id": "1Jbe1ngGA1Dr"
      },
      "source": [
        "#Cleaning and Preprocessing"
      ]
    },
    {
      "cell_type": "code",
      "metadata": {
        "colab": {
          "base_uri": "https://localhost:8080/"
        },
        "id": "1_u_rC1852yZ",
        "outputId": "7bd4cfe1-759a-4b91-c072-2aedb88515de"
      },
      "source": [
        "nltk.download('stopwords')\n",
        "stop_words = set(stopwords.words('english'))\n",
        "stemer = PorterStemmer()"
      ],
      "execution_count": null,
      "outputs": [
        {
          "output_type": "stream",
          "text": [
            "[nltk_data] Downloading package stopwords to /root/nltk_data...\n",
            "[nltk_data]   Unzipping corpora/stopwords.zip.\n"
          ],
          "name": "stdout"
        }
      ]
    },
    {
      "cell_type": "code",
      "metadata": {
        "colab": {
          "base_uri": "https://localhost:8080/"
        },
        "id": "fqzzQF2s52yZ",
        "outputId": "82803a5a-79a8-4ec1-dcf9-b01d97dfbd04"
      },
      "source": [
        "punctuations = string.punctuation\n",
        "nltk.download('wordnet')\n",
        "lem = WordNetLemmatizer()\n",
        " \n",
        "def clean(text):\n",
        " \n",
        " cleaned_text = str(text).lower()\n",
        " cleaned_text = \"\".join(c for c in cleaned_text if c not in punctuations) \n",
        " words = cleaned_text.split() \n",
        " words = [i for i in words if i.isalpha()]\n",
        " pattern = '[0-9]'\n",
        " words = [re.sub(r'[^a-zA-Z]+$', '', i) for i in words]\n",
        " words = [re.sub(pattern, '', i) for i in words]\n",
        " words = \" \".join(words)\n",
        " #words=[stemer.stem(word) for word in words.split(\" \") if words not in stop_words]\n",
        " #words = [lem.lemmatize(word, pos='a') for word in words] \n",
        " cleaned_text = \"\".join(words) \n",
        " return cleaned_text"
      ],
      "execution_count": null,
      "outputs": [
        {
          "output_type": "stream",
          "text": [
            "[nltk_data] Downloading package wordnet to /root/nltk_data...\n",
            "[nltk_data]   Unzipping corpora/wordnet.zip.\n"
          ],
          "name": "stdout"
        }
      ]
    },
    {
      "cell_type": "code",
      "metadata": {
        "id": "pfJL5IKm52ya"
      },
      "source": [
        "train_data.dropna(inplace=True)"
      ],
      "execution_count": null,
      "outputs": []
    },
    {
      "cell_type": "code",
      "metadata": {
        "colab": {
          "base_uri": "https://localhost:8080/"
        },
        "id": "ZpXQxLGQ52ya",
        "outputId": "0467f853-d85c-4d3a-d09b-2a5a35bb6eee"
      },
      "source": [
        "train_data.isna().sum()"
      ],
      "execution_count": null,
      "outputs": [
        {
          "output_type": "execute_result",
          "data": {
            "text/plain": [
              "Artist      0\n",
              "Song        0\n",
              "Genre       0\n",
              "Language    0\n",
              "Lyrics      0\n",
              "dtype: int64"
            ]
          },
          "metadata": {
            "tags": []
          },
          "execution_count": 9
        }
      ]
    },
    {
      "cell_type": "code",
      "metadata": {
        "id": "r2I8tabT52yb"
      },
      "source": [
        "train_data[\"train_cleanedlyrics\"] = train_data[\"Lyrics\"].apply(clean)"
      ],
      "execution_count": null,
      "outputs": []
    },
    {
      "cell_type": "code",
      "metadata": {
        "colab": {
          "base_uri": "https://localhost:8080/",
          "height": 368
        },
        "id": "paHUML8Z52yb",
        "outputId": "b86805e1-7bc1-4cb3-a46e-04479260fb24"
      },
      "source": [
        "sns.countplot(train_data[\"Genre\"])\n",
        "plt.xlabel('Label')\n",
        "plt.title('genre_count')"
      ],
      "execution_count": null,
      "outputs": [
        {
          "output_type": "stream",
          "text": [
            "/usr/local/lib/python3.7/dist-packages/seaborn/_decorators.py:43: FutureWarning: Pass the following variable as a keyword arg: x. From version 0.12, the only valid positional argument will be `data`, and passing other arguments without an explicit keyword will result in an error or misinterpretation.\n",
            "  FutureWarning\n"
          ],
          "name": "stderr"
        },
        {
          "output_type": "execute_result",
          "data": {
            "text/plain": [
              "Text(0.5, 1.0, 'genre_count')"
            ]
          },
          "metadata": {
            "tags": []
          },
          "execution_count": 11
        },
        {
          "output_type": "display_data",
          "data": {
            "image/png": "[encoded data removed]",
            "text/plain": [
              "<Figure size 432x288 with 1 Axes>"
            ]
          },
          "metadata": {
            "tags": [],
            "needs_background": "light"
          }
        }
      ]
    },
    {
      "cell_type": "code",
      "metadata": {
        "colab": {
          "base_uri": "https://localhost:8080/"
        },
        "id": "cFT3d4cG52yb",
        "outputId": "dc3fd7c3-c0e1-460c-b34a-7f7821b6348e"
      },
      "source": [
        "le = LabelEncoder()\n",
        "train_data['genre_cat']=le.fit_transform(train_data['Genre'])\n",
        "y_lyr = to_categorical(train_data['genre_cat'], num_classes=10)\n",
        "n_most_common_words = 10000\n",
        "max_len = 50\n",
        "tokenizer = Tokenizer(num_words=n_most_common_words, filters='!\"#$%&()*+,-./:;<=>?@[\\]^_`{|}~', lower=True)\n",
        "tokenizer.fit_on_texts(train_data[\"train_cleanedlyrics\"].values)\n",
        "sequences = tokenizer.texts_to_sequences(train_data[\"train_cleanedlyrics\"].values)\n",
        "word_index = tokenizer.word_index\n",
        "print('Found %s unique tokens.' % len(word_index))\n",
        "x_lyr = pad_sequences(sequences, maxlen=max_len)"
      ],
      "execution_count": null,
      "outputs": [
        {
          "output_type": "stream",
          "text": [
            "Found 378499 unique tokens.\n"
          ],
          "name": "stdout"
        }
      ]
    },
    {
      "cell_type": "code",
      "metadata": {
        "colab": {
          "base_uri": "https://localhost:8080/",
          "height": 194
        },
        "id": "vgcjwJRE52yc",
        "outputId": "b0b88773-c9d9-4491-d117-587c0f0a25cc"
      },
      "source": [
        "train_data.head()"
      ],
      "execution_count": null,
      "outputs": [
        {
          "output_type": "execute_result",
          "data": {
            "text/html": [
              "<div>\n",
              "<style scoped>\n",
              "    .dataframe tbody tr th:only-of-type {\n",
              "        vertical-align: middle;\n",
              "    }\n",
              "\n",
              "    .dataframe tbody tr th {\n",
              "        vertical-align: top;\n",
              "    }\n",
              "\n",
              "    .dataframe thead th {\n",
              "        text-align: right;\n",
              "    }\n",
              "</style>\n",
              "<table border=\"1\" class=\"dataframe\">\n",
              "  <thead>\n",
              "    <tr style=\"text-align: right;\">\n",
              "      <th></th>\n",
              "      <th>Artist</th>\n",
              "      <th>Song</th>\n",
              "      <th>Genre</th>\n",
              "      <th>Language</th>\n",
              "      <th>Lyrics</th>\n",
              "      <th>train_cleanedlyrics</th>\n",
              "      <th>genre_cat</th>\n",
              "    </tr>\n",
              "  </thead>\n",
              "  <tbody>\n",
              "    <tr>\n",
              "      <th>0</th>\n",
              "      <td>12 stones</td>\n",
              "      <td>world so cold</td>\n",
              "      <td>Rock</td>\n",
              "      <td>en</td>\n",
              "      <td>It starts with pain, followed by hate\\nFueled ...</td>\n",
              "      <td>it starts with pain followed by hate fueled by...</td>\n",
              "      <td>9</td>\n",
              "    </tr>\n",
              "    <tr>\n",
              "      <th>1</th>\n",
              "      <td>12 stones</td>\n",
              "      <td>broken</td>\n",
              "      <td>Rock</td>\n",
              "      <td>en</td>\n",
              "      <td>Freedom!\\nAlone again again alone\\nPatiently w...</td>\n",
              "      <td>freedom alone again again alone patiently wait...</td>\n",
              "      <td>9</td>\n",
              "    </tr>\n",
              "    <tr>\n",
              "      <th>2</th>\n",
              "      <td>12 stones</td>\n",
              "      <td>3 leaf loser</td>\n",
              "      <td>Rock</td>\n",
              "      <td>en</td>\n",
              "      <td>Biting the hand that feeds you, lying to the v...</td>\n",
              "      <td>biting the hand that feeds you lying to the vo...</td>\n",
              "      <td>9</td>\n",
              "    </tr>\n",
              "    <tr>\n",
              "      <th>3</th>\n",
              "      <td>12 stones</td>\n",
              "      <td>anthem for the underdog</td>\n",
              "      <td>Rock</td>\n",
              "      <td>en</td>\n",
              "      <td>You say you know just who I am\\nBut you can't ...</td>\n",
              "      <td>you say you know just who i am but you cant im...</td>\n",
              "      <td>9</td>\n",
              "    </tr>\n",
              "    <tr>\n",
              "      <th>4</th>\n",
              "      <td>12 stones</td>\n",
              "      <td>adrenaline</td>\n",
              "      <td>Rock</td>\n",
              "      <td>en</td>\n",
              "      <td>My heart is beating faster can't control these...</td>\n",
              "      <td>my heart is beating faster cant control these ...</td>\n",
              "      <td>9</td>\n",
              "    </tr>\n",
              "  </tbody>\n",
              "</table>\n",
              "</div>"
            ],
            "text/plain": [
              "      Artist  ... genre_cat\n",
              "0  12 stones  ...         9\n",
              "1  12 stones  ...         9\n",
              "2  12 stones  ...         9\n",
              "3  12 stones  ...         9\n",
              "4  12 stones  ...         9\n",
              "\n",
              "[5 rows x 7 columns]"
            ]
          },
          "metadata": {
            "tags": []
          },
          "execution_count": 13
        }
      ]
    },
    {
      "cell_type": "code",
      "metadata": {
        "colab": {
          "base_uri": "https://localhost:8080/"
        },
        "id": "wgArJeSc52yc",
        "outputId": "39cfbc5b-a3b8-4025-bb74-b5c96ef535fd"
      },
      "source": [
        "x_train, x_valid, y_train, y_valid = train_test_split(x_lyr ,y_lyr , test_size=0.2, random_state=42)\n",
        "\n",
        "epochs = 10\n",
        "emb_dim = 150\n",
        "batch_size = 1000\n",
        "print((x_train.shape, y_train.shape, x_valid.shape, y_valid.shape))\n"
      ],
      "execution_count": null,
      "outputs": [
        {
          "output_type": "stream",
          "text": [
            "((232114, 50), (232114, 10), (58029, 50), (58029, 10))\n"
          ],
          "name": "stdout"
        }
      ]
    },
    {
      "cell_type": "markdown",
      "metadata": {
        "id": "iCEMDJC6WVaU"
      },
      "source": [
        "#Building Simple RNN Model"
      ]
    },
    {
      "cell_type": "code",
      "metadata": {
        "id": "F9s3jQvRWY4Z"
      },
      "source": [
        "n_most_common_words=10000\n",
        "model_simplernn = Sequential([Embedding(\n",
        "       n_most_common_words, emb_dim, input_length=x_lyr.shape[1],mask_zero=True),\n",
        "       SimpleRNN(units=32, activation=\"relu\"),\n",
        "        Dense(10, activation = 'softmax')])"
      ],
      "execution_count": null,
      "outputs": []
    },
    {
      "cell_type": "code",
      "metadata": {
        "colab": {
          "base_uri": "https://localhost:8080/"
        },
        "id": "fQHXtQgIYrHm",
        "outputId": "0c6da2cb-8d50-45e6-e04d-ffc131b5658e"
      },
      "source": [
        "model_simplernn.summary()"
      ],
      "execution_count": null,
      "outputs": [
        {
          "output_type": "stream",
          "text": [
            "Model: \"sequential\"\n",
            "_________________________________________________________________\n",
            "Layer (type)                 Output Shape              Param #   \n",
            "=================================================================\n",
            "embedding (Embedding)        (None, 50, 150)           1500000   \n",
            "_________________________________________________________________\n",
            "simple_rnn (SimpleRNN)       (None, 32)                5856      \n",
            "_________________________________________________________________\n",
            "dense (Dense)                (None, 10)                330       \n",
            "=================================================================\n",
            "Total params: 1,506,186\n",
            "Trainable params: 1,506,186\n",
            "Non-trainable params: 0\n",
            "_________________________________________________________________\n"
          ],
          "name": "stdout"
        }
      ]
    },
    {
      "cell_type": "code",
      "metadata": {
        "id": "6DtPLmgxYrO9"
      },
      "source": [
        "model_simplernn.compile(optimizer='adam', loss='categorical_crossentropy', metrics=['acc'])"
      ],
      "execution_count": null,
      "outputs": []
    },
    {
      "cell_type": "code",
      "metadata": {
        "colab": {
          "base_uri": "https://localhost:8080/"
        },
        "id": "b6F0uvLxY29S",
        "outputId": "26a62e14-a2ae-4e22-9c81-e02b774be0ea"
      },
      "source": [
        "hist_simplernn = model_simplernn.fit(x_train,y_train, epochs=10,batch_size=1000,\n",
        "\n",
        "                    validation_data=(x_valid,y_valid))"
      ],
      "execution_count": null,
      "outputs": [
        {
          "output_type": "stream",
          "text": [
            "Epoch 1/10\n",
            "233/233 [==============================] - 35s 136ms/step - loss: 1.7865 - acc: 0.3964 - val_loss: 1.3037 - val_acc: 0.5409\n",
            "Epoch 2/10\n",
            "233/233 [==============================] - 31s 134ms/step - loss: 1.2548 - acc: 0.5527 - val_loss: 1.2446 - val_acc: 0.5635\n",
            "Epoch 3/10\n",
            "233/233 [==============================] - 31s 133ms/step - loss: 1.1525 - acc: 0.5971 - val_loss: 1.2029 - val_acc: 0.5782\n",
            "Epoch 4/10\n",
            "233/233 [==============================] - 31s 133ms/step - loss: 1.0773 - acc: 0.6244 - val_loss: 1.2012 - val_acc: 0.5756\n",
            "Epoch 5/10\n",
            "233/233 [==============================] - 31s 133ms/step - loss: 1.0242 - acc: 0.6462 - val_loss: 1.2163 - val_acc: 0.5762\n",
            "Epoch 6/10\n",
            "233/233 [==============================] - 31s 133ms/step - loss: 0.9801 - acc: 0.6628 - val_loss: 1.2293 - val_acc: 0.5775\n",
            "Epoch 7/10\n",
            "233/233 [==============================] - 31s 133ms/step - loss: 0.9426 - acc: 0.6774 - val_loss: 1.2417 - val_acc: 0.5858\n",
            "Epoch 8/10\n",
            "233/233 [==============================] - 31s 134ms/step - loss: 0.9095 - acc: 0.6911 - val_loss: 1.2835 - val_acc: 0.5732\n",
            "Epoch 9/10\n",
            "233/233 [==============================] - 31s 135ms/step - loss: 0.8866 - acc: 0.6992 - val_loss: 1.3040 - val_acc: 0.5857\n",
            "Epoch 10/10\n",
            "233/233 [==============================] - 31s 132ms/step - loss: 0.8547 - acc: 0.7116 - val_loss: 1.3146 - val_acc: 0.5832\n"
          ],
          "name": "stdout"
        }
      ]
    },
    {
      "cell_type": "code",
      "metadata": {
        "colab": {
          "base_uri": "https://localhost:8080/",
          "height": 295
        },
        "id": "pXzF_6zMgvsv",
        "outputId": "0a00bbbd-c03b-45bf-9992-eee90b8b6e4f"
      },
      "source": [
        "##training vs Validation accuracy for simpleRNN model\n",
        "plt.plot(hist_simplernn.history['acc'])\n",
        "plt.plot(hist_simplernn.history['val_acc'])\n",
        "plt.title('model_SimpleRNN accuracy')\n",
        "plt.ylabel('accuracy')\n",
        "plt.xlabel('epoch')\n",
        "plt.legend(['train_accuracy', 'val_accuracy'], loc='upper left')\n",
        "plt.show()"
      ],
      "execution_count": null,
      "outputs": [
        {
          "output_type": "display_data",
          "data": {
            "image/png": "[encoded data removed]",
            "text/plain": [
              "<Figure size 432x288 with 1 Axes>"
            ]
          },
          "metadata": {
            "tags": [],
            "needs_background": "light"
          }
        }
      ]
    },
    {
      "cell_type": "code",
      "metadata": {
        "colab": {
          "base_uri": "https://localhost:8080/",
          "height": 295
        },
        "id": "W-u2FE2NhCZs",
        "outputId": "e5362bc7-98af-4f2e-80d2-a7e67961e527"
      },
      "source": [
        "##training vs Validation loss for SimpleRNN model\n",
        "plt.plot(hist_simplernn.history['loss'])\n",
        "plt.plot(hist_simplernn.history['val_loss'])\n",
        "plt.title('model_SimpleRNN loss')\n",
        "plt.ylabel('loss')\n",
        "plt.xlabel('epoch')\n",
        "plt.legend(['train_loss', 'validation_loss'], loc='upper left')\n",
        "plt.show()"
      ],
      "execution_count": null,
      "outputs": [
        {
          "output_type": "display_data",
          "data": {
            "image/png": "[encoded data removed]",
            "text/plain": [
              "<Figure size 432x288 with 1 Axes>"
            ]
          },
          "metadata": {
            "tags": [],
            "needs_background": "light"
          }
        }
      ]
    },
    {
      "cell_type": "markdown",
      "metadata": {
        "id": "ZnxLKyXnWH_O"
      },
      "source": [
        "#Building LSTM MODEL"
      ]
    },
    {
      "cell_type": "code",
      "metadata": {
        "colab": {
          "base_uri": "https://localhost:8080/"
        },
        "id": "7swretC_52yd",
        "outputId": "62dc917b-bedd-414f-837c-f79e40d2fca7"
      },
      "source": [
        "modellstm = Sequential()\n",
        "modellstm.add(Embedding(n_most_common_words, emb_dim, input_length=x_lyr.shape[1]))\n",
        "modellstm.add(LSTM(100, dropout=0.15, recurrent_dropout=0.15))\n",
        "modellstm.add(Dense(16, activation='relu'))\n",
        "modellstm.add(Dense(10, activation='softmax'))\n",
        "modellstm.compile(optimizer='adam', loss='categorical_crossentropy', metrics=['acc'])\n",
        "print(modellstm.summary())\n",
        "\n",
        "\n",
        "earlystop = EarlyStopping(monitor = 'val_loss',min_delta = 0,patience = 3, verbose = 1,restore_best_weights = True)\n",
        "#checkpoint = ModelCheckpoint(filepath, monitor='val_acc', verbose=1, save_best_only=True, mode='max')\n",
        "#callbacks_list = [checkpoint]"
      ],
      "execution_count": null,
      "outputs": [
        {
          "output_type": "stream",
          "text": [
            "WARNING:tensorflow:Layer lstm will not use cuDNN kernel since it doesn't meet the cuDNN kernel criteria. It will use generic GPU kernel as fallback when running on GPU\n",
            "Model: \"sequential_1\"\n",
            "_________________________________________________________________\n",
            "Layer (type)                 Output Shape              Param #   \n",
            "=================================================================\n",
            "embedding_1 (Embedding)      (None, 50, 150)           1500000   \n",
            "_________________________________________________________________\n",
            "lstm (LSTM)                  (None, 100)               100400    \n",
            "_________________________________________________________________\n",
            "dense_1 (Dense)              (None, 16)                1616      \n",
            "_________________________________________________________________\n",
            "dense_2 (Dense)              (None, 10)                170       \n",
            "=================================================================\n",
            "Total params: 1,602,186\n",
            "Trainable params: 1,602,186\n",
            "Non-trainable params: 0\n",
            "_________________________________________________________________\n",
            "None\n"
          ],
          "name": "stdout"
        }
      ]
    },
    {
      "cell_type": "code",
      "metadata": {
        "colab": {
          "base_uri": "https://localhost:8080/"
        },
        "id": "e6qpvWWb52yd",
        "outputId": "05962237-fb1b-40e8-e749-012c77debd66"
      },
      "source": [
        "hist_lstm=modellstm.fit(x_train, y_train, epochs=10, batch_size=1000,validation_data=(x_valid,y_valid),callbacks=[earlystop])\n",
        "\n",
        "# load and evaluate a saved model \n",
        "# load model\n"
      ],
      "execution_count": null,
      "outputs": [
        {
          "output_type": "stream",
          "text": [
            "Epoch 1/10\n",
            "233/233 [==============================] - 80s 333ms/step - loss: 1.6509 - acc: 0.4115 - val_loss: 1.2405 - val_acc: 0.5598\n",
            "Epoch 2/10\n",
            "233/233 [==============================] - 76s 326ms/step - loss: 1.2032 - acc: 0.5768 - val_loss: 1.1892 - val_acc: 0.5818\n",
            "Epoch 3/10\n",
            "233/233 [==============================] - 77s 329ms/step - loss: 1.1363 - acc: 0.6042 - val_loss: 1.1721 - val_acc: 0.5835\n",
            "Epoch 4/10\n",
            "233/233 [==============================] - 77s 330ms/step - loss: 1.0980 - acc: 0.6196 - val_loss: 1.1562 - val_acc: 0.5917\n",
            "Epoch 5/10\n",
            "233/233 [==============================] - 76s 328ms/step - loss: 1.0599 - acc: 0.6337 - val_loss: 1.1563 - val_acc: 0.5948\n",
            "Epoch 6/10\n",
            "233/233 [==============================] - 76s 327ms/step - loss: 1.0264 - acc: 0.6427 - val_loss: 1.1549 - val_acc: 0.5971\n",
            "Epoch 7/10\n",
            "233/233 [==============================] - 76s 328ms/step - loss: 1.0001 - acc: 0.6547 - val_loss: 1.1637 - val_acc: 0.5959\n",
            "Epoch 8/10\n",
            "233/233 [==============================] - 76s 327ms/step - loss: 0.9588 - acc: 0.6680 - val_loss: 1.1683 - val_acc: 0.5976\n",
            "Epoch 9/10\n",
            "233/233 [==============================] - 76s 327ms/step - loss: 0.9283 - acc: 0.6785 - val_loss: 1.1804 - val_acc: 0.6021\n",
            "Restoring model weights from the end of the best epoch.\n",
            "Epoch 00009: early stopping\n"
          ],
          "name": "stdout"
        }
      ]
    },
    {
      "cell_type": "code",
      "metadata": {
        "colab": {
          "base_uri": "https://localhost:8080/",
          "height": 295
        },
        "id": "NXrx6y4Zq6rE",
        "outputId": "05b4a928-4e48-4ae9-e8ee-12f8dc39dcb8"
      },
      "source": [
        "##training vs Validation accuracy for RNN LSTM model\n",
        "plt.plot(hist_lstm.history['acc'])\n",
        "plt.plot(hist_lstm.history['val_acc'])\n",
        "plt.title('model_lstm accuracy')\n",
        "plt.ylabel('accuracy')\n",
        "plt.xlabel('epoch')\n",
        "plt.legend(['train_accuracy', 'val_accuracy'], loc='upper left')\n",
        "plt.show()"
      ],
      "execution_count": null,
      "outputs": [
        {
          "output_type": "display_data",
          "data": {
            "image/png": "[encoded data removed]",
            "text/plain": [
              "<Figure size 432x288 with 1 Axes>"
            ]
          },
          "metadata": {
            "tags": [],
            "needs_background": "light"
          }
        }
      ]
    },
    {
      "cell_type": "code",
      "metadata": {
        "colab": {
          "base_uri": "https://localhost:8080/",
          "height": 295
        },
        "id": "Q9LSb6fh52ye",
        "outputId": "670e334a-c99b-41e0-c215-39e370593504"
      },
      "source": [
        "##training vs Validation loss for RNN LSTM model\n",
        "plt.plot(hist_lstm.history['loss'])\n",
        "plt.plot(hist_lstm.history['val_loss'])\n",
        "plt.title('model_lstm loss')\n",
        "plt.ylabel('loss')\n",
        "plt.xlabel('epoch')\n",
        "plt.legend(['train_loss', 'validation_loss'], loc='upper left')\n",
        "plt.show()"
      ],
      "execution_count": null,
      "outputs": [
        {
          "output_type": "display_data",
          "data": {
            "image/png": "[encoded data removed]",
            "text/plain": [
              "<Figure size 432x288 with 1 Axes>"
            ]
          },
          "metadata": {
            "tags": [],
            "needs_background": "light"
          }
        }
      ]
    },
    {
      "cell_type": "markdown",
      "metadata": {
        "id": "cLv_oNRxGgSe"
      },
      "source": [
        "Saving LSTM model"
      ]
    },
    {
      "cell_type": "code",
      "metadata": {
        "id": "CRUOjN6uGpWI"
      },
      "source": [
        "##Saving Pretrained model from tensorflowhub\n",
        "modellstm.save(\"/content/drive/MyDrive/Assignment_data/modellstm.h5\")\n",
        "#https://drive.google.com/file/d/1-2Llxr0o-y_8cD8lOLoFHcaJL3I8Kbq_/view?usp=sharing\n"
      ],
      "execution_count": null,
      "outputs": []
    },
    {
      "cell_type": "markdown",
      "metadata": {
        "id": "NcVjHPUxze12"
      },
      "source": [
        "#Analysing Test data"
      ]
    },
    {
      "cell_type": "code",
      "metadata": {
        "colab": {
          "base_uri": "https://localhost:8080/"
        },
        "id": "K9qtxUFa52yh",
        "outputId": "be4de778-bdee-4f1a-8794-011f2c0f0e21"
      },
      "source": [
        "test_data.head()\n",
        "test_data.isna().sum()"
      ],
      "execution_count": null,
      "outputs": [
        {
          "output_type": "execute_result",
          "data": {
            "text/plain": [
              "Song         0\n",
              "Song year    0\n",
              "Artist       0\n",
              "Genre        0\n",
              "Lyrics       0\n",
              "Track_id     0\n",
              "dtype: int64"
            ]
          },
          "metadata": {
            "tags": []
          },
          "execution_count": 26
        }
      ]
    },
    {
      "cell_type": "code",
      "metadata": {
        "id": "Yj0tHNjd52yi"
      },
      "source": [
        "test_data[\"test_cleanedlyrics\"] = test_data[\"Lyrics\"].apply(clean)"
      ],
      "execution_count": null,
      "outputs": []
    },
    {
      "cell_type": "code",
      "metadata": {
        "colab": {
          "base_uri": "https://localhost:8080/"
        },
        "id": "lcdDSxed52yi",
        "outputId": "173921ab-727c-4955-e58c-a34ff2deaa26"
      },
      "source": [
        "\n",
        "#label Encoding Target of test data and tokenizing the lyrics in test data as like train data\n",
        "test_data['genre_cat']=le.fit_transform(test_data['Genre'])\n",
        "ytest_lyr = to_categorical(test_data['genre_cat'], num_classes=10)\n",
        "\n",
        "n_most_common_words = 10000\n",
        "max_len = 50\n",
        "\n",
        "testsequences = tokenizer.texts_to_sequences(test_data[\"test_cleanedlyrics\"].values)\n",
        "testword_index = tokenizer.word_index\n",
        "print('Found %s unique tokens.' % len(testword_index))\n",
        "testx_lyr = pad_sequences(testsequences, maxlen=max_len)"
      ],
      "execution_count": null,
      "outputs": [
        {
          "output_type": "stream",
          "text": [
            "Found 378499 unique tokens.\n"
          ],
          "name": "stdout"
        }
      ]
    },
    {
      "cell_type": "markdown",
      "metadata": {
        "id": "C8vSiU_MBET7"
      },
      "source": [
        "#Evaluating the simpleRNN and LSTM Model on Test Data"
      ]
    },
    {
      "cell_type": "code",
      "metadata": {
        "colab": {
          "base_uri": "https://localhost:8080/"
        },
        "id": "Em4YWZ6K52yj",
        "outputId": "a7138602-e8dd-41b4-a113-ddde4ff858bc"
      },
      "source": [
        "#testx_lyr = pad_sequences(testsequences, maxlen=max_len)\n",
        "##EVALUATION ON TEST DATA USING SIMPLE_RNN\n",
        "actual_testpreds=model_simplernn.predict(testx_lyr)\n",
        "actual_testpreds=actual_testpreds.argmax(axis=1)\n",
        "final_testpred=le.inverse_transform(actual_testpreds)\n",
        "actual_y=test_data[\"Genre\"]\n",
        "pred_y=final_testpred\n",
        "print(confusion_matrix(actual_y, pred_y))\n",
        "print(classification_report(actual_y, pred_y))"
      ],
      "execution_count": null,
      "outputs": [
        {
          "output_type": "stream",
          "text": [
            "[[  0   0  13   0   0  27  10 195   0 565]\n",
            " [  0   0   2   1   1   3  31 316   0 306]\n",
            " [  0   0  13   0   2  13  31 129   0 307]\n",
            " [  0   0   2   1   2   7  17 742   0 189]\n",
            " [  0   1   3   0   2  10  25 167   0 302]\n",
            " [  0   0   0   0   0 112   7 205   0 336]\n",
            " [  0   0   0   0   1   6 329 154   0 320]\n",
            " [  0   0   3   0   1  26  25 575   0 480]\n",
            " [  0   0   1   0   4   7  21 243   3 231]\n",
            " [  0   0   4   0   2  18  77 436   0 873]]\n",
            "              precision    recall  f1-score   support\n",
            "\n",
            "     Country       0.00      0.00      0.00       810\n",
            "  Electronic       0.00      0.00      0.00       660\n",
            "        Folk       0.32      0.03      0.05       495\n",
            "     Hip-Hop       0.50      0.00      0.00       960\n",
            "       Indie       0.13      0.00      0.01       510\n",
            "        Jazz       0.49      0.17      0.25       660\n",
            "       Metal       0.57      0.41      0.48       810\n",
            "         Pop       0.18      0.52      0.27      1110\n",
            "         R&B       1.00      0.01      0.01       510\n",
            "        Rock       0.22      0.62      0.33      1410\n",
            "\n",
            "    accuracy                           0.24      7935\n",
            "   macro avg       0.34      0.18      0.14      7935\n",
            "weighted avg       0.32      0.24      0.17      7935\n",
            "\n"
          ],
          "name": "stdout"
        },
        {
          "output_type": "stream",
          "text": [
            "/usr/local/lib/python3.7/dist-packages/sklearn/metrics/_classification.py:1272: UndefinedMetricWarning: Precision and F-score are ill-defined and being set to 0.0 in labels with no predicted samples. Use `zero_division` parameter to control this behavior.\n",
            "  _warn_prf(average, modifier, msg_start, len(result))\n"
          ],
          "name": "stderr"
        }
      ]
    },
    {
      "cell_type": "code",
      "metadata": {
        "colab": {
          "base_uri": "https://localhost:8080/"
        },
        "id": "0glOtwGE52yj",
        "outputId": "e9e248f4-97c6-499a-f114-0d78d121d105"
      },
      "source": [
        "##EVALUATION ON TEST DATA USING SIMPLE_RNN OVERALL SCORES\n",
        "##overall accuracy score\n",
        "accuracy = accuracy_score(actual_y, pred_y)\n",
        "print('Accuracy: %f' % accuracy)\n",
        "#overall precision score\n",
        "precision = precision_score(actual_y, pred_y,average='weighted')\n",
        "print('Precision: %f' % precision)\n",
        "#overall f1 score\n",
        "f1 = f1_score(actual_y, pred_y,average='micro')\n",
        "print('F1 score: %f' % f1)\n",
        "recal = recall_score(actual_y, pred_y,average='micro')\n",
        "print('recall score: %f' % recal)"
      ],
      "execution_count": null,
      "outputs": [
        {
          "output_type": "stream",
          "text": [
            "Accuracy: 0.240454\n",
            "Precision: 0.317526\n",
            "F1 score: 0.240454\n",
            "recall score: 0.240454\n"
          ],
          "name": "stdout"
        },
        {
          "output_type": "stream",
          "text": [
            "/usr/local/lib/python3.7/dist-packages/sklearn/metrics/_classification.py:1272: UndefinedMetricWarning: Precision is ill-defined and being set to 0.0 in labels with no predicted samples. Use `zero_division` parameter to control this behavior.\n",
            "  _warn_prf(average, modifier, msg_start, len(result))\n"
          ],
          "name": "stderr"
        }
      ]
    },
    {
      "cell_type": "code",
      "metadata": {
        "colab": {
          "base_uri": "https://localhost:8080/"
        },
        "id": "J6-u0E8_52yj",
        "outputId": "6586a8be-249c-417c-9e0b-df5ad6e53afa"
      },
      "source": [
        "##EVALUATION ON TEST DATA USING RNN_LSTM\n",
        "actual_testpreds=modellstm.predict(testx_lyr)\n",
        "actual_testpreds=actual_testpreds.argmax(axis=1)\n",
        "final_testpred=le.inverse_transform(actual_testpreds)\n",
        "actual_y=test_data[\"Genre\"]\n",
        "pred_y=final_testpred\n",
        "print(confusion_matrix(actual_y, pred_y))\n",
        "print(classification_report(actual_y, pred_y))"
      ],
      "execution_count": null,
      "outputs": [
        {
          "output_type": "stream",
          "text": [
            "[[   0    0    1    0    0   23   11   83    0  692]\n",
            " [   0    0    0    0    0    4   46  231    0  379]\n",
            " [   0    0    0    0    1   16   23   67    0  388]\n",
            " [   0    0    0    0    0    1   16  711    0  232]\n",
            " [   0    0    0    0    1    4   19  103    0  383]\n",
            " [   0    0    0    0    0  147    8   99    0  406]\n",
            " [   0    0    0    0    0    0  417   82    0  311]\n",
            " [   0    0    0    0    0   27   27  420    0  636]\n",
            " [   0    0    0    0    0   11   20  163    0  316]\n",
            " [   0    0    0    0    1   13   98  258    0 1040]]\n",
            "              precision    recall  f1-score   support\n",
            "\n",
            "     Country       0.00      0.00      0.00       810\n",
            "  Electronic       0.00      0.00      0.00       660\n",
            "        Folk       0.00      0.00      0.00       495\n",
            "     Hip-Hop       0.00      0.00      0.00       960\n",
            "       Indie       0.33      0.00      0.00       510\n",
            "        Jazz       0.60      0.22      0.32       660\n",
            "       Metal       0.61      0.51      0.56       810\n",
            "         Pop       0.19      0.38      0.25      1110\n",
            "         R&B       0.00      0.00      0.00       510\n",
            "        Rock       0.22      0.74      0.34      1410\n",
            "\n",
            "    accuracy                           0.26      7935\n",
            "   macro avg       0.19      0.19      0.15      7935\n",
            "weighted avg       0.20      0.26      0.18      7935\n",
            "\n"
          ],
          "name": "stdout"
        },
        {
          "output_type": "stream",
          "text": [
            "/usr/local/lib/python3.7/dist-packages/sklearn/metrics/_classification.py:1272: UndefinedMetricWarning: Precision and F-score are ill-defined and being set to 0.0 in labels with no predicted samples. Use `zero_division` parameter to control this behavior.\n",
            "  _warn_prf(average, modifier, msg_start, len(result))\n"
          ],
          "name": "stderr"
        }
      ]
    },
    {
      "cell_type": "code",
      "metadata": {
        "colab": {
          "base_uri": "https://localhost:8080/"
        },
        "id": "NcV1dx6D52yj",
        "outputId": "c91a9801-673d-41f0-988b-50ba10800bef"
      },
      "source": [
        "##EVALUATION ON TEST DATA USING RNN_LSTM Overall Scores\n",
        "##overall accuracy score\n",
        "accuracy = accuracy_score(actual_y, pred_y)\n",
        "print('Accuracy: %f' % accuracy)\n",
        "#overall precision score\n",
        "precision = precision_score(actual_y, pred_y,average='weighted')\n",
        "print('Precision: %f' % precision)\n",
        "#overall f1 score\n",
        "f1 = f1_score(actual_y, pred_y,average='micro')\n",
        "print('F1 score: %f' % f1)\n",
        "recal = recall_score(actual_y, pred_y,average='micro')\n",
        "print('recall score: %f' % recal)"
      ],
      "execution_count": null,
      "outputs": [
        {
          "output_type": "stream",
          "text": [
            "Accuracy: 0.255198\n",
            "Precision: 0.198406\n",
            "F1 score: 0.255198\n",
            "recall score: 0.255198\n"
          ],
          "name": "stdout"
        },
        {
          "output_type": "stream",
          "text": [
            "/usr/local/lib/python3.7/dist-packages/sklearn/metrics/_classification.py:1272: UndefinedMetricWarning: Precision is ill-defined and being set to 0.0 in labels with no predicted samples. Use `zero_division` parameter to control this behavior.\n",
            "  _warn_prf(average, modifier, msg_start, len(result))\n"
          ],
          "name": "stderr"
        }
      ]
    },
    {
      "cell_type": "markdown",
      "metadata": {
        "id": "AbryyAMw52yn"
      },
      "source": [
        "# Pretrained using Glove and pretrained word Embeddings from tensorflow hub"
      ]
    },
    {
      "cell_type": "code",
      "metadata": {
        "colab": {
          "base_uri": "https://localhost:8080/"
        },
        "id": "oNKq0YbI52yn",
        "outputId": "0b17bf3a-7d50-4bd4-e8d0-fa8d2cdbf61b"
      },
      "source": [
        "##With pretrained glove embeddings\n",
        "!wget john.mccr.ae/downloads/glove.6B.50d.txt.gz\n",
        "!gunzip glove.6B.50d.txt.gz\n",
        "path_to_glove_file = \"glove.6B.50d.txt\"\n"
      ],
      "execution_count": null,
      "outputs": [
        {
          "output_type": "stream",
          "text": [
            "--2021-05-07 10:57:38--  http://john.mccr.ae/downloads/glove.6B.50d.txt.gz\n",
            "Resolving john.mccr.ae (john.mccr.ae)... 128.199.47.101\n",
            "Connecting to john.mccr.ae (john.mccr.ae)|128.199.47.101|:80... connected.\n",
            "HTTP request sent, awaiting response... 200 OK\n",
            "Length: 69182520 (66M) [application/x-gzip]\n",
            "Saving to: ‘glove.6B.50d.txt.gz’\n",
            "\n",
            "glove.6B.50d.txt.gz 100%[===================>]  65.98M   237MB/s    in 0.3s    \n",
            "\n",
            "2021-05-07 10:57:38 (237 MB/s) - ‘glove.6B.50d.txt.gz’ saved [69182520/69182520]\n",
            "\n"
          ],
          "name": "stdout"
        }
      ]
    },
    {
      "cell_type": "code",
      "metadata": {
        "colab": {
          "base_uri": "https://localhost:8080/"
        },
        "id": "Bw6G1imn52yn",
        "outputId": "bbe83f54-382c-4e2f-c5a0-bf462e48398d"
      },
      "source": [
        "import numpy as np\n",
        "embeddings_index = {}\n",
        "with open(path_to_glove_file,'r', encoding=\"utf-8\") as f:\n",
        "  for line in f:\n",
        "    values=line.split()\n",
        "    word=values[0]\n",
        "    coefs=np.asarray(values[1:],dtype='float32')\n",
        "    embeddings_index[word]=coefs\n",
        "  f.close()\n",
        "\n",
        "print('Found %s word vectors.' % len(embeddings_index))"
      ],
      "execution_count": null,
      "outputs": [
        {
          "output_type": "stream",
          "text": [
            "Found 400000 word vectors.\n"
          ],
          "name": "stdout"
        }
      ]
    },
    {
      "cell_type": "code",
      "metadata": {
        "id": "J1Vx3h9X52yo"
      },
      "source": [
        "#vocab_size = 1000\n",
        "#oov_token = \"<OOV>\"\n",
        "max_length = 50\n",
        "#padding_type = \"post\"\n",
        "#trunction_type=\"post\"\n",
        "embedding_matrix = np.zeros((len(word_index) + 1, max_length))\n",
        "for word, i in word_index.items():\n",
        "    embedding_vector = embeddings_index.get(word)\n",
        "    if embedding_vector is not None:\n",
        "        # words not found in embedding index will be all-zeros.\n",
        "        embedding_matrix[i] = embedding_vector"
      ],
      "execution_count": null,
      "outputs": []
    },
    {
      "cell_type": "code",
      "metadata": {
        "id": "7xP-5zqh52yp"
      },
      "source": [
        "##Adding a embedding layer of pretrained unlike  embedding layer which was added in previous LSTM model\n",
        "embedding_layer = Embedding(len(word_index) + 1,\n",
        "                            max_length,\n",
        "                            weights=[embedding_matrix],\n",
        "                            input_length=max_length,\n",
        "                            trainable=False)"
      ],
      "execution_count": null,
      "outputs": []
    },
    {
      "cell_type": "code",
      "metadata": {
        "id": "vFYnxn8652yp"
      },
      "source": [
        "##INITIALIZING PRETRAINED MODEL USING GLOVE\n",
        "from keras.layers import Dense, Embedding, LSTM, Bidirectional\n",
        "embedding_dim = 100\n",
        "input_length = 50\n",
        "modelpretrained = Sequential([embedding_layer,\n",
        "  Bidirectional(LSTM(embedding_dim, return_sequences=True)),\n",
        "  Bidirectional(LSTM(embedding_dim,)),\n",
        "  Dense(128, activation='relu'),\n",
        "  Dense(10, activation='softmax')\n",
        "])\n",
        "#filepath=\"modelpretrained.hdf5\"\n",
        "earlystop = EarlyStopping(monitor = 'val_loss',min_delta = 0,patience = 3, verbose = 1,restore_best_weights = True)\n",
        "modelpretrained.compile(loss='categorical_crossentropy',optimizer='adam',metrics=['accuracy'])\n"
      ],
      "execution_count": null,
      "outputs": []
    },
    {
      "cell_type": "code",
      "metadata": {
        "colab": {
          "base_uri": "https://localhost:8080/"
        },
        "id": "HajeResO52yp",
        "outputId": "c5629988-0188-4005-b803-1e6fce656475"
      },
      "source": [
        "print(modelpretrained.summary())"
      ],
      "execution_count": null,
      "outputs": [
        {
          "output_type": "stream",
          "text": [
            "Model: \"sequential_2\"\n",
            "_________________________________________________________________\n",
            "Layer (type)                 Output Shape              Param #   \n",
            "=================================================================\n",
            "embedding_2 (Embedding)      (None, 50, 50)            18925000  \n",
            "_________________________________________________________________\n",
            "bidirectional (Bidirectional (None, 50, 200)           120800    \n",
            "_________________________________________________________________\n",
            "bidirectional_1 (Bidirection (None, 200)               240800    \n",
            "_________________________________________________________________\n",
            "dense_3 (Dense)              (None, 128)               25728     \n",
            "_________________________________________________________________\n",
            "dense_4 (Dense)              (None, 10)                1290      \n",
            "=================================================================\n",
            "Total params: 19,313,618\n",
            "Trainable params: 388,618\n",
            "Non-trainable params: 18,925,000\n",
            "_________________________________________________________________\n",
            "None\n"
          ],
          "name": "stdout"
        }
      ]
    },
    {
      "cell_type": "code",
      "metadata": {
        "colab": {
          "base_uri": "https://localhost:8080/"
        },
        "id": "z0mhVMtl52yp",
        "outputId": "131908a4-0826-432e-a13b-53ae928bfb1b"
      },
      "source": [
        "num_epochs=10\n",
        "hist_pretrained=modelpretrained.fit(x_train, y_train,batch_size=1000, epochs=num_epochs, validation_data=(x_valid, y_valid),callbacks=[earlystop])\n",
        "#modelpretrained.save(\"model.pretrain\")\n",
        "#modelpretrained = load_model('model.pretrain')\n"
      ],
      "execution_count": null,
      "outputs": [
        {
          "output_type": "stream",
          "text": [
            "Epoch 1/10\n",
            "233/233 [==============================] - 78s 193ms/step - loss: 1.4343 - accuracy: 0.4636 - val_loss: 1.3215 - val_accuracy: 0.4874\n",
            "Epoch 2/10\n",
            "233/233 [==============================] - 43s 186ms/step - loss: 1.3006 - accuracy: 0.5038 - val_loss: 1.2804 - val_accuracy: 0.5146\n",
            "Epoch 3/10\n",
            "233/233 [==============================] - 43s 185ms/step - loss: 1.2639 - accuracy: 0.5224 - val_loss: 1.2648 - val_accuracy: 0.5195\n",
            "Epoch 4/10\n",
            "233/233 [==============================] - 43s 186ms/step - loss: 1.2436 - accuracy: 0.5333 - val_loss: 1.2555 - val_accuracy: 0.5290\n",
            "Epoch 5/10\n",
            "233/233 [==============================] - 43s 186ms/step - loss: 1.2276 - accuracy: 0.5435 - val_loss: 1.2289 - val_accuracy: 0.5448\n",
            "Epoch 6/10\n",
            "233/233 [==============================] - 43s 185ms/step - loss: 1.2061 - accuracy: 0.5541 - val_loss: 1.2222 - val_accuracy: 0.5397\n",
            "Epoch 7/10\n",
            "233/233 [==============================] - 43s 186ms/step - loss: 1.1878 - accuracy: 0.5621 - val_loss: 1.2101 - val_accuracy: 0.5521\n",
            "Epoch 8/10\n",
            "233/233 [==============================] - 43s 186ms/step - loss: 1.1764 - accuracy: 0.5679 - val_loss: 1.2144 - val_accuracy: 0.5493\n",
            "Epoch 9/10\n",
            "233/233 [==============================] - 43s 186ms/step - loss: 1.1543 - accuracy: 0.5791 - val_loss: 1.1909 - val_accuracy: 0.5657\n",
            "Epoch 10/10\n",
            "233/233 [==============================] - 43s 185ms/step - loss: 1.1408 - accuracy: 0.5830 - val_loss: 1.1891 - val_accuracy: 0.5649\n"
          ],
          "name": "stdout"
        }
      ]
    },
    {
      "cell_type": "code",
      "metadata": {
        "id": "dBekXcQH2YYQ"
      },
      "source": [
        ""
      ],
      "execution_count": null,
      "outputs": []
    },
    {
      "cell_type": "code",
      "metadata": {
        "colab": {
          "base_uri": "https://localhost:8080/",
          "height": 295
        },
        "id": "1X4Ootntdx6f",
        "outputId": "4ed91488-fcdf-43e8-fde1-6c07289c954f"
      },
      "source": [
        "##training vs Validation accuracy for Pretrained Glove\n",
        "plt.plot(hist_pretrained.history['accuracy'])\n",
        "plt.plot(hist_pretrained.history['val_accuracy'])\n",
        "plt.title('model_Pretrained accuracy')\n",
        "plt.ylabel('accuracy')\n",
        "plt.xlabel('epoch')\n",
        "plt.legend(['train_accuracy','val_accuracy'], loc='upper left')\n",
        "plt.show()"
      ],
      "execution_count": null,
      "outputs": [
        {
          "output_type": "display_data",
          "data": {
            "image/png": "[encoded data removed]",
            "text/plain": [
              "<Figure size 432x288 with 1 Axes>"
            ]
          },
          "metadata": {
            "tags": [],
            "needs_background": "light"
          }
        }
      ]
    },
    {
      "cell_type": "code",
      "metadata": {
        "colab": {
          "base_uri": "https://localhost:8080/",
          "height": 295
        },
        "id": "WMvrpVVXdx_p",
        "outputId": "4e7f48e8-7baf-419f-844a-be0bfa0f947b"
      },
      "source": [
        "##training vs Validation Loss for Pretrained Glove \n",
        "plt.plot(hist_pretrained.history['loss'])\n",
        "plt.plot(hist_pretrained.history['val_loss'])\n",
        "plt.title('model_Pretrained loss')\n",
        "plt.ylabel('accuracy')\n",
        "plt.xlabel('epoch')\n",
        "plt.legend(['train_loss','val_loss'], loc='upper left')\n",
        "plt.show()"
      ],
      "execution_count": null,
      "outputs": [
        {
          "output_type": "display_data",
          "data": {
            "image/png": "[encoded data removed]",
            "text/plain": [
              "<Figure size 432x288 with 1 Axes>"
            ]
          },
          "metadata": {
            "tags": [],
            "needs_background": "light"
          }
        }
      ]
    },
    {
      "cell_type": "code",
      "metadata": {
        "id": "Jq2yN_6k52yq",
        "colab": {
          "base_uri": "https://localhost:8080/"
        },
        "outputId": "4786fdd7-2921-4361-a0bf-1561b7f10088"
      },
      "source": [
        "test_data['genre_cat']=le.fit_transform(test_data['Genre'])\n",
        "ytest_lyr = to_categorical(test_data['genre_cat'], num_classes=10)\n",
        "\n",
        "n_most_common_words = 10000\n",
        "max_len = 50\n",
        "\n",
        "testsequences = tokenizer.texts_to_sequences(test_data[\"test_cleanedlyrics\"].values)\n",
        "testword_index = tokenizer.word_index\n",
        "print('Found %s unique tokens.' % len(testword_index))\n",
        "testx_lyr = pad_sequences(testsequences, maxlen=max_len)"
      ],
      "execution_count": null,
      "outputs": [
        {
          "output_type": "stream",
          "text": [
            "Found 378499 unique tokens.\n"
          ],
          "name": "stdout"
        }
      ]
    },
    {
      "cell_type": "code",
      "metadata": {
        "colab": {
          "base_uri": "https://localhost:8080/"
        },
        "id": "tkJ9KU2WgO4g",
        "outputId": "a6564437-5091-4637-bd0d-a60e3b825b8a"
      },
      "source": [
        "##EVALUATION ON TEST DATA USING Pretrained glove\n",
        "actual_testpreds=modelpretrained.predict(testx_lyr)\n",
        "actual_testpreds=actual_testpreds.argmax(axis=1)\n",
        "final_testpred=le.inverse_transform(actual_testpreds)\n",
        "actual_y=test_data[\"Genre\"]\n",
        "pred_y=final_testpred\n",
        "print(confusion_matrix(actual_y, pred_y))\n",
        "print(classification_report(actual_y, pred_y))"
      ],
      "execution_count": null,
      "outputs": [
        {
          "output_type": "stream",
          "text": [
            "[[   0    0    0    0    0   15    9   94    0  692]\n",
            " [   0    0    0    0    0    1   25  228    0  406]\n",
            " [   0    0    1    0    0    7   19   57    0  411]\n",
            " [   0    0    0    0    0    0    9  665    0  286]\n",
            " [   0    0    0    0    0    2   11   95    0  402]\n",
            " [   0    0    0    0    0   88    6  124    0  442]\n",
            " [   0    0    0    0    0    2  360   58    0  390]\n",
            " [   0    0    0    0    0   13   13  394    0  690]\n",
            " [   0    0    0    0    0    4   18  163    0  325]\n",
            " [   0    0    0    0    0    7   74  236    0 1093]]\n",
            "              precision    recall  f1-score   support\n",
            "\n",
            "     Country       0.00      0.00      0.00       810\n",
            "  Electronic       0.00      0.00      0.00       660\n",
            "        Folk       1.00      0.00      0.00       495\n",
            "     Hip-Hop       0.00      0.00      0.00       960\n",
            "       Indie       0.00      0.00      0.00       510\n",
            "        Jazz       0.63      0.13      0.22       660\n",
            "       Metal       0.66      0.44      0.53       810\n",
            "         Pop       0.19      0.35      0.24      1110\n",
            "         R&B       0.00      0.00      0.00       510\n",
            "        Rock       0.21      0.78      0.33      1410\n",
            "\n",
            "    accuracy                           0.24      7935\n",
            "   macro avg       0.27      0.17      0.13      7935\n",
            "weighted avg       0.25      0.24      0.17      7935\n",
            "\n"
          ],
          "name": "stdout"
        },
        {
          "output_type": "stream",
          "text": [
            "/usr/local/lib/python3.7/dist-packages/sklearn/metrics/_classification.py:1272: UndefinedMetricWarning: Precision and F-score are ill-defined and being set to 0.0 in labels with no predicted samples. Use `zero_division` parameter to control this behavior.\n",
            "  _warn_prf(average, modifier, msg_start, len(result))\n"
          ],
          "name": "stderr"
        }
      ]
    },
    {
      "cell_type": "code",
      "metadata": {
        "colab": {
          "base_uri": "https://localhost:8080/"
        },
        "id": "La9OKrV352yq",
        "outputId": "5055fe0a-4715-43bb-c82f-d5e47f7e120d"
      },
      "source": [
        "##EVALUATION ON TEST DATA USING ModelPretrained Overall Scores\n",
        "##overall accuracy score\n",
        "accuracy = accuracy_score(actual_y, pred_y)\n",
        "print('Accuracy: %f' % accuracy)\n",
        "#overall precision score\n",
        "precision = precision_score(actual_y, pred_y,average='weighted')\n",
        "print('Precision: %f' % precision)\n",
        "#overall f1 score\n",
        "f1 = f1_score(actual_y, pred_y,average='micro')\n",
        "print('F1 score: %f' % f1)\n",
        "recal = recall_score(actual_y, pred_y,average='micro')\n",
        "print('recall score: %f' % recal)"
      ],
      "execution_count": null,
      "outputs": [
        {
          "output_type": "stream",
          "text": [
            "/usr/local/lib/python3.7/dist-packages/sklearn/metrics/_classification.py:1272: UndefinedMetricWarning: Precision is ill-defined and being set to 0.0 in labels with no predicted samples. Use `zero_division` parameter to control this behavior.\n",
            "  _warn_prf(average, modifier, msg_start, len(result))\n"
          ],
          "name": "stderr"
        },
        {
          "output_type": "stream",
          "text": [
            "Accuracy: 0.243982\n",
            "Precision: 0.246472\n",
            "F1 score: 0.243982\n",
            "recall score: 0.243982\n"
          ],
          "name": "stdout"
        }
      ]
    },
    {
      "cell_type": "code",
      "metadata": {
        "id": "Gu-lzV_T52yq",
        "colab": {
          "base_uri": "https://localhost:8080/"
        },
        "outputId": "1dfc51d7-3dc5-4fc5-a8e8-e62214c2c52f"
      },
      "source": [
        "print(confusion_matrix(actual_y, pred_y))\n",
        "print(classification_report(actual_y, pred_y))"
      ],
      "execution_count": null,
      "outputs": [
        {
          "output_type": "stream",
          "text": [
            "[[   0    0    0    0    0   15    9   94    0  692]\n",
            " [   0    0    0    0    0    1   25  228    0  406]\n",
            " [   0    0    1    0    0    7   19   57    0  411]\n",
            " [   0    0    0    0    0    0    9  665    0  286]\n",
            " [   0    0    0    0    0    2   11   95    0  402]\n",
            " [   0    0    0    0    0   88    6  124    0  442]\n",
            " [   0    0    0    0    0    2  360   58    0  390]\n",
            " [   0    0    0    0    0   13   13  394    0  690]\n",
            " [   0    0    0    0    0    4   18  163    0  325]\n",
            " [   0    0    0    0    0    7   74  236    0 1093]]\n"
          ],
          "name": "stdout"
        },
        {
          "output_type": "stream",
          "text": [
            "/usr/local/lib/python3.7/dist-packages/sklearn/metrics/_classification.py:1272: UndefinedMetricWarning: Precision and F-score are ill-defined and being set to 0.0 in labels with no predicted samples. Use `zero_division` parameter to control this behavior.\n",
            "  _warn_prf(average, modifier, msg_start, len(result))\n"
          ],
          "name": "stderr"
        },
        {
          "output_type": "stream",
          "text": [
            "              precision    recall  f1-score   support\n",
            "\n",
            "     Country       0.00      0.00      0.00       810\n",
            "  Electronic       0.00      0.00      0.00       660\n",
            "        Folk       1.00      0.00      0.00       495\n",
            "     Hip-Hop       0.00      0.00      0.00       960\n",
            "       Indie       0.00      0.00      0.00       510\n",
            "        Jazz       0.63      0.13      0.22       660\n",
            "       Metal       0.66      0.44      0.53       810\n",
            "         Pop       0.19      0.35      0.24      1110\n",
            "         R&B       0.00      0.00      0.00       510\n",
            "        Rock       0.21      0.78      0.33      1410\n",
            "\n",
            "    accuracy                           0.24      7935\n",
            "   macro avg       0.27      0.17      0.13      7935\n",
            "weighted avg       0.25      0.24      0.17      7935\n",
            "\n"
          ],
          "name": "stdout"
        }
      ]
    },
    {
      "cell_type": "markdown",
      "metadata": {
        "id": "Y8mLtg6cpjPs"
      },
      "source": [
        "#Pretrained Model Using TensorFlow hub"
      ]
    },
    {
      "cell_type": "code",
      "metadata": {
        "id": "Rj1x7GyZ3v0J"
      },
      "source": [
        "##loading the cleaned lyrics to a variable\n",
        "textpret=train_data[\"train_cleanedlyrics\"]\n"
      ],
      "execution_count": null,
      "outputs": []
    },
    {
      "cell_type": "code",
      "metadata": {
        "id": "26yR_TiW3F4a"
      },
      "source": [
        "x_trainpre, x_validpre, y_trainpre, y_validpre = train_test_split(textpret, y_lyr , test_size=0.2, random_state=42)"
      ],
      "execution_count": null,
      "outputs": []
    },
    {
      "cell_type": "code",
      "metadata": {
        "colab": {
          "base_uri": "https://localhost:8080/"
        },
        "id": "vVK--QG54tZk",
        "outputId": "04ca85a6-23b2-4556-a8f2-51dfdbce1956"
      },
      "source": [
        "y_lyr"
      ],
      "execution_count": null,
      "outputs": [
        {
          "output_type": "execute_result",
          "data": {
            "text/plain": [
              "array([[0., 0., 0., ..., 0., 0., 1.],\n",
              "       [0., 0., 0., ..., 0., 0., 1.],\n",
              "       [0., 0., 0., ..., 0., 0., 1.],\n",
              "       ...,\n",
              "       [0., 0., 0., ..., 1., 0., 0.],\n",
              "       [0., 0., 0., ..., 0., 0., 0.],\n",
              "       [0., 0., 0., ..., 1., 0., 0.]], dtype=float32)"
            ]
          },
          "metadata": {
            "tags": []
          },
          "execution_count": 48
        }
      ]
    },
    {
      "cell_type": "code",
      "metadata": {
        "colab": {
          "base_uri": "https://localhost:8080/"
        },
        "id": "W7ihPR0O40A7",
        "outputId": "13aa5067-cff5-4399-82ac-0a887c8fbe28"
      },
      "source": [
        "print(x_trainpre.shape,y_trainpre.shape,x_validpre.shape,y_validpre.shape)"
      ],
      "execution_count": null,
      "outputs": [
        {
          "output_type": "stream",
          "text": [
            "(232114,) (232114, 10) (58029,) (58029, 10)\n"
          ],
          "name": "stdout"
        }
      ]
    },
    {
      "cell_type": "code",
      "metadata": {
        "colab": {
          "base_uri": "https://localhost:8080/"
        },
        "id": "hR6z6Kj4vTdS",
        "outputId": "c759a4de-4ce9-4ea5-daa5-62ea2fd4096e"
      },
      "source": [
        "print(\"Version: \", tf.__version__)\n",
        "print(\"Eager mode: \", tf.executing_eagerly())\n",
        "print(\"Hub version: \", hub.__version__)\n",
        "print(\"GPU is\", \"available\" if tf.config.list_physical_devices(\"GPU\") else \"NOT AVAILABLE\")"
      ],
      "execution_count": null,
      "outputs": [
        {
          "output_type": "stream",
          "text": [
            "Version:  2.4.1\n",
            "Eager mode:  True\n",
            "Hub version:  0.12.0\n",
            "GPU is available\n"
          ],
          "name": "stdout"
        }
      ]
    },
    {
      "cell_type": "code",
      "metadata": {
        "id": "BJp2i2iOpiBO"
      },
      "source": [
        "##loading embedding layer from Tensorflow hub\n",
        "import tensorflow as tf\n",
        "import tensorflow_hub as hub\n",
        "embed_tfhub = \"https://tfhub.dev/google/nnlm-en-dim50/2\"\n",
        "\n",
        "tfhub_layer = hub.KerasLayer(embed_tfhub, input_shape=[], \n",
        "\n",
        "                           dtype=tf.string, trainable=True)"
      ],
      "execution_count": null,
      "outputs": []
    },
    {
      "cell_type": "code",
      "metadata": {
        "colab": {
          "base_uri": "https://localhost:8080/"
        },
        "id": "82fmgxc-2lc9",
        "outputId": "a5c46740-b22b-4f93-c1f4-d701a9ea4add"
      },
      "source": [
        "tfhub_layer(x_trainpre[:3])"
      ],
      "execution_count": null,
      "outputs": [
        {
          "output_type": "execute_result",
          "data": {
            "text/plain": [
              "<tf.Tensor: shape=(3, 50), dtype=float32, numpy=\n",
              "array([[ 7.66106367e-01, -5.33857346e-01, -2.76637942e-01,\n",
              "         6.58144504e-02, -3.32467034e-02,  2.87731178e-02,\n",
              "         1.23247132e-01, -3.19965035e-02, -3.91839623e-01,\n",
              "         2.48524591e-01, -2.02556681e-02,  2.50358075e-01,\n",
              "         1.04216775e-02,  1.78914666e-01, -5.22279859e-01,\n",
              "        -3.07866007e-01,  1.29007757e-01,  6.33068919e-01,\n",
              "        -1.67566106e-01, -6.76524222e-01, -1.15873180e-01,\n",
              "         3.40475589e-02,  3.37397724e-01,  5.22854365e-02,\n",
              "        -4.34449524e-01,  5.15831590e-01, -7.85041392e-01,\n",
              "         3.67703550e-02,  4.48745847e-01, -3.07481110e-01,\n",
              "        -1.63675845e-01,  1.28532737e-01,  1.99929968e-01,\n",
              "        -2.42527202e-03, -5.90507910e-02, -1.01157255e-01,\n",
              "         2.47559056e-01,  1.72649413e-01, -5.51389270e-02,\n",
              "        -6.91507041e-01,  5.42513609e-01,  2.18435839e-01,\n",
              "         2.31433392e-01, -1.12574436e-01, -6.57749653e-01,\n",
              "         1.38689980e-01, -3.54669213e-01, -7.85286352e-02,\n",
              "         4.28313434e-01,  8.41670204e-03],\n",
              "       [ 7.95795083e-01, -8.19350600e-01, -9.84795928e-01,\n",
              "         6.56927526e-01,  2.82095611e-01, -2.84045875e-01,\n",
              "         7.50709414e-01, -7.72789419e-01, -1.08973145e+00,\n",
              "         9.37923133e-01,  5.20492911e-01,  5.99535167e-01,\n",
              "         9.08893766e-04,  6.86237931e-01, -1.13501942e+00,\n",
              "        -5.37362754e-01,  1.59153640e-01,  3.61164302e-01,\n",
              "         4.57661778e-01, -1.46345031e+00, -6.41743168e-02,\n",
              "         3.25563028e-02,  8.49077642e-01,  1.20012216e-01,\n",
              "        -8.12280893e-01,  4.91243243e-01, -2.35303974e+00,\n",
              "         4.66965325e-02,  2.09144190e-01, -7.89949000e-01,\n",
              "        -4.20035154e-01,  9.48193133e-01,  9.97133434e-01,\n",
              "        -2.84171820e-01, -1.16360188e+00,  2.55626708e-01,\n",
              "         7.13996828e-01, -2.59855598e-01, -4.68500629e-02,\n",
              "        -1.17992222e+00,  1.17611623e+00,  1.15794694e+00,\n",
              "        -3.53688270e-01,  1.45345524e-01, -6.33694351e-01,\n",
              "         3.71725142e-01, -1.02442575e+00, -3.36420774e-01,\n",
              "         6.72294676e-01,  5.65183342e-01],\n",
              "       [ 4.49550867e-01, -3.11383605e-01, -2.27695048e-01,\n",
              "         8.19293916e-01, -1.59200847e-01, -1.71828523e-01,\n",
              "         8.26064765e-01, -5.76533228e-02, -8.87785137e-01,\n",
              "         5.51698685e-01,  2.57362813e-01,  4.63198870e-01,\n",
              "        -2.43121367e-02,  2.32285872e-01, -4.03289884e-01,\n",
              "        -7.65264511e-01, -2.21636072e-02, -6.32949248e-02,\n",
              "         3.27273399e-01, -1.12064755e+00, -1.69482350e-01,\n",
              "        -3.13120127e-01,  5.39265871e-01, -1.40122836e-02,\n",
              "        -7.98538700e-02,  1.05124402e+00, -1.17896438e+00,\n",
              "         9.29688290e-02,  2.63468146e-01, -1.02465701e+00,\n",
              "        -3.12451929e-01,  1.98421061e-01,  5.45297146e-01,\n",
              "        -3.28297108e-01, -8.39880228e-01, -9.05094519e-02,\n",
              "         1.95085868e-01, -3.41620785e-03,  7.02540725e-02,\n",
              "        -1.12260842e+00,  2.73153722e-01,  4.45223212e-01,\n",
              "        -1.49623543e-01,  2.45851293e-01, -2.19089374e-01,\n",
              "         2.77532846e-01, -2.95365423e-01, -1.38126656e-01,\n",
              "         4.61874783e-01,  1.27530724e-01]], dtype=float32)>"
            ]
          },
          "metadata": {
            "tags": []
          },
          "execution_count": 57
        }
      ]
    },
    {
      "cell_type": "code",
      "metadata": {
        "id": "koWi7W9yqvRD"
      },
      "source": [
        "##building model\n",
        "model_tfpret = tf.keras.Sequential([\n",
        "    tfhub_layer,Dense(32, activation='relu'),\n",
        "    Dense(10, activation = 'softmax')])"
      ],
      "execution_count": null,
      "outputs": []
    },
    {
      "cell_type": "code",
      "metadata": {
        "id": "Hk_U-pCFrHYV"
      },
      "source": [
        "model_tfpret.compile(optimizer='adam', loss='categorical_crossentropy', metrics=['acc'])"
      ],
      "execution_count": null,
      "outputs": []
    },
    {
      "cell_type": "code",
      "metadata": {
        "colab": {
          "base_uri": "https://localhost:8080/"
        },
        "id": "DiRS-nCKrOxe",
        "outputId": "5b750fea-c8a3-44bd-fb36-087a7d844e68"
      },
      "source": [
        "model_tfpret.summary()"
      ],
      "execution_count": null,
      "outputs": [
        {
          "output_type": "stream",
          "text": [
            "Model: \"sequential_3\"\n",
            "_________________________________________________________________\n",
            "Layer (type)                 Output Shape              Param #   \n",
            "=================================================================\n",
            "keras_layer (KerasLayer)     (None, 50)                48190600  \n",
            "_________________________________________________________________\n",
            "dense_5 (Dense)              (None, 32)                1632      \n",
            "_________________________________________________________________\n",
            "dense_6 (Dense)              (None, 10)                330       \n",
            "=================================================================\n",
            "Total params: 48,192,562\n",
            "Trainable params: 48,192,562\n",
            "Non-trainable params: 0\n",
            "_________________________________________________________________\n"
          ],
          "name": "stdout"
        }
      ]
    },
    {
      "cell_type": "code",
      "metadata": {
        "colab": {
          "base_uri": "https://localhost:8080/"
        },
        "id": "RnRvrgUsrRwL",
        "outputId": "a1e1b361-794c-49b2-b624-624e0fa42f18"
      },
      "source": [
        "earlystop = EarlyStopping(monitor = 'val_loss',min_delta = 0,patience = 3, verbose = 1,restore_best_weights = True)\n",
        "hist_tfpret=model_tfpret.fit(x_trainpre, y_trainpre,batch_size=1000, epochs=10, validation_data=(x_validpre, y_validpre),callbacks=[earlystop])"
      ],
      "execution_count": null,
      "outputs": [
        {
          "output_type": "stream",
          "text": [
            "Epoch 1/10\n",
            "233/233 [==============================] - 26s 110ms/step - loss: 1.5221 - acc: 0.4625 - val_loss: 1.1840 - val_acc: 0.6051\n",
            "Epoch 2/10\n",
            "233/233 [==============================] - 25s 108ms/step - loss: 1.1247 - acc: 0.6242 - val_loss: 1.0895 - val_acc: 0.6323\n",
            "Epoch 3/10\n",
            "233/233 [==============================] - 25s 109ms/step - loss: 1.0182 - acc: 0.6591 - val_loss: 1.0653 - val_acc: 0.6340\n",
            "Epoch 4/10\n",
            "233/233 [==============================] - 26s 110ms/step - loss: 0.9561 - acc: 0.6783 - val_loss: 1.0485 - val_acc: 0.6463\n",
            "Epoch 5/10\n",
            "233/233 [==============================] - 25s 107ms/step - loss: 0.9022 - acc: 0.6956 - val_loss: 1.0559 - val_acc: 0.6485\n",
            "Epoch 6/10\n",
            "233/233 [==============================] - 25s 108ms/step - loss: 0.8550 - acc: 0.7096 - val_loss: 1.0504 - val_acc: 0.6517\n",
            "Epoch 7/10\n",
            "233/233 [==============================] - 25s 106ms/step - loss: 0.8104 - acc: 0.7259 - val_loss: 1.0600 - val_acc: 0.6541\n",
            "Restoring model weights from the end of the best epoch.\n",
            "Epoch 00007: early stopping\n"
          ],
          "name": "stdout"
        }
      ]
    },
    {
      "cell_type": "code",
      "metadata": {
        "colab": {
          "base_uri": "https://localhost:8080/",
          "height": 295
        },
        "id": "tcbnPVs-xZIw",
        "outputId": "2c2d95ce-cc0c-4f76-9f00-0a47d0b52594"
      },
      "source": [
        "##training vs Validation accuracy for Pretrained Tendorflow hub\n",
        "plt.plot(hist_tfpret.history['acc'])\n",
        "plt.plot(hist_tfpret.history['val_acc'])\n",
        "plt.title('model_Pretrained Tensorflowhub accuracy')\n",
        "plt.ylabel('accuracy')\n",
        "plt.xlabel('epoch')\n",
        "plt.legend(['train_accuracy','val_accuracy'], loc='upper left')\n",
        "plt.show()\n",
        "\n"
      ],
      "execution_count": null,
      "outputs": [
        {
          "output_type": "display_data",
          "data": {
            "image/png": "[encoded data removed]",
            "text/plain": [
              "<Figure size 432x288 with 1 Axes>"
            ]
          },
          "metadata": {
            "tags": [],
            "needs_background": "light"
          }
        }
      ]
    },
    {
      "cell_type": "code",
      "metadata": {
        "colab": {
          "base_uri": "https://localhost:8080/",
          "height": 295
        },
        "id": "QfAnvL2MzzDw",
        "outputId": "65bc4c51-39fa-4eaf-cf86-604d429d79ea"
      },
      "source": [
        "##training vs Validation Loss for Pretrained Glove \n",
        "plt.plot(hist_tfpret.history['loss'])\n",
        "plt.plot(hist_tfpret.history['val_loss'])\n",
        "plt.title('model_Pretrained tensorflow hub loss')\n",
        "plt.ylabel('loss')\n",
        "plt.xlabel('epoch')\n",
        "plt.legend(['train_loss','val_loss'], loc='upper left')\n",
        "plt.show()\n"
      ],
      "execution_count": null,
      "outputs": [
        {
          "output_type": "display_data",
          "data": {
            "image/png": "[encoded data removed]",
            "text/plain": [
              "<Figure size 432x288 with 1 Axes>"
            ]
          },
          "metadata": {
            "tags": [],
            "needs_background": "light"
          }
        }
      ]
    },
    {
      "cell_type": "code",
      "metadata": {
        "colab": {
          "base_uri": "https://localhost:8080/"
        },
        "id": "Xsv3StsL1hl-",
        "outputId": "952c4f04-e933-4461-d937-9b623cce715b"
      },
      "source": [
        "##evaluating on test data\n",
        "##EVALUATION ON TEST DATA USING Pretrained Tensorflowhub\n",
        "actual_testpreds=model_tfpret.predict(test_data[\"test_cleanedlyrics\"])\n",
        "actual_testpreds=actual_testpreds.argmax(axis=1)\n",
        "final_testpred=le.inverse_transform(actual_testpreds)\n",
        "actual_y=test_data[\"Genre\"]\n",
        "pred_y=final_testpred\n",
        "print(confusion_matrix(actual_y, pred_y))\n",
        "print(classification_report(actual_y, pred_y))\n"
      ],
      "execution_count": null,
      "outputs": [
        {
          "output_type": "stream",
          "text": [
            "[[  0   0  11   0   0  24   6 120   0 649]\n",
            " [  0   0   0   0   0   2  52 300   0 306]\n",
            " [  0   0  36   0   0   8  23  89   0 339]\n",
            " [  0   0   0   1   0   2  13 848   0  96]\n",
            " [  0   0   1   0   0   4  16 147   0 342]\n",
            " [  0   0   6   0   0 164   4 137   0 349]\n",
            " [  0   0   1   0   0   0 487  72   0 250]\n",
            " [  0   0   2   0   0  23  21 598   0 466]\n",
            " [  0   0   1   0   0   9  25 192   0 283]\n",
            " [  0   0   4   0   0  11 103 315   0 977]]\n",
            "              precision    recall  f1-score   support\n",
            "\n",
            "     Country       0.00      0.00      0.00       810\n",
            "  Electronic       0.00      0.00      0.00       660\n",
            "        Folk       0.58      0.07      0.13       495\n",
            "     Hip-Hop       1.00      0.00      0.00       960\n",
            "       Indie       0.00      0.00      0.00       510\n",
            "        Jazz       0.66      0.25      0.36       660\n",
            "       Metal       0.65      0.60      0.62       810\n",
            "         Pop       0.21      0.54      0.30      1110\n",
            "         R&B       0.00      0.00      0.00       510\n",
            "        Rock       0.24      0.69      0.36      1410\n",
            "\n",
            "    accuracy                           0.29      7935\n",
            "   macro avg       0.33      0.22      0.18      7935\n",
            "weighted avg       0.35      0.29      0.21      7935\n",
            "\n"
          ],
          "name": "stdout"
        },
        {
          "output_type": "stream",
          "text": [
            "/usr/local/lib/python3.7/dist-packages/sklearn/metrics/_classification.py:1272: UndefinedMetricWarning: Precision and F-score are ill-defined and being set to 0.0 in labels with no predicted samples. Use `zero_division` parameter to control this behavior.\n",
            "  _warn_prf(average, modifier, msg_start, len(result))\n"
          ],
          "name": "stderr"
        }
      ]
    },
    {
      "cell_type": "code",
      "metadata": {
        "colab": {
          "base_uri": "https://localhost:8080/"
        },
        "id": "JJOw1dcN1hpV",
        "outputId": "350bc736-5e0b-4c45-ff4b-8a3093fb5e5f"
      },
      "source": [
        "##EVALUATION ON TEST DATA USING ModelPretrained tensorflow hub Overall Scores\n",
        "##overall accuracy score\n",
        "accuracy = accuracy_score(actual_y, pred_y)\n",
        "print('Accuracy: %f' % accuracy)\n",
        "#overall precision score\n",
        "precision = precision_score(actual_y, pred_y,average='weighted')\n",
        "print('Precision: %f' % precision)\n",
        "#overall f1 score\n",
        "f1 = f1_score(actual_y, pred_y,average='weighted')\n",
        "print('F1 score: %f' % f1)\n",
        "recal = recall_score(actual_y, pred_y,average='weighted')\n",
        "print('recall score: %f' % recal)\n"
      ],
      "execution_count": null,
      "outputs": [
        {
          "output_type": "stream",
          "text": [
            "Accuracy: 0.285192\n",
            "Precision: 0.351191\n",
            "F1 score: 0.208232\n",
            "recall score: 0.285192\n"
          ],
          "name": "stdout"
        },
        {
          "output_type": "stream",
          "text": [
            "/usr/local/lib/python3.7/dist-packages/sklearn/metrics/_classification.py:1272: UndefinedMetricWarning: Precision is ill-defined and being set to 0.0 in labels with no predicted samples. Use `zero_division` parameter to control this behavior.\n",
            "  _warn_prf(average, modifier, msg_start, len(result))\n"
          ],
          "name": "stderr"
        }
      ]
    },
    {
      "cell_type": "code",
      "metadata": {
        "id": "_lW6XApy53g-"
      },
      "source": [
        "##Saving Pretrained model from tensorflowhub\n",
        "model_tfpret.save(\"/content/drive/MyDrive/Assignment_data/model_tfpret.h5\")\n",
        "#https://drive.google.com/file/d/1auzMzSU9MaWIRoJ2pUBCHX0IPUHev0Bq/view?usp=sharing\n"
      ],
      "execution_count": null,
      "outputs": []
    },
    {
      "cell_type": "markdown",
      "metadata": {
        "id": "oWoMv-nU52yq"
      },
      "source": [
        "#Building CNN Model"
      ]
    },
    {
      "cell_type": "code",
      "metadata": {
        "id": "TfqDNsAh52yr"
      },
      "source": [
        "### using CNN\n",
        "num_filter = 250\n",
        "filter_length = 3\n",
        "hidden_dim = 250\n",
        "num_epoch = 10"
      ],
      "execution_count": null,
      "outputs": []
    },
    {
      "cell_type": "code",
      "metadata": {
        "colab": {
          "base_uri": "https://localhost:8080/"
        },
        "id": "3VAntVM852yr",
        "outputId": "82efe677-2265-4fba-ad72-2ee59945dc37"
      },
      "source": [
        "#https://medium.com/voice-tech-podcast/text-classification-using-cnn-9ade8155dfb9 USE THIS one\n",
        "top_words=10000\n",
        "modelCNN = Sequential()\n",
        "modelCNN.add(Embedding(top_words, 32, input_length=max_len))\n",
        "modelCNN.add(Conv1D(32, 3, padding='same', activation='relu'))\n",
        "modelCNN.add(MaxPooling1D())\n",
        "modelCNN.add(Flatten())\n",
        "modelCNN.add(Dense(6, activation='relu'))\n",
        "modelCNN.add(Dense(10, activation='softmax'))\n",
        "earlystop = EarlyStopping(monitor = 'val_loss',min_delta = 0,patience = 3, verbose = 1,restore_best_weights = True)\n",
        "modelCNN.summary()\n"
      ],
      "execution_count": null,
      "outputs": [
        {
          "output_type": "stream",
          "text": [
            "Model: \"sequential_4\"\n",
            "_________________________________________________________________\n",
            "Layer (type)                 Output Shape              Param #   \n",
            "=================================================================\n",
            "embedding_3 (Embedding)      (None, 50, 32)            320000    \n",
            "_________________________________________________________________\n",
            "conv1d (Conv1D)              (None, 50, 32)            3104      \n",
            "_________________________________________________________________\n",
            "max_pooling1d (MaxPooling1D) (None, 25, 32)            0         \n",
            "_________________________________________________________________\n",
            "flatten (Flatten)            (None, 800)               0         \n",
            "_________________________________________________________________\n",
            "dense_7 (Dense)              (None, 6)                 4806      \n",
            "_________________________________________________________________\n",
            "dense_8 (Dense)              (None, 10)                70        \n",
            "=================================================================\n",
            "Total params: 327,980\n",
            "Trainable params: 327,980\n",
            "Non-trainable params: 0\n",
            "_________________________________________________________________\n"
          ],
          "name": "stdout"
        }
      ]
    },
    {
      "cell_type": "code",
      "metadata": {
        "id": "eEMica1g52yr"
      },
      "source": [
        "modelCNN.compile(loss='categorical_crossentropy', optimizer='adam', metrics=['accuracy'])"
      ],
      "execution_count": null,
      "outputs": []
    },
    {
      "cell_type": "code",
      "metadata": {
        "colab": {
          "base_uri": "https://localhost:8080/"
        },
        "id": "u71e4ica52yr",
        "outputId": "b656ccae-02b4-494a-cb24-015ec46a5c7e"
      },
      "source": [
        "hist_cnn=modelCNN.fit(x_train, y_train, epochs=10,batch_size=128,validation_data=(x_valid, y_valid),verbose=2,callbacks=[earlystop])"
      ],
      "execution_count": null,
      "outputs": [
        {
          "output_type": "stream",
          "text": [
            "Epoch 1/10\n",
            "1814/1814 - 16s - loss: 1.3592 - accuracy: 0.4850 - val_loss: 1.2763 - val_accuracy: 0.5453\n",
            "Epoch 2/10\n",
            "1814/1814 - 15s - loss: 1.1889 - accuracy: 0.5790 - val_loss: 1.1779 - val_accuracy: 0.5862\n",
            "Epoch 3/10\n",
            "1814/1814 - 15s - loss: 1.0964 - accuracy: 0.6174 - val_loss: 1.1739 - val_accuracy: 0.5955\n",
            "Epoch 4/10\n",
            "1814/1814 - 15s - loss: 1.0178 - accuracy: 0.6505 - val_loss: 1.1798 - val_accuracy: 0.5994\n",
            "Epoch 5/10\n",
            "1814/1814 - 15s - loss: 0.9387 - accuracy: 0.6840 - val_loss: 1.2133 - val_accuracy: 0.5928\n",
            "Epoch 6/10\n",
            "1814/1814 - 15s - loss: 0.8692 - accuracy: 0.7116 - val_loss: 1.2624 - val_accuracy: 0.5954\n",
            "Restoring model weights from the end of the best epoch.\n",
            "Epoch 00006: early stopping\n"
          ],
          "name": "stdout"
        }
      ]
    },
    {
      "cell_type": "code",
      "metadata": {
        "colab": {
          "base_uri": "https://localhost:8080/",
          "height": 295
        },
        "id": "zBZunWBXlmf8",
        "outputId": "9389d335-dc7d-423b-8c80-42684e2cfeb5"
      },
      "source": [
        "##training vs Validation accuracy for CNN Model\n",
        "plt.plot(hist_cnn.history['accuracy'])\n",
        "plt.plot(hist_cnn.history['val_accuracy'])\n",
        "plt.title('model_CNN accuracy')\n",
        "plt.ylabel('accuracy')\n",
        "plt.xlabel('epoch')\n",
        "plt.legend(['train_accuracy','val_accuracy'], loc='upper left')\n",
        "plt.show()"
      ],
      "execution_count": null,
      "outputs": [
        {
          "output_type": "display_data",
          "data": {
            "image/png": "[encoded data removed]",
            "text/plain": [
              "<Figure size 432x288 with 1 Axes>"
            ]
          },
          "metadata": {
            "tags": [],
            "needs_background": "light"
          }
        }
      ]
    },
    {
      "cell_type": "code",
      "metadata": {
        "colab": {
          "base_uri": "https://localhost:8080/",
          "height": 295
        },
        "id": "1nEf0Wh2lmk_",
        "outputId": "18579391-2192-4648-b4b1-b427eef29ec3"
      },
      "source": [
        "##training vs Validation loss for CNN Model\n",
        "plt.plot(hist_cnn.history['loss'])\n",
        "plt.plot(hist_cnn.history['val_loss'])\n",
        "plt.title('model_CNN Loss')\n",
        "plt.ylabel('accuracy')\n",
        "plt.xlabel('epoch')\n",
        "plt.legend(['train_loss','val_loss'], loc='upper left')\n",
        "plt.show()"
      ],
      "execution_count": null,
      "outputs": [
        {
          "output_type": "display_data",
          "data": {
            "image/png": "[encoded data removed]",
            "text/plain": [
              "<Figure size 432x288 with 1 Axes>"
            ]
          },
          "metadata": {
            "tags": [],
            "needs_background": "light"
          }
        }
      ]
    },
    {
      "cell_type": "code",
      "metadata": {
        "colab": {
          "base_uri": "https://localhost:8080/"
        },
        "id": "VLD-RtKe52yr",
        "outputId": "11466ecf-95a2-4ff0-e650-a43b37939b7d"
      },
      "source": [
        "##EVALUATION ON TEST DATA USING Model CNN\n",
        "actual_testpreds=modelCNN.predict(testx_lyr)\n",
        "actual_testpreds=actual_testpreds.argmax(axis=1)\n",
        "final_testpred=le.inverse_transform(actual_testpreds)\n",
        "actual_y=test_data[\"Genre\"]\n",
        "pred_y=final_testpred\n",
        "print(confusion_matrix(actual_y, pred_y))\n",
        "print(classification_report(actual_y, pred_y))"
      ],
      "execution_count": null,
      "outputs": [
        {
          "output_type": "stream",
          "text": [
            "[[   0    0    0    0    0   20    6   67    0  717]\n",
            " [   0    0    0    0    0    6   46  195    0  413]\n",
            " [   0    0    0    0    0   17   22   53    0  403]\n",
            " [   0    0    0    2    0    4   23  678    0  253]\n",
            " [   0    0    0    0    0    4   20   72    0  414]\n",
            " [   0    0    0    0    0  125    7   79    0  449]\n",
            " [   0    0    0    0    0    2  368   58    0  382]\n",
            " [   0    0    0    0    0   20   25  372    0  693]\n",
            " [   0    0    0    0    0    7   27  136    0  340]\n",
            " [   0    0    0    0    0   11   85  170    0 1144]]\n",
            "              precision    recall  f1-score   support\n",
            "\n",
            "     Country       0.00      0.00      0.00       810\n",
            "  Electronic       0.00      0.00      0.00       660\n",
            "        Folk       0.00      0.00      0.00       495\n",
            "     Hip-Hop       1.00      0.00      0.00       960\n",
            "       Indie       0.00      0.00      0.00       510\n",
            "        Jazz       0.58      0.19      0.29       660\n",
            "       Metal       0.59      0.45      0.51       810\n",
            "         Pop       0.20      0.34      0.25      1110\n",
            "         R&B       0.00      0.00      0.00       510\n",
            "        Rock       0.22      0.81      0.35      1410\n",
            "\n",
            "    accuracy                           0.25      7935\n",
            "   macro avg       0.26      0.18      0.14      7935\n",
            "weighted avg       0.30      0.25      0.17      7935\n",
            "\n"
          ],
          "name": "stdout"
        },
        {
          "output_type": "stream",
          "text": [
            "/usr/local/lib/python3.7/dist-packages/sklearn/metrics/_classification.py:1272: UndefinedMetricWarning: Precision and F-score are ill-defined and being set to 0.0 in labels with no predicted samples. Use `zero_division` parameter to control this behavior.\n",
            "  _warn_prf(average, modifier, msg_start, len(result))\n"
          ],
          "name": "stderr"
        }
      ]
    },
    {
      "cell_type": "code",
      "metadata": {
        "colab": {
          "base_uri": "https://localhost:8080/"
        },
        "id": "ifTqFKA6nqM5",
        "outputId": "14c19074-75ee-4c7f-d91b-53d1cbbd201d"
      },
      "source": [
        "##EVALUATION ON TEST DATA USING Model CNN Overall Scores\n",
        "##overall accuracy score\n",
        "accuracy = accuracy_score(actual_y, pred_y)\n",
        "print('Accuracy: %f' % accuracy)\n",
        "#overall precision score\n",
        "precision = precision_score(actual_y, pred_y,average='weighted')\n",
        "print('Precision: %f' % precision)\n",
        "#overall f1 score\n",
        "f1 = f1_score(actual_y, pred_y,average='micro')\n",
        "print('F1 score: %f' % f1)\n",
        "recal = recall_score(actual_y, pred_y,average='micro')\n",
        "print('recall score: %f' % recal)"
      ],
      "execution_count": null,
      "outputs": [
        {
          "output_type": "stream",
          "text": [
            "/usr/local/lib/python3.7/dist-packages/sklearn/metrics/_classification.py:1272: UndefinedMetricWarning: Precision is ill-defined and being set to 0.0 in labels with no predicted samples. Use `zero_division` parameter to control this behavior.\n",
            "  _warn_prf(average, modifier, msg_start, len(result))\n"
          ],
          "name": "stderr"
        },
        {
          "output_type": "stream",
          "text": [
            "Accuracy: 0.253434\n",
            "Precision: 0.295552\n",
            "F1 score: 0.253434\n",
            "recall score: 0.253434\n"
          ],
          "name": "stdout"
        }
      ]
    },
    {
      "cell_type": "code",
      "metadata": {
        "id": "cuH407UI52ys",
        "colab": {
          "base_uri": "https://localhost:8080/"
        },
        "outputId": "39c46762-f90e-455a-c682-ece0feb68bd3"
      },
      "source": [
        "print(confusion_matrix(actual_y, pred_y))\n",
        "print(classification_report(actual_y, pred_y))"
      ],
      "execution_count": null,
      "outputs": [
        {
          "output_type": "stream",
          "text": [
            "[[   0    0    0    0    0   20    6   67    0  717]\n",
            " [   0    0    0    0    0    6   46  195    0  413]\n",
            " [   0    0    0    0    0   17   22   53    0  403]\n",
            " [   0    0    0    2    0    4   23  678    0  253]\n",
            " [   0    0    0    0    0    4   20   72    0  414]\n",
            " [   0    0    0    0    0  125    7   79    0  449]\n",
            " [   0    0    0    0    0    2  368   58    0  382]\n",
            " [   0    0    0    0    0   20   25  372    0  693]\n",
            " [   0    0    0    0    0    7   27  136    0  340]\n",
            " [   0    0    0    0    0   11   85  170    0 1144]]\n"
          ],
          "name": "stdout"
        },
        {
          "output_type": "stream",
          "text": [
            "/usr/local/lib/python3.7/dist-packages/sklearn/metrics/_classification.py:1272: UndefinedMetricWarning: Precision and F-score are ill-defined and being set to 0.0 in labels with no predicted samples. Use `zero_division` parameter to control this behavior.\n",
            "  _warn_prf(average, modifier, msg_start, len(result))\n"
          ],
          "name": "stderr"
        },
        {
          "output_type": "stream",
          "text": [
            "              precision    recall  f1-score   support\n",
            "\n",
            "     Country       0.00      0.00      0.00       810\n",
            "  Electronic       0.00      0.00      0.00       660\n",
            "        Folk       0.00      0.00      0.00       495\n",
            "     Hip-Hop       1.00      0.00      0.00       960\n",
            "       Indie       0.00      0.00      0.00       510\n",
            "        Jazz       0.58      0.19      0.29       660\n",
            "       Metal       0.59      0.45      0.51       810\n",
            "         Pop       0.20      0.34      0.25      1110\n",
            "         R&B       0.00      0.00      0.00       510\n",
            "        Rock       0.22      0.81      0.35      1410\n",
            "\n",
            "    accuracy                           0.25      7935\n",
            "   macro avg       0.26      0.18      0.14      7935\n",
            "weighted avg       0.30      0.25      0.17      7935\n",
            "\n"
          ],
          "name": "stdout"
        }
      ]
    },
    {
      "cell_type": "markdown",
      "metadata": {
        "id": "xhKUOKEtKFK_"
      },
      "source": [
        "Saving CNN Model"
      ]
    },
    {
      "cell_type": "code",
      "metadata": {
        "id": "6EudScGy52ys"
      },
      "source": [
        "##Saving Pretrained model from tensorflowhub\n",
        "#modelCNN.save(\"/content/drive/MyDrive/Assignment_data/modelCNN.h5\")\n",
        "#https://drive.google.com/file/d/1-7bX57WspQicjrS9g4V65_6ApBrAiOJj/view?usp=sharing\n",
        "\n"
      ],
      "execution_count": null,
      "outputs": []
    }
  ]
}